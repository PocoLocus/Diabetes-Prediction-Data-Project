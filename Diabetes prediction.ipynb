{
 "cells": [
  {
   "cell_type": "markdown",
   "id": "aa588071-dce3-4598-8267-90be5de091e1",
   "metadata": {},
   "source": [
    "# Project Overview"
   ]
  },
  {
   "cell_type": "markdown",
   "id": "254c0084-3cc8-4b79-b5c8-e7547626c152",
   "metadata": {},
   "source": [
    "For this project we will be analysing data from the <a href=\"https://www.kaggle.com/datasets/iammustafatz/diabetes-prediction-dataset\">Diabetes prediction dataset</a>, hosted on Kaggle. The Diabetes prediction dataset is a collection of medical and demographic data from patients, along with their diabetes status (positive or negative). The data includes features such as age, gender, body mass index (BMI), hypertension, heart disease, smoking history, HbA1c level, and blood glucose level.\n",
    "\n",
    "The objective of this project is twofold:\n",
    "- Exploratory Analysis: Investigate the relationships between demographic/medical factors and diabetes prevalence.\n",
    "- Predictive Modeling: Develop and evaluate machine learning and deep learning models to predict diabetes status based on patient information."
   ]
  },
  {
   "cell_type": "markdown",
   "id": "4385c3ee-ab8b-47d1-a892-55515fb48c75",
   "metadata": {},
   "source": [
    "# Data Collection"
   ]
  },
  {
   "cell_type": "code",
   "execution_count": 1,
   "id": "1cea169f-76fe-4dee-813e-7cced061e67a",
   "metadata": {},
   "outputs": [],
   "source": [
    "import numpy as np\n",
    "import pandas as pd\n",
    "import matplotlib.pyplot as plt\n",
    "import seaborn as sns\n",
    "%matplotlib inline"
   ]
  },
  {
   "cell_type": "code",
   "execution_count": 2,
   "id": "829aeeda-37c2-4d3f-ba12-7df78944a936",
   "metadata": {},
   "outputs": [],
   "source": [
    "sns.set_style(\"whitegrid\")"
   ]
  },
  {
   "cell_type": "code",
   "execution_count": 2,
   "id": "96b45523-8bdb-43f0-940b-b3946df69496",
   "metadata": {},
   "outputs": [],
   "source": [
    "df = pd.read_csv(\"diabetes_prediction_dataset.csv\")"
   ]
  },
  {
   "cell_type": "markdown",
   "id": "6d3e6ba4-471a-4bc3-bd43-8ac98c8221ea",
   "metadata": {},
   "source": [
    "**Dataframe info, description and head**"
   ]
  },
  {
   "cell_type": "code",
   "execution_count": 4,
   "id": "da2ae642-a641-4f05-9fdf-08b32584d8e4",
   "metadata": {},
   "outputs": [
    {
     "name": "stdout",
     "output_type": "stream",
     "text": [
      "<class 'pandas.core.frame.DataFrame'>\n",
      "RangeIndex: 100000 entries, 0 to 99999\n",
      "Data columns (total 9 columns):\n",
      " #   Column               Non-Null Count   Dtype  \n",
      "---  ------               --------------   -----  \n",
      " 0   gender               100000 non-null  object \n",
      " 1   age                  100000 non-null  float64\n",
      " 2   hypertension         100000 non-null  int64  \n",
      " 3   heart_disease        100000 non-null  int64  \n",
      " 4   smoking_history      100000 non-null  object \n",
      " 5   bmi                  100000 non-null  float64\n",
      " 6   HbA1c_level          100000 non-null  float64\n",
      " 7   blood_glucose_level  100000 non-null  int64  \n",
      " 8   diabetes             100000 non-null  int64  \n",
      "dtypes: float64(3), int64(4), object(2)\n",
      "memory usage: 6.9+ MB\n"
     ]
    }
   ],
   "source": [
    "df.info()"
   ]
  },
  {
   "cell_type": "markdown",
   "id": "c2a29f7d-bee8-44b3-8dad-c60f4a49a78f",
   "metadata": {},
   "source": [
    "**gender:** Gender refers to the biological sex of the individual, which can have an impact on their susceptibility to diabetes. There are three categories in it male, female and other."
   ]
  },
  {
   "cell_type": "markdown",
   "id": "b09d9116-031d-4135-9d41-10af8e6c25bc",
   "metadata": {},
   "source": [
    "**age:** Age is an important factor as diabetes is more commonly diagnosed in older adults. Age ranges from 0 to 80 in our dataset."
   ]
  },
  {
   "cell_type": "markdown",
   "id": "6d9c6187-7308-4634-8ce3-f201390b8742",
   "metadata": {},
   "source": [
    "**hypertension:** Hypertension is a medical condition in which the blood pressure in the arteries is persistently elevated. It has values 0 or 1, where 0 indicates they don’t have hypertension and 1 indicates they have hypertension."
   ]
  },
  {
   "cell_type": "markdown",
   "id": "3436cc29-c411-4544-b62e-3fe92ebe89db",
   "metadata": {},
   "source": [
    "**heart_disease:** Heart disease is a medical condition that is associated with an increased risk of developing diabetes. It has values 0 or 1, where 0 indicates they don’t have heart disease and 1 indicates they have heart disease."
   ]
  },
  {
   "cell_type": "markdown",
   "id": "f0404181-af88-473b-8fb8-254880307d9d",
   "metadata": {},
   "source": [
    "**smoking_history:** Smoking history is considered a risk factor for diabetes. In our dataset we have 6 categories i.e not current, former, No Info, current, never and ever."
   ]
  },
  {
   "cell_type": "markdown",
   "id": "457653fd-5ce5-45a8-9ca3-cf63c3e9f551",
   "metadata": {},
   "source": [
    "**bmi:** BMI (Body Mass Index) is a measure of body fat based on weight and height. The range of BMI in the dataset is from 10.01 to 95.69. BMI less than 18.5 is underweight, 18.5-24.9 is normal, 25-29.9 is overweight and 30 or more is obese."
   ]
  },
  {
   "cell_type": "markdown",
   "id": "906131eb-46b7-4162-9e5d-24559437e0dd",
   "metadata": {},
   "source": [
    "**HbA1c_level:** HbA1c (Hemoglobin A1c) level is a measure of a person's average blood sugar level over the past 2-3 months."
   ]
  },
  {
   "cell_type": "markdown",
   "id": "d956c4b3-bd27-465d-be8f-35fcacc2a452",
   "metadata": {},
   "source": [
    "**blood_glucose_level:** Blood glucose level refers to the amount of glucose in the bloodstream at a given time."
   ]
  },
  {
   "cell_type": "markdown",
   "id": "15c17179-6425-4228-9388-28b702753fdd",
   "metadata": {},
   "source": [
    "**diabetes:** Diabetes is the target variable being predicted, with values of 1 indicating the presence of diabetes and 0 indicating the absence of diabetes."
   ]
  },
  {
   "cell_type": "code",
   "execution_count": 5,
   "id": "2bb6f8ee-4d5c-4f1f-a2f0-bd6472aaaf64",
   "metadata": {},
   "outputs": [
    {
     "data": {
      "text/html": [
       "<div>\n",
       "<style scoped>\n",
       "    .dataframe tbody tr th:only-of-type {\n",
       "        vertical-align: middle;\n",
       "    }\n",
       "\n",
       "    .dataframe tbody tr th {\n",
       "        vertical-align: top;\n",
       "    }\n",
       "\n",
       "    .dataframe thead th {\n",
       "        text-align: right;\n",
       "    }\n",
       "</style>\n",
       "<table border=\"1\" class=\"dataframe\">\n",
       "  <thead>\n",
       "    <tr style=\"text-align: right;\">\n",
       "      <th></th>\n",
       "      <th>count</th>\n",
       "      <th>mean</th>\n",
       "      <th>std</th>\n",
       "      <th>min</th>\n",
       "      <th>25%</th>\n",
       "      <th>50%</th>\n",
       "      <th>75%</th>\n",
       "      <th>max</th>\n",
       "    </tr>\n",
       "  </thead>\n",
       "  <tbody>\n",
       "    <tr>\n",
       "      <th>age</th>\n",
       "      <td>100000.0</td>\n",
       "      <td>41.885856</td>\n",
       "      <td>22.516840</td>\n",
       "      <td>0.08</td>\n",
       "      <td>24.00</td>\n",
       "      <td>43.00</td>\n",
       "      <td>60.00</td>\n",
       "      <td>80.00</td>\n",
       "    </tr>\n",
       "    <tr>\n",
       "      <th>hypertension</th>\n",
       "      <td>100000.0</td>\n",
       "      <td>0.074850</td>\n",
       "      <td>0.263150</td>\n",
       "      <td>0.00</td>\n",
       "      <td>0.00</td>\n",
       "      <td>0.00</td>\n",
       "      <td>0.00</td>\n",
       "      <td>1.00</td>\n",
       "    </tr>\n",
       "    <tr>\n",
       "      <th>heart_disease</th>\n",
       "      <td>100000.0</td>\n",
       "      <td>0.039420</td>\n",
       "      <td>0.194593</td>\n",
       "      <td>0.00</td>\n",
       "      <td>0.00</td>\n",
       "      <td>0.00</td>\n",
       "      <td>0.00</td>\n",
       "      <td>1.00</td>\n",
       "    </tr>\n",
       "    <tr>\n",
       "      <th>bmi</th>\n",
       "      <td>100000.0</td>\n",
       "      <td>27.320767</td>\n",
       "      <td>6.636783</td>\n",
       "      <td>10.01</td>\n",
       "      <td>23.63</td>\n",
       "      <td>27.32</td>\n",
       "      <td>29.58</td>\n",
       "      <td>95.69</td>\n",
       "    </tr>\n",
       "    <tr>\n",
       "      <th>HbA1c_level</th>\n",
       "      <td>100000.0</td>\n",
       "      <td>5.527507</td>\n",
       "      <td>1.070672</td>\n",
       "      <td>3.50</td>\n",
       "      <td>4.80</td>\n",
       "      <td>5.80</td>\n",
       "      <td>6.20</td>\n",
       "      <td>9.00</td>\n",
       "    </tr>\n",
       "    <tr>\n",
       "      <th>blood_glucose_level</th>\n",
       "      <td>100000.0</td>\n",
       "      <td>138.058060</td>\n",
       "      <td>40.708136</td>\n",
       "      <td>80.00</td>\n",
       "      <td>100.00</td>\n",
       "      <td>140.00</td>\n",
       "      <td>159.00</td>\n",
       "      <td>300.00</td>\n",
       "    </tr>\n",
       "    <tr>\n",
       "      <th>diabetes</th>\n",
       "      <td>100000.0</td>\n",
       "      <td>0.085000</td>\n",
       "      <td>0.278883</td>\n",
       "      <td>0.00</td>\n",
       "      <td>0.00</td>\n",
       "      <td>0.00</td>\n",
       "      <td>0.00</td>\n",
       "      <td>1.00</td>\n",
       "    </tr>\n",
       "  </tbody>\n",
       "</table>\n",
       "</div>"
      ],
      "text/plain": [
       "                        count        mean        std    min     25%     50%  \\\n",
       "age                  100000.0   41.885856  22.516840   0.08   24.00   43.00   \n",
       "hypertension         100000.0    0.074850   0.263150   0.00    0.00    0.00   \n",
       "heart_disease        100000.0    0.039420   0.194593   0.00    0.00    0.00   \n",
       "bmi                  100000.0   27.320767   6.636783  10.01   23.63   27.32   \n",
       "HbA1c_level          100000.0    5.527507   1.070672   3.50    4.80    5.80   \n",
       "blood_glucose_level  100000.0  138.058060  40.708136  80.00  100.00  140.00   \n",
       "diabetes             100000.0    0.085000   0.278883   0.00    0.00    0.00   \n",
       "\n",
       "                        75%     max  \n",
       "age                   60.00   80.00  \n",
       "hypertension           0.00    1.00  \n",
       "heart_disease          0.00    1.00  \n",
       "bmi                   29.58   95.69  \n",
       "HbA1c_level            6.20    9.00  \n",
       "blood_glucose_level  159.00  300.00  \n",
       "diabetes               0.00    1.00  "
      ]
     },
     "execution_count": 5,
     "metadata": {},
     "output_type": "execute_result"
    }
   ],
   "source": [
    "df.describe().transpose()"
   ]
  },
  {
   "cell_type": "code",
   "execution_count": 6,
   "id": "a4153b1b-9bb9-455a-8916-ab30b01f5e07",
   "metadata": {},
   "outputs": [
    {
     "data": {
      "text/html": [
       "<div>\n",
       "<style scoped>\n",
       "    .dataframe tbody tr th:only-of-type {\n",
       "        vertical-align: middle;\n",
       "    }\n",
       "\n",
       "    .dataframe tbody tr th {\n",
       "        vertical-align: top;\n",
       "    }\n",
       "\n",
       "    .dataframe thead th {\n",
       "        text-align: right;\n",
       "    }\n",
       "</style>\n",
       "<table border=\"1\" class=\"dataframe\">\n",
       "  <thead>\n",
       "    <tr style=\"text-align: right;\">\n",
       "      <th></th>\n",
       "      <th>gender</th>\n",
       "      <th>age</th>\n",
       "      <th>hypertension</th>\n",
       "      <th>heart_disease</th>\n",
       "      <th>smoking_history</th>\n",
       "      <th>bmi</th>\n",
       "      <th>HbA1c_level</th>\n",
       "      <th>blood_glucose_level</th>\n",
       "      <th>diabetes</th>\n",
       "    </tr>\n",
       "  </thead>\n",
       "  <tbody>\n",
       "    <tr>\n",
       "      <th>0</th>\n",
       "      <td>Female</td>\n",
       "      <td>80.0</td>\n",
       "      <td>0</td>\n",
       "      <td>1</td>\n",
       "      <td>never</td>\n",
       "      <td>25.19</td>\n",
       "      <td>6.6</td>\n",
       "      <td>140</td>\n",
       "      <td>0</td>\n",
       "    </tr>\n",
       "    <tr>\n",
       "      <th>1</th>\n",
       "      <td>Female</td>\n",
       "      <td>54.0</td>\n",
       "      <td>0</td>\n",
       "      <td>0</td>\n",
       "      <td>No Info</td>\n",
       "      <td>27.32</td>\n",
       "      <td>6.6</td>\n",
       "      <td>80</td>\n",
       "      <td>0</td>\n",
       "    </tr>\n",
       "    <tr>\n",
       "      <th>2</th>\n",
       "      <td>Male</td>\n",
       "      <td>28.0</td>\n",
       "      <td>0</td>\n",
       "      <td>0</td>\n",
       "      <td>never</td>\n",
       "      <td>27.32</td>\n",
       "      <td>5.7</td>\n",
       "      <td>158</td>\n",
       "      <td>0</td>\n",
       "    </tr>\n",
       "    <tr>\n",
       "      <th>3</th>\n",
       "      <td>Female</td>\n",
       "      <td>36.0</td>\n",
       "      <td>0</td>\n",
       "      <td>0</td>\n",
       "      <td>current</td>\n",
       "      <td>23.45</td>\n",
       "      <td>5.0</td>\n",
       "      <td>155</td>\n",
       "      <td>0</td>\n",
       "    </tr>\n",
       "    <tr>\n",
       "      <th>4</th>\n",
       "      <td>Male</td>\n",
       "      <td>76.0</td>\n",
       "      <td>1</td>\n",
       "      <td>1</td>\n",
       "      <td>current</td>\n",
       "      <td>20.14</td>\n",
       "      <td>4.8</td>\n",
       "      <td>155</td>\n",
       "      <td>0</td>\n",
       "    </tr>\n",
       "  </tbody>\n",
       "</table>\n",
       "</div>"
      ],
      "text/plain": [
       "   gender   age  hypertension  heart_disease smoking_history    bmi  \\\n",
       "0  Female  80.0             0              1           never  25.19   \n",
       "1  Female  54.0             0              0         No Info  27.32   \n",
       "2    Male  28.0             0              0           never  27.32   \n",
       "3  Female  36.0             0              0         current  23.45   \n",
       "4    Male  76.0             1              1         current  20.14   \n",
       "\n",
       "   HbA1c_level  blood_glucose_level  diabetes  \n",
       "0          6.6                  140         0  \n",
       "1          6.6                   80         0  \n",
       "2          5.7                  158         0  \n",
       "3          5.0                  155         0  \n",
       "4          4.8                  155         0  "
      ]
     },
     "execution_count": 6,
     "metadata": {},
     "output_type": "execute_result"
    }
   ],
   "source": [
    "df.head()"
   ]
  },
  {
   "cell_type": "markdown",
   "id": "ca785178-5df8-4765-a72b-4ba840596e90",
   "metadata": {},
   "source": [
    "# Data Cleaning"
   ]
  },
  {
   "cell_type": "markdown",
   "id": "fbb1bf16-6b64-4fd0-b2af-912c162d0877",
   "metadata": {},
   "source": [
    "**Check for NaN values**"
   ]
  },
  {
   "cell_type": "code",
   "execution_count": 7,
   "id": "b60ed6b3-b0b3-42d8-8fe9-555cbe020402",
   "metadata": {},
   "outputs": [
    {
     "data": {
      "text/plain": [
       "gender                 0\n",
       "age                    0\n",
       "hypertension           0\n",
       "heart_disease          0\n",
       "smoking_history        0\n",
       "bmi                    0\n",
       "HbA1c_level            0\n",
       "blood_glucose_level    0\n",
       "diabetes               0\n",
       "dtype: int64"
      ]
     },
     "execution_count": 7,
     "metadata": {},
     "output_type": "execute_result"
    }
   ],
   "source": [
    "df.isna().sum()"
   ]
  },
  {
   "cell_type": "markdown",
   "id": "02f69bcc-6871-4a8e-af9e-6af54f9d07d7",
   "metadata": {},
   "source": [
    "The dataset does not contain any NaN values."
   ]
  },
  {
   "cell_type": "markdown",
   "id": "cfda936b-4f9c-42ef-8e70-ea75420e392e",
   "metadata": {},
   "source": [
    "# Feature Engineering"
   ]
  },
  {
   "cell_type": "markdown",
   "id": "e0dd6559-4ec4-4cc9-a70b-e18769cae722",
   "metadata": {},
   "source": [
    "**Conversion of age to integer**"
   ]
  },
  {
   "cell_type": "code",
   "execution_count": 3,
   "id": "c16939a9-ca8d-4707-a51e-f3b24475ce42",
   "metadata": {},
   "outputs": [
    {
     "data": {
      "text/plain": [
       "array([0.08, 0.16, 0.24, 0.32, 0.4 , 0.48, 0.56, 0.64, 0.72, 0.8 , 0.88,\n",
       "       1.  ])"
      ]
     },
     "execution_count": 3,
     "metadata": {},
     "output_type": "execute_result"
    }
   ],
   "source": [
    "np.sort(df[df[\"age\"]<=1][\"age\"].unique())"
   ]
  },
  {
   "cell_type": "markdown",
   "id": "ca297068-d3be-4978-abab-32f92636a1f4",
   "metadata": {},
   "source": [
    "As we can see from the above array for ages 0 to 1, age data is provided as a float with 2 decimal places. For clarity, we will round these values to convert them into integers. For example all to ages from 0 to 1, as above, will take the value 1."
   ]
  },
  {
   "cell_type": "code",
   "execution_count": 4,
   "id": "71254987-cbe7-4b79-99fd-98835a5f8e6a",
   "metadata": {},
   "outputs": [],
   "source": [
    "df[\"age\"] = np.ceil(df[\"age\"]).astype(int)"
   ]
  },
  {
   "cell_type": "markdown",
   "id": "a737ed0a-2a66-4bbe-8c8b-0ca37d56e92a",
   "metadata": {},
   "source": [
    "**Re-categorization of smoking_history**"
   ]
  },
  {
   "cell_type": "code",
   "execution_count": 5,
   "id": "4e99aeaa-168f-4545-aee5-1d7b7f1551b4",
   "metadata": {},
   "outputs": [
    {
     "data": {
      "text/plain": [
       "smoking_history\n",
       "No Info        35816\n",
       "never          35095\n",
       "former          9352\n",
       "current         9286\n",
       "not current     6447\n",
       "ever            4004\n",
       "Name: count, dtype: int64"
      ]
     },
     "execution_count": 5,
     "metadata": {},
     "output_type": "execute_result"
    }
   ],
   "source": [
    "df[\"smoking_history\"].value_counts()"
   ]
  },
  {
   "cell_type": "markdown",
   "id": "b3e5c051-a0bb-4ba4-93e4-7b9171fd64f5",
   "metadata": {},
   "source": [
    "Due to overlapping meanings and sparsity in the original smoking_history categories, we will merge and rephrase them for clarity. The original categories \"ever\", \"not current\" and \"former\" will be combined into a single \"past\" category. The resulting categories will be:\n",
    "- \"never\": patients who have never smoked\n",
    "- \"past\": patients who smoked previously but do not currently smoke\n",
    "- \"current\": patients who currently smoke\n",
    "- \"unknown\": patients with missing or unspecified smoking history"
   ]
  },
  {
   "cell_type": "code",
   "execution_count": 6,
   "id": "4723cabe-0353-458e-98b9-470c6af3d42c",
   "metadata": {},
   "outputs": [],
   "source": [
    "df[\"smoking_history\"] = df[\"smoking_history\"].replace(\"No Info\", \"unknown\")\n",
    "df[\"smoking_history\"] = df[\"smoking_history\"].replace([\"former\", \"not current\", \"ever\"], \"past\")"
   ]
  },
  {
   "cell_type": "markdown",
   "id": "a8c90bd0-a297-4fa7-94b7-0ab9b517458f",
   "metadata": {},
   "source": [
    "**Bmi outliers**"
   ]
  },
  {
   "cell_type": "code",
   "execution_count": 7,
   "id": "c7fa4ecd-c41d-47fc-a9b5-35384ddb1ad2",
   "metadata": {},
   "outputs": [
    {
     "data": {
      "text/plain": [
       "np.int64(115)"
      ]
     },
     "execution_count": 7,
     "metadata": {},
     "output_type": "execute_result"
    }
   ],
   "source": [
    "df[df[\"bmi\"]>60][\"bmi\"].count()"
   ]
  },
  {
   "cell_type": "markdown",
   "id": "206838a6-97a4-4519-a9f7-dcb291ed98d0",
   "metadata": {},
   "source": [
    "Generally, BMI above 30 is considered as obese. In this dataset, we identified 115 clinically implausible BMI values (>60). We will cap them at 60."
   ]
  },
  {
   "cell_type": "code",
   "execution_count": 8,
   "id": "062d1765-c1f3-4c7e-8ea5-f8d654c08aea",
   "metadata": {},
   "outputs": [],
   "source": [
    "df[\"bmi\"] = df[\"bmi\"].apply(lambda x: min(x, 60))"
   ]
  },
  {
   "cell_type": "markdown",
   "id": "67bad7a0-a6ec-4ebe-b62d-fc7f250a6311",
   "metadata": {},
   "source": [
    "# Explanatory Data Analysis (EDA)"
   ]
  },
  {
   "cell_type": "markdown",
   "id": "886108c6-1311-41af-800b-666899fea082",
   "metadata": {},
   "source": [
    "**Diabetes**"
   ]
  },
  {
   "cell_type": "code",
   "execution_count": 14,
   "id": "0b0f868e-e299-4ad1-9e4e-adeb9017ca75",
   "metadata": {},
   "outputs": [
    {
     "data": {
      "text/plain": [
       "<Axes: xlabel='diabetes', ylabel='count'>"
      ]
     },
     "execution_count": 14,
     "metadata": {},
     "output_type": "execute_result"
    },
    {
     "data": {
      "image/png": "[encoded data removed]",
      "text/plain": [
       "<Figure size 640x480 with 1 Axes>"
      ]
     },
     "metadata": {},
     "output_type": "display_data"
    }
   ],
   "source": [
    "sns.countplot(data=df, x=\"diabetes\", hue=\"diabetes\", legend=False)"
   ]
  },
  {
   "cell_type": "code",
   "execution_count": 15,
   "id": "e1789551-457d-4a74-8f9f-c3c14984b5b3",
   "metadata": {},
   "outputs": [
    {
     "data": {
      "text/plain": [
       "diabetes\n",
       "0    91.5\n",
       "1     8.5\n",
       "Name: proportion, dtype: float64"
      ]
     },
     "execution_count": 15,
     "metadata": {},
     "output_type": "execute_result"
    }
   ],
   "source": [
    "df[\"diabetes\"].value_counts(normalize=True) * 100"
   ]
  },
  {
   "cell_type": "markdown",
   "id": "64a83e11-b1d2-4aca-b865-e741e6bbc792",
   "metadata": {},
   "source": [
    "The calculated percentages indicate that the dataset is imbalanced."
   ]
  },
  {
   "cell_type": "markdown",
   "id": "83c62e57-eefe-46d1-a4b6-33d162f54953",
   "metadata": {},
   "source": [
    "**Gender**"
   ]
  },
  {
   "cell_type": "code",
   "execution_count": 16,
   "id": "ed68366d-ca91-430a-8376-4ee1eaed89c7",
   "metadata": {},
   "outputs": [
    {
     "data": {
      "text/plain": [
       "<Axes: xlabel='gender', ylabel='count'>"
      ]
     },
     "execution_count": 16,
     "metadata": {},
     "output_type": "execute_result"
    },
    {
     "data": {
      "image/png": "[encoded data removed]",
      "text/plain": [
       "<Figure size 640x480 with 1 Axes>"
      ]
     },
     "metadata": {},
     "output_type": "display_data"
    }
   ],
   "source": [
    "sns.countplot(data=df, x=\"gender\", hue=\"diabetes\")"
   ]
  },
  {
   "cell_type": "code",
   "execution_count": 17,
   "id": "493dca96-b72d-4e71-bd71-e6ff1758116e",
   "metadata": {},
   "outputs": [
    {
     "data": {
      "text/plain": [
       "gender\n",
       "Female    58552\n",
       "Male      41430\n",
       "Other        18\n",
       "Name: count, dtype: int64"
      ]
     },
     "execution_count": 17,
     "metadata": {},
     "output_type": "execute_result"
    }
   ],
   "source": [
    "df[\"gender\"].value_counts()"
   ]
  },
  {
   "cell_type": "code",
   "execution_count": 18,
   "id": "a4dfcee1-05a0-4f0c-9eef-1ddc29760134",
   "metadata": {},
   "outputs": [
    {
     "name": "stdout",
     "output_type": "stream",
     "text": [
      "Percentage of Diabetes positive patients by gender\n",
      "Female: 7.6%\n",
      "Male: 9.7%\n"
     ]
    }
   ],
   "source": [
    "print(\"Percentage of Diabetes positive patients by gender\")\n",
    "print(f'Female: {np.round((df[df[\"gender\"]==\"Female\"][\"diabetes\"].sum() / len(df[df[\"gender\"]==\"Female\"]) * 100), decimals=1)}%')\n",
    "print(f'Male: {np.round((df[df[\"gender\"]==\"Male\"][\"diabetes\"].sum() / len(df[df[\"gender\"]==\"Male\"]) * 100), decimals=1)}%')"
   ]
  },
  {
   "cell_type": "markdown",
   "id": "700e37c2-c98b-4c11-928d-5fb331951137",
   "metadata": {},
   "source": [
    "In the dataset female patients are more than male and patients with other gender are only 18. Diabetes prevalence is slightly higher among men in this dataset."
   ]
  },
  {
   "cell_type": "markdown",
   "id": "6da04942-b66c-4624-9226-8d11c56fdf2c",
   "metadata": {},
   "source": [
    "**Smoking history**"
   ]
  },
  {
   "cell_type": "code",
   "execution_count": 19,
   "id": "dc8898a2-511d-4d3d-9068-be2826f78913",
   "metadata": {},
   "outputs": [
    {
     "data": {
      "text/plain": [
       "<Axes: xlabel='smoking_history', ylabel='count'>"
      ]
     },
     "execution_count": 19,
     "metadata": {},
     "output_type": "execute_result"
    },
    {
     "data": {
      "image/png": "[encoded data removed]",
      "text/plain": [
       "<Figure size 640x480 with 1 Axes>"
      ]
     },
     "metadata": {},
     "output_type": "display_data"
    }
   ],
   "source": [
    "sns.countplot(data=df, x=\"smoking_history\", hue=\"diabetes\")"
   ]
  },
  {
   "cell_type": "code",
   "execution_count": 20,
   "id": "3ac5399e-5dbe-4067-8881-a7bd52a294c6",
   "metadata": {},
   "outputs": [
    {
     "data": {
      "text/plain": [
       "smoking_history\n",
       "unknown    35816\n",
       "never      35095\n",
       "past       19803\n",
       "current     9286\n",
       "Name: count, dtype: int64"
      ]
     },
     "execution_count": 20,
     "metadata": {},
     "output_type": "execute_result"
    }
   ],
   "source": [
    "df[\"smoking_history\"].value_counts()"
   ]
  },
  {
   "cell_type": "code",
   "execution_count": 21,
   "id": "3f3d8fab-ee8c-4205-a029-0ba16fb32fb6",
   "metadata": {},
   "outputs": [
    {
     "name": "stdout",
     "output_type": "stream",
     "text": [
      "Percentage of Diabetes positive patients by smoking history\n",
      "Never: 9.5%\n",
      "Unknown: 4.1%\n",
      "Current: 10.2%\n",
      "Past: 13.9%\n"
     ]
    }
   ],
   "source": [
    "print(\"Percentage of Diabetes positive patients by smoking history\")\n",
    "print(f\"Never: {np.round((df[df[\"smoking_history\"]==\"never\"][\"diabetes\"].sum() / len(df[df[\"smoking_history\"]==\"never\"]) * 100), decimals=1)}%\")\n",
    "print(f\"Unknown: {np.round((df[df[\"smoking_history\"]==\"unknown\"][\"diabetes\"].sum() / len(df[df[\"smoking_history\"]==\"unknown\"]) * 100), decimals=1)}%\")\n",
    "print(f\"Current: {np.round((df[df[\"smoking_history\"]==\"current\"][\"diabetes\"].sum() / len(df[df[\"smoking_history\"]==\"current\"]) * 100), decimals=1)}%\")\n",
    "print(f\"Past: {np.round((df[df[\"smoking_history\"]==\"past\"][\"diabetes\"].sum() / len(df[df[\"smoking_history\"]==\"past\"]) * 100), decimals=1)}%\")"
   ]
  },
  {
   "cell_type": "markdown",
   "id": "ce097cfa-eeb3-440d-8fa4-6e39b83b933f",
   "metadata": {},
   "source": [
    "Most of the patients have never smoked or have an unknown smoking history. The latter group makes up 1/3 of the dataset, making it difficult to establish relationships between smoking history and diabetes."
   ]
  },
  {
   "cell_type": "markdown",
   "id": "09780357-94d6-4994-a08a-e4867e18d7dc",
   "metadata": {},
   "source": [
    "**Hypertension**"
   ]
  },
  {
   "cell_type": "code",
   "execution_count": 22,
   "id": "28edd65e-1d53-4abe-a982-4c91247987b2",
   "metadata": {},
   "outputs": [
    {
     "data": {
      "text/plain": [
       "<Axes: xlabel='hypertension', ylabel='count'>"
      ]
     },
     "execution_count": 22,
     "metadata": {},
     "output_type": "execute_result"
    },
    {
     "data": {
      "image/png": "[encoded data removed]",
      "text/plain": [
       "<Figure size 640x480 with 1 Axes>"
      ]
     },
     "metadata": {},
     "output_type": "display_data"
    }
   ],
   "source": [
    "sns.countplot(data=df, x=\"hypertension\", hue=\"diabetes\")"
   ]
  },
  {
   "cell_type": "code",
   "execution_count": 23,
   "id": "f82555e9-9b8c-43d9-92ab-85584c16e349",
   "metadata": {},
   "outputs": [
    {
     "data": {
      "text/plain": [
       "hypertension\n",
       "0    92515\n",
       "1     7485\n",
       "Name: count, dtype: int64"
      ]
     },
     "execution_count": 23,
     "metadata": {},
     "output_type": "execute_result"
    }
   ],
   "source": [
    "df[\"hypertension\"].value_counts()"
   ]
  },
  {
   "cell_type": "code",
   "execution_count": 24,
   "id": "67d08793-0bec-4a0e-9b74-58535abbed78",
   "metadata": {},
   "outputs": [
    {
     "name": "stdout",
     "output_type": "stream",
     "text": [
      "Percentage of Diabetes positive patients by hypertension state\n",
      "Hypertension negative: 6.9%\n",
      "Hypertension positive: 27.9%\n"
     ]
    }
   ],
   "source": [
    "print(\"Percentage of Diabetes positive patients by hypertension state\")\n",
    "print(f'Hypertension negative: {np.round((df[df[\"hypertension\"]==0][\"diabetes\"].sum() / len(df[df[\"hypertension\"]==0]) * 100), decimals=1)}%')\n",
    "print(f'Hypertension positive: {np.round((df[df[\"hypertension\"]==1][\"diabetes\"].sum() / len(df[df[\"hypertension\"]==1]) * 100), decimals=1)}%')"
   ]
  },
  {
   "cell_type": "markdown",
   "id": "4aadb5c3-305e-40e0-830d-5335230c91b1",
   "metadata": {},
   "source": [
    "Most of the patients in the dataset does not have hypertension. Diabetes prevalence is considerably higher among patients with hypertension."
   ]
  },
  {
   "cell_type": "markdown",
   "id": "f0359558-4ac7-4a58-9626-c10c681c46a4",
   "metadata": {},
   "source": [
    "**Heart disease**"
   ]
  },
  {
   "cell_type": "code",
   "execution_count": 25,
   "id": "3de112c4-fb1f-43ef-8fed-4a352bb97a54",
   "metadata": {},
   "outputs": [
    {
     "data": {
      "text/plain": [
       "<Axes: xlabel='heart_disease', ylabel='count'>"
      ]
     },
     "execution_count": 25,
     "metadata": {},
     "output_type": "execute_result"
    },
    {
     "data": {
      "image/png": "[encoded data removed]",
      "text/plain": [
       "<Figure size 640x480 with 1 Axes>"
      ]
     },
     "metadata": {},
     "output_type": "display_data"
    }
   ],
   "source": [
    "sns.countplot(data=df, x=\"heart_disease\", hue=\"diabetes\")"
   ]
  },
  {
   "cell_type": "code",
   "execution_count": 26,
   "id": "c4343f63-5db0-4d57-8d2d-0598144c3ac3",
   "metadata": {},
   "outputs": [
    {
     "data": {
      "text/plain": [
       "heart_disease\n",
       "0    96058\n",
       "1     3942\n",
       "Name: count, dtype: int64"
      ]
     },
     "execution_count": 26,
     "metadata": {},
     "output_type": "execute_result"
    }
   ],
   "source": [
    "df[\"heart_disease\"].value_counts()"
   ]
  },
  {
   "cell_type": "code",
   "execution_count": 27,
   "id": "0e1315f0-be8a-4be0-91ff-99d9210fa1e4",
   "metadata": {},
   "outputs": [
    {
     "name": "stdout",
     "output_type": "stream",
     "text": [
      "Percentage of Diabetes positive patients by hypertension state\n",
      "Heart disease negative: 7.5%\n",
      "Heart disease positive: 32.1%\n"
     ]
    }
   ],
   "source": [
    "print(\"Percentage of Diabetes positive patients by hypertension state\")\n",
    "print(f'Heart disease negative: {np.round((df[df[\"heart_disease\"]==0][\"diabetes\"].sum() / len(df[df[\"heart_disease\"]==0]) * 100), decimals=1)}%')\n",
    "print(f'Heart disease positive: {np.round((df[df[\"heart_disease\"]==1][\"diabetes\"].sum() / len(df[df[\"heart_disease\"]==1]) * 100), decimals=1)}%')"
   ]
  },
  {
   "cell_type": "markdown",
   "id": "00ceda60-2723-4a52-8acc-b97e6687acba",
   "metadata": {},
   "source": [
    "Most of the patients in the dataset does not have heart disease. Diabetes prevalence is considerably higher among patients with heart disease."
   ]
  },
  {
   "cell_type": "markdown",
   "id": "51784c9e-121d-46cb-9322-72c654aeb726",
   "metadata": {},
   "source": [
    "**Age**"
   ]
  },
  {
   "cell_type": "code",
   "execution_count": 28,
   "id": "7adbf429-adea-468d-be69-39d00a68c800",
   "metadata": {},
   "outputs": [
    {
     "data": {
      "text/plain": [
       "<Axes: xlabel='age', ylabel='Count'>"
      ]
     },
     "execution_count": 28,
     "metadata": {},
     "output_type": "execute_result"
    },
    {
     "data": {
      "image/png": "[encoded data removed]",
      "text/plain": [
       "<Figure size 640x480 with 1 Axes>"
      ]
     },
     "metadata": {},
     "output_type": "display_data"
    }
   ],
   "source": [
    "sns.histplot(data=df, x=\"age\", hue=\"diabetes\", bins=20)"
   ]
  },
  {
   "cell_type": "code",
   "execution_count": 29,
   "id": "da1662da-e3a0-4dc9-830e-19c8d92ea27f",
   "metadata": {},
   "outputs": [
    {
     "data": {
      "text/plain": [
       "<Axes: xlabel='age'>"
      ]
     },
     "execution_count": 29,
     "metadata": {},
     "output_type": "execute_result"
    },
    {
     "data": {
      "image/png": "[encoded data removed]",
      "text/plain": [
       "<Figure size 640x480 with 1 Axes>"
      ]
     },
     "metadata": {},
     "output_type": "display_data"
    }
   ],
   "source": [
    "sns.boxplot(data=df, x=\"age\", hue=\"diabetes\")"
   ]
  },
  {
   "cell_type": "markdown",
   "id": "ff724edc-deeb-4d3f-b39e-bbe3e95931de",
   "metadata": {},
   "source": [
    "The age distribution is generally smooth, with the majority of patients falling between 40 and 60 years old. There are noticeable spikes in the very young (0–5 years) and older age groups (75–80 years). Diabetes prevalence appears to increase with age, with most cases occurring around 60 years old."
   ]
  },
  {
   "cell_type": "markdown",
   "id": "4bdb5926-ab2d-4a60-a70a-3ab932360b82",
   "metadata": {},
   "source": [
    "**BMI**"
   ]
  },
  {
   "cell_type": "code",
   "execution_count": 30,
   "id": "a280d15c-7cd0-4310-9a2b-0dcd4d142106",
   "metadata": {},
   "outputs": [
    {
     "data": {
      "text/plain": [
       "<Axes: xlabel='bmi', ylabel='Count'>"
      ]
     },
     "execution_count": 30,
     "metadata": {},
     "output_type": "execute_result"
    },
    {
     "data": {
      "image/png": "[encoded data removed]",
      "text/plain": [
       "<Figure size 640x480 with 1 Axes>"
      ]
     },
     "metadata": {},
     "output_type": "display_data"
    }
   ],
   "source": [
    "sns.histplot(data=df, x=\"bmi\", hue=\"diabetes\", bins=40)"
   ]
  },
  {
   "cell_type": "code",
   "execution_count": 31,
   "id": "ea18f45b-624f-47bd-8151-b47dfe9d2bfb",
   "metadata": {},
   "outputs": [
    {
     "data": {
      "text/plain": [
       "<Axes: xlabel='bmi'>"
      ]
     },
     "execution_count": 31,
     "metadata": {},
     "output_type": "execute_result"
    },
    {
     "data": {
      "image/png": "[encoded data removed]",
      "text/plain": [
       "<Figure size 640x480 with 1 Axes>"
      ]
     },
     "metadata": {},
     "output_type": "display_data"
    }
   ],
   "source": [
    "sns.boxplot(data=df, x=\"bmi\", hue=\"diabetes\")"
   ]
  },
  {
   "cell_type": "code",
   "execution_count": 32,
   "id": "eb0a3d07-42fc-4605-b73e-6b13d73f29e7",
   "metadata": {},
   "outputs": [
    {
     "name": "stdout",
     "output_type": "stream",
     "text": [
      "Percentage of Diabetes positive patients by BMI categories\n",
      "Underweight: 0.8%\n",
      "Healthy Weight: 3.9%\n",
      "Overweight: 7.3%\n",
      "Obesity: 18.0%\n"
     ]
    }
   ],
   "source": [
    "print(\"Percentage of Diabetes positive patients by BMI categories\")\n",
    "print(f'Underweight: {np.round((df[df[\"bmi\"]<18.5][\"diabetes\"].sum() / len(df[df[\"bmi\"]<18.5]) * 100), decimals=1)}%')\n",
    "print(f'Healthy Weight: {np.round((df[(df[\"bmi\"]>=18.5) & (df[\"bmi\"]<25)][\"diabetes\"].sum() / len(df[(df[\"bmi\"]>=18.5) & (df[\"bmi\"]<25)]) * 100), decimals=1)}%')\n",
    "print(f'Overweight: {np.round((df[(df[\"bmi\"]>=25) & (df[\"bmi\"]<30)][\"diabetes\"].sum() / len(df[(df[\"bmi\"]>=25) & (df[\"bmi\"]<30)]) * 100), decimals=1)}%')\n",
    "print(f'Obesity: {np.round((df[df[\"bmi\"]>=30][\"diabetes\"].sum() / len(df[df[\"bmi\"]>=30]) * 100), decimals=1)}%')"
   ]
  },
  {
   "cell_type": "markdown",
   "id": "ec171f4b-3ee8-4342-ad38-81333ec11985",
   "metadata": {},
   "source": [
    "Diabetes prevalence appears to increase with BMI."
   ]
  },
  {
   "cell_type": "markdown",
   "id": "81732408-36f2-4be7-ad03-17f9b8444f49",
   "metadata": {},
   "source": [
    "**HbA1c level**"
   ]
  },
  {
   "cell_type": "code",
   "execution_count": 33,
   "id": "3fe2adb5-2177-4fcf-bea7-e99a7f19558a",
   "metadata": {},
   "outputs": [
    {
     "data": {
      "text/plain": [
       "<Axes: xlabel='HbA1c_level', ylabel='Count'>"
      ]
     },
     "execution_count": 33,
     "metadata": {},
     "output_type": "execute_result"
    },
    {
     "data": {
      "image/png": "[encoded data removed]",
      "text/plain": [
       "<Figure size 640x480 with 1 Axes>"
      ]
     },
     "metadata": {},
     "output_type": "display_data"
    }
   ],
   "source": [
    "sns.histplot(data=df, x=\"HbA1c_level\", hue=\"diabetes\")"
   ]
  },
  {
   "cell_type": "code",
   "execution_count": 34,
   "id": "fd53a2bc-07c6-4f31-a769-b178d72a31c1",
   "metadata": {},
   "outputs": [
    {
     "data": {
      "text/plain": [
       "<Axes: xlabel='HbA1c_level'>"
      ]
     },
     "execution_count": 34,
     "metadata": {},
     "output_type": "execute_result"
    },
    {
     "data": {
      "image/png": "[encoded data removed]",
      "text/plain": [
       "<Figure size 640x480 with 1 Axes>"
      ]
     },
     "metadata": {},
     "output_type": "display_data"
    }
   ],
   "source": [
    "sns.boxplot(data=df, x=\"HbA1c_level\", hue=\"diabetes\")"
   ]
  },
  {
   "cell_type": "markdown",
   "id": "1a555b57-b1e7-45a0-bfb5-b292bcc6233a",
   "metadata": {},
   "source": [
    "Diabetes prevalence appears to increase with HbA1c level. The majority of diabetes-positive patients present with HbA1c levels greater than 6, which aligns with clinical diagnostic thresholds for diabetes (>=6.5% is diagnostic for diabetes, 5.7–6.4% is prediabetes)."
   ]
  },
  {
   "cell_type": "markdown",
   "id": "0f640216-ff10-4d53-9cd2-5963b918da9c",
   "metadata": {},
   "source": [
    "**Blood glucose level**"
   ]
  },
  {
   "cell_type": "code",
   "execution_count": 35,
   "id": "370428b2-685b-40f4-bd60-c52cf0b05e01",
   "metadata": {},
   "outputs": [
    {
     "data": {
      "text/plain": [
       "<Axes: xlabel='blood_glucose_level', ylabel='Count'>"
      ]
     },
     "execution_count": 35,
     "metadata": {},
     "output_type": "execute_result"
    },
    {
     "data": {
      "image/png": "[encoded data removed]",
      "text/plain": [
       "<Figure size 640x480 with 1 Axes>"
      ]
     },
     "metadata": {},
     "output_type": "display_data"
    }
   ],
   "source": [
    "sns.histplot(data=df, x=\"blood_glucose_level\", hue=\"diabetes\")"
   ]
  },
  {
   "cell_type": "code",
   "execution_count": 36,
   "id": "51d0cdc8-1221-4505-a5b1-b8c133fc0679",
   "metadata": {},
   "outputs": [
    {
     "data": {
      "text/plain": [
       "<Axes: xlabel='blood_glucose_level'>"
      ]
     },
     "execution_count": 36,
     "metadata": {},
     "output_type": "execute_result"
    },
    {
     "data": {
      "image/png": "[encoded data removed]",
      "text/plain": [
       "<Figure size 640x480 with 1 Axes>"
      ]
     },
     "metadata": {},
     "output_type": "display_data"
    }
   ],
   "source": [
    "sns.boxplot(data=df, x=\"blood_glucose_level\", hue=\"diabetes\")"
   ]
  },
  {
   "cell_type": "markdown",
   "id": "cc7100e3-8e66-412b-8efe-6e1c9d0c0337",
   "metadata": {},
   "source": [
    "Diabetes prevalence appears to increase with blood glucose level."
   ]
  },
  {
   "cell_type": "markdown",
   "id": "ab6a540b-5594-4fb8-9029-23920fa3c163",
   "metadata": {},
   "source": [
    "**Correlations**"
   ]
  },
  {
   "cell_type": "code",
   "execution_count": 37,
   "id": "a008c625-ae32-433f-8242-86402160d5f3",
   "metadata": {},
   "outputs": [
    {
     "data": {
      "text/plain": [
       "<Axes: >"
      ]
     },
     "execution_count": 37,
     "metadata": {},
     "output_type": "execute_result"
    },
    {
     "data": {
      "image/png": "[encoded data removed]",
      "text/plain": [
       "<Figure size 640x480 with 2 Axes>"
      ]
     },
     "metadata": {},
     "output_type": "display_data"
    }
   ],
   "source": [
    "df_corr = df.corr(numeric_only=True)\n",
    "sns.heatmap(data=df_corr, annot=True, cmap=\"rocket_r\", fmt=\".2f\")"
   ]
  },
  {
   "cell_type": "markdown",
   "id": "183ca5ca-3178-43c5-b728-95baa41d0ead",
   "metadata": {},
   "source": [
    "HbA1c and blood glucose level show the strongest correlation with diabetes status."
   ]
  },
  {
   "cell_type": "markdown",
   "id": "c4acfc4a-af8d-4e54-8eba-72b2efc67a24",
   "metadata": {},
   "source": [
    "**Summary of the observations from the explanatory data analysis:**\n",
    "- The dataset is imbalanced, with diabetes-negative patients forming the majority class.\n",
    "- Diabetes prevalence is slightly higher among men.\n",
    "- The relationship between smoking history and diabetes is not clearly established.\n",
    "- Diabetes prevalence is considerably higher among patients with hypertension and heart disease.\n",
    "- Diabetes prevalence increases with age, BMI, HbA1c levels, and blood glucose levels."
   ]
  },
  {
   "cell_type": "markdown",
   "id": "5d28e91f-bda9-4bdd-b42f-78bc1c83a8a7",
   "metadata": {},
   "source": [
    "# Data Encoding for Model Training"
   ]
  },
  {
   "cell_type": "markdown",
   "id": "b95769f6-8d55-4751-97da-8a5f59792fcf",
   "metadata": {},
   "source": [
    "**Gender and smoking history one-hot encoding**"
   ]
  },
  {
   "cell_type": "code",
   "execution_count": 9,
   "id": "d528dd91-be0f-42c1-90a0-def5a58a1df9",
   "metadata": {},
   "outputs": [],
   "source": [
    "df = pd.get_dummies(data=df, columns=[\"gender\", \"smoking_history\"], drop_first=True)"
   ]
  },
  {
   "cell_type": "markdown",
   "id": "4fc9bfc1-0bd8-4215-8d2f-7e720b5981c4",
   "metadata": {},
   "source": [
    "# Data Analysis (Machine Learning)"
   ]
  },
  {
   "cell_type": "markdown",
   "id": "c08539fe-7082-414b-b34e-b01e7c34ec88",
   "metadata": {},
   "source": [
    "Given the medical context, we prioritized **recall** for diabetes-positive patients to minimize false negatives. **F1-score** and **ROC-AUC** are also reported to provide a complete picture of model performance."
   ]
  },
  {
   "cell_type": "markdown",
   "id": "177c1214-974b-4a36-ab9c-3a54169f3149",
   "metadata": {},
   "source": [
    "## Data Preprocessing"
   ]
  },
  {
   "cell_type": "markdown",
   "id": "0f24d043-a409-4a64-8f0e-9523ab9d66e6",
   "metadata": {},
   "source": [
    "**Preparation of data to train/test**"
   ]
  },
  {
   "cell_type": "code",
   "execution_count": 10,
   "id": "fa079f24-b92d-4c21-9ca5-198b8ace502f",
   "metadata": {},
   "outputs": [],
   "source": [
    "from sklearn.model_selection import train_test_split\n",
    "X = df.drop(columns=[\"diabetes\"])\n",
    "y = df[\"diabetes\"]\n",
    "X_train, X_test, y_train, y_test = train_test_split(X, y, test_size=0.3, random_state=101)"
   ]
  },
  {
   "cell_type": "markdown",
   "id": "82abc8b5-de4b-47a6-9401-97b0a2e4081f",
   "metadata": {},
   "source": [
    "**Scale data**"
   ]
  },
  {
   "cell_type": "code",
   "execution_count": 11,
   "id": "60185be9-e7c6-4587-8a32-80eadda15a8c",
   "metadata": {},
   "outputs": [],
   "source": [
    "from sklearn.preprocessing import StandardScaler\n",
    "num_features = [\"age\", \"bmi\", \"HbA1c_level\", \"blood_glucose_level\"]\n",
    "scaler = StandardScaler()\n",
    "scaler.fit(X_train[num_features])\n",
    "X_train[num_features] = scaler.transform(X_train[num_features])\n",
    "X_test[num_features] = scaler.transform(X_test[num_features])"
   ]
  },
  {
   "cell_type": "code",
   "execution_count": 13,
   "id": "19577bf7-4673-48e4-972a-afbc57917174",
   "metadata": {},
   "outputs": [
    {
     "data": {
      "text/plain": [
       "['scaler.pkl']"
      ]
     },
     "execution_count": 13,
     "metadata": {},
     "output_type": "execute_result"
    }
   ],
   "source": [
    "import joblib\n",
    "joblib.dump(scaler, \"scaler.pkl\")"
   ]
  },
  {
   "cell_type": "markdown",
   "id": "1fe6d387-dec0-461c-a1c4-3e71f5c91bec",
   "metadata": {},
   "source": [
    "## Logistic Regression"
   ]
  },
  {
   "cell_type": "markdown",
   "id": "89635f49-1366-45e0-87ec-90fbb33c03ae",
   "metadata": {},
   "source": [
    "**Baseline model**"
   ]
  },
  {
   "cell_type": "code",
   "execution_count": 41,
   "id": "7272b1ce-7bb4-47c9-b271-2f32ac978fd0",
   "metadata": {},
   "outputs": [
    {
     "name": "stdout",
     "output_type": "stream",
     "text": [
      "              precision    recall  f1-score   support\n",
      "\n",
      "           0       0.97      0.99      0.98     27475\n",
      "           1       0.87      0.63      0.73      2525\n",
      "\n",
      "    accuracy                           0.96     30000\n",
      "   macro avg       0.92      0.81      0.85     30000\n",
      "weighted avg       0.96      0.96      0.96     30000\n",
      "\n",
      "ROC-AUC: 0.961\n"
     ]
    }
   ],
   "source": [
    "from sklearn.linear_model import LogisticRegression\n",
    "model_log = LogisticRegression(random_state=101)\n",
    "model_log.fit(X_train, y_train)\n",
    "\n",
    "y_pred = model_log.predict(X_test)\n",
    "y_proba = model_log.predict_proba(X_test)[:,1]\n",
    "\n",
    "from sklearn.metrics import classification_report, roc_auc_score\n",
    "print(classification_report(y_test, y_pred))\n",
    "print(f\"ROC-AUC: {np.round(roc_auc_score(y_test, y_proba), decimals=3)}\")"
   ]
  },
  {
   "cell_type": "markdown",
   "id": "34bc33ec-736b-4a77-b946-9b1026229527",
   "metadata": {},
   "source": [
    "**Baseline model + (class_weight=\"balanced\")**"
   ]
  },
  {
   "cell_type": "code",
   "execution_count": 42,
   "id": "3a0fc75b-cb55-46c2-a59a-1278d64a06d2",
   "metadata": {},
   "outputs": [
    {
     "name": "stdout",
     "output_type": "stream",
     "text": [
      "              precision    recall  f1-score   support\n",
      "\n",
      "           0       0.99      0.89      0.94     27475\n",
      "           1       0.42      0.88      0.57      2525\n",
      "\n",
      "    accuracy                           0.89     30000\n",
      "   macro avg       0.70      0.88      0.75     30000\n",
      "weighted avg       0.94      0.89      0.90     30000\n",
      "\n",
      "ROC-AUC: 0.962\n"
     ]
    }
   ],
   "source": [
    "from sklearn.linear_model import LogisticRegression\n",
    "model_log = LogisticRegression(random_state=101, class_weight=\"balanced\")\n",
    "model_log.fit(X_train, y_train)\n",
    "\n",
    "y_pred = model_log.predict(X_test)\n",
    "y_proba = model_log.predict_proba(X_test)[:,1]\n",
    "\n",
    "from sklearn.metrics import classification_report, roc_auc_score\n",
    "print(classification_report(y_test, y_pred))\n",
    "print(f\"ROC-AUC: {np.round(roc_auc_score(y_test, y_proba), decimals=3)}\")"
   ]
  },
  {
   "cell_type": "markdown",
   "id": "846e849e-2d8a-41ab-b425-126951678d3b",
   "metadata": {},
   "source": [
    "**Grid Search CV**"
   ]
  },
  {
   "cell_type": "code",
   "execution_count": 43,
   "id": "c85e38e4-5652-4147-9199-14e1a72ba09a",
   "metadata": {},
   "outputs": [
    {
     "name": "stdout",
     "output_type": "stream",
     "text": [
      "Best parameters: {'C': 0.01, 'penalty': 'l2', 'solver': 'liblinear'}\n"
     ]
    }
   ],
   "source": [
    "from sklearn.linear_model import LogisticRegression\n",
    "from sklearn.model_selection import GridSearchCV\n",
    "model_log = LogisticRegression(random_state=101, class_weight='balanced')\n",
    "param_grid = {\n",
    "    'C': [0.01, 0.1, 1, 10],\n",
    "    'penalty': ['l1','l2'],\n",
    "    'solver': ['liblinear']\n",
    "}\n",
    "grid_log = GridSearchCV(estimator=model_log, param_grid=param_grid, scoring='recall', cv=5)\n",
    "grid_log.fit(X_train, y_train)\n",
    "\n",
    "print(\"Best parameters:\", grid_log.best_params_)"
   ]
  },
  {
   "cell_type": "markdown",
   "id": "98b0ada3-3e0d-40b7-8139-98dc89b8e8cc",
   "metadata": {},
   "source": [
    "**Baseline model + (class_weight=\"balanced\", C=0.01, penalty=\"l2\")**"
   ]
  },
  {
   "cell_type": "code",
   "execution_count": 44,
   "id": "ab1b681c-75ef-4d1e-a983-a6a43da9a696",
   "metadata": {},
   "outputs": [
    {
     "name": "stdout",
     "output_type": "stream",
     "text": [
      "              precision    recall  f1-score   support\n",
      "\n",
      "           0       0.99      0.89      0.94     27475\n",
      "           1       0.42      0.88      0.57      2525\n",
      "\n",
      "    accuracy                           0.89     30000\n",
      "   macro avg       0.70      0.88      0.75     30000\n",
      "weighted avg       0.94      0.89      0.90     30000\n",
      "\n",
      "ROC-AUC: 0.962\n"
     ]
    }
   ],
   "source": [
    "from sklearn.linear_model import LogisticRegression\n",
    "model_log = LogisticRegression(random_state=101, class_weight='balanced', C=0.01, penalty=\"l2\")\n",
    "model_log.fit(X_train, y_train)\n",
    "\n",
    "y_pred = model_log.predict(X_test)\n",
    "y_proba = model_log.predict_proba(X_test)[:,1]\n",
    "\n",
    "from sklearn.metrics import classification_report, roc_auc_score\n",
    "print(classification_report(y_test, y_pred))\n",
    "print(f\"ROC-AUC: {np.round(roc_auc_score(y_test, y_proba), decimals=3)}\")"
   ]
  },
  {
   "cell_type": "markdown",
   "id": "3b351d4e-603c-40b8-9866-42307aa1d0ba",
   "metadata": {},
   "source": [
    "Optimal model metrics:\n",
    "**recall_1 = 0.88 / f1-score_1 = 0.57 / ROC-AUC = 0.962**"
   ]
  },
  {
   "cell_type": "markdown",
   "id": "f3260e48-f503-41a2-a145-5edbd986fd8c",
   "metadata": {},
   "source": [
    "## Random Forest"
   ]
  },
  {
   "cell_type": "markdown",
   "id": "ff5f8f69-87cc-4b5d-a1af-8c0dcdc25ebe",
   "metadata": {},
   "source": [
    "**Baseline model**"
   ]
  },
  {
   "cell_type": "code",
   "execution_count": 45,
   "id": "864bea08-5989-4874-af9b-12f6333e8230",
   "metadata": {},
   "outputs": [
    {
     "name": "stdout",
     "output_type": "stream",
     "text": [
      "              precision    recall  f1-score   support\n",
      "\n",
      "           0       0.97      1.00      0.98     27475\n",
      "           1       0.94      0.68      0.79      2525\n",
      "\n",
      "    accuracy                           0.97     30000\n",
      "   macro avg       0.96      0.84      0.89     30000\n",
      "weighted avg       0.97      0.97      0.97     30000\n",
      "\n",
      "ROC-AUC: 0.963\n"
     ]
    }
   ],
   "source": [
    "from sklearn.ensemble import RandomForestClassifier\n",
    "model_rf = RandomForestClassifier(n_estimators=100, random_state=101)\n",
    "model_rf.fit(X_train, y_train)\n",
    "\n",
    "y_pred = model_rf.predict(X_test)\n",
    "y_proba = model_rf.predict_proba(X_test)[:,1]\n",
    "\n",
    "from sklearn.metrics import classification_report, roc_auc_score\n",
    "print(classification_report(y_test, y_pred))\n",
    "print(f\"ROC-AUC: {np.round(roc_auc_score(y_test, y_proba), decimals=3)}\")"
   ]
  },
  {
   "cell_type": "markdown",
   "id": "66d94c83-3232-4e23-a028-a0e1699794ca",
   "metadata": {},
   "source": [
    "**Baseline model + (class_weight=\"balanced\")**"
   ]
  },
  {
   "cell_type": "code",
   "execution_count": 46,
   "id": "0b4fa329-d1e7-4397-a489-a36cb3478a3f",
   "metadata": {},
   "outputs": [
    {
     "name": "stdout",
     "output_type": "stream",
     "text": [
      "              precision    recall  f1-score   support\n",
      "\n",
      "           0       0.97      1.00      0.98     27475\n",
      "           1       0.94      0.68      0.79      2525\n",
      "\n",
      "    accuracy                           0.97     30000\n",
      "   macro avg       0.95      0.84      0.89     30000\n",
      "weighted avg       0.97      0.97      0.97     30000\n",
      "\n",
      "ROC-AUC: 0.965\n"
     ]
    }
   ],
   "source": [
    "from sklearn.ensemble import RandomForestClassifier\n",
    "model_rf = RandomForestClassifier(n_estimators=100, random_state=101, class_weight=\"balanced\")\n",
    "model_rf.fit(X_train, y_train)\n",
    "\n",
    "y_pred = model_rf.predict(X_test)\n",
    "y_proba = model_rf.predict_proba(X_test)[:,1]\n",
    "\n",
    "from sklearn.metrics import classification_report, roc_auc_score\n",
    "print(classification_report(y_test, y_pred))\n",
    "print(f\"ROC-AUC: {np.round(roc_auc_score(y_test, y_proba), decimals=3)}\")"
   ]
  },
  {
   "cell_type": "markdown",
   "id": "4c8cf039-9b91-46b5-8152-1e3475cb2931",
   "metadata": {},
   "source": [
    "**Grid Search CV**"
   ]
  },
  {
   "cell_type": "code",
   "execution_count": 47,
   "id": "37606551-10c3-40be-88ec-2bc844cb83d3",
   "metadata": {
    "scrolled": true
   },
   "outputs": [
    {
     "name": "stdout",
     "output_type": "stream",
     "text": [
      "Fitting 3 folds for each of 24 candidates, totalling 72 fits\n",
      "[CV 1/3] END max_depth=None, min_samples_leaf=1, min_samples_split=2, n_estimators=100;, score=0.706 total time=   2.3s\n",
      "[CV 2/3] END max_depth=None, min_samples_leaf=1, min_samples_split=2, n_estimators=100;, score=0.670 total time=   2.2s\n",
      "[CV 3/3] END max_depth=None, min_samples_leaf=1, min_samples_split=2, n_estimators=100;, score=0.693 total time=   2.3s\n",
      "[CV 1/3] END max_depth=None, min_samples_leaf=1, min_samples_split=2, n_estimators=200;, score=0.704 total time=   4.7s\n",
      "[CV 2/3] END max_depth=None, min_samples_leaf=1, min_samples_split=2, n_estimators=200;, score=0.669 total time=   4.4s\n",
      "[CV 3/3] END max_depth=None, min_samples_leaf=1, min_samples_split=2, n_estimators=200;, score=0.694 total time=   4.5s\n",
      "[CV 1/3] END max_depth=None, min_samples_leaf=1, min_samples_split=5, n_estimators=100;, score=0.728 total time=   2.3s\n",
      "[CV 2/3] END max_depth=None, min_samples_leaf=1, min_samples_split=5, n_estimators=100;, score=0.699 total time=   2.4s\n",
      "[CV 3/3] END max_depth=None, min_samples_leaf=1, min_samples_split=5, n_estimators=100;, score=0.717 total time=   2.2s\n",
      "[CV 1/3] END max_depth=None, min_samples_leaf=1, min_samples_split=5, n_estimators=200;, score=0.728 total time=   5.2s\n",
      "[CV 2/3] END max_depth=None, min_samples_leaf=1, min_samples_split=5, n_estimators=200;, score=0.694 total time=   4.5s\n",
      "[CV 3/3] END max_depth=None, min_samples_leaf=1, min_samples_split=5, n_estimators=200;, score=0.716 total time=   4.7s\n",
      "[CV 1/3] END max_depth=None, min_samples_leaf=2, min_samples_split=2, n_estimators=100;, score=0.741 total time=   2.1s\n",
      "[CV 2/3] END max_depth=None, min_samples_leaf=2, min_samples_split=2, n_estimators=100;, score=0.711 total time=   2.1s\n",
      "[CV 3/3] END max_depth=None, min_samples_leaf=2, min_samples_split=2, n_estimators=100;, score=0.730 total time=   2.2s\n",
      "[CV 1/3] END max_depth=None, min_samples_leaf=2, min_samples_split=2, n_estimators=200;, score=0.740 total time=   4.3s\n",
      "[CV 2/3] END max_depth=None, min_samples_leaf=2, min_samples_split=2, n_estimators=200;, score=0.707 total time=   4.5s\n",
      "[CV 3/3] END max_depth=None, min_samples_leaf=2, min_samples_split=2, n_estimators=200;, score=0.728 total time=   4.3s\n",
      "[CV 1/3] END max_depth=None, min_samples_leaf=2, min_samples_split=5, n_estimators=100;, score=0.746 total time=   2.2s\n",
      "[CV 2/3] END max_depth=None, min_samples_leaf=2, min_samples_split=5, n_estimators=100;, score=0.714 total time=   2.1s\n",
      "[CV 3/3] END max_depth=None, min_samples_leaf=2, min_samples_split=5, n_estimators=100;, score=0.737 total time=   2.0s\n",
      "[CV 1/3] END max_depth=None, min_samples_leaf=2, min_samples_split=5, n_estimators=200;, score=0.743 total time=   4.5s\n",
      "[CV 2/3] END max_depth=None, min_samples_leaf=2, min_samples_split=5, n_estimators=200;, score=0.712 total time=   4.2s\n",
      "[CV 3/3] END max_depth=None, min_samples_leaf=2, min_samples_split=5, n_estimators=200;, score=0.731 total time=   4.3s\n",
      "[CV 1/3] END max_depth=10, min_samples_leaf=1, min_samples_split=2, n_estimators=100;, score=0.919 total time=   1.6s\n",
      "[CV 2/3] END max_depth=10, min_samples_leaf=1, min_samples_split=2, n_estimators=100;, score=0.913 total time=   1.7s\n",
      "[CV 3/3] END max_depth=10, min_samples_leaf=1, min_samples_split=2, n_estimators=100;, score=0.897 total time=   1.8s\n",
      "[CV 1/3] END max_depth=10, min_samples_leaf=1, min_samples_split=2, n_estimators=200;, score=0.917 total time=   3.4s\n",
      "[CV 2/3] END max_depth=10, min_samples_leaf=1, min_samples_split=2, n_estimators=200;, score=0.913 total time=   3.3s\n",
      "[CV 3/3] END max_depth=10, min_samples_leaf=1, min_samples_split=2, n_estimators=200;, score=0.895 total time=   3.5s\n",
      "[CV 1/3] END max_depth=10, min_samples_leaf=1, min_samples_split=5, n_estimators=100;, score=0.918 total time=   1.7s\n",
      "[CV 2/3] END max_depth=10, min_samples_leaf=1, min_samples_split=5, n_estimators=100;, score=0.910 total time=   1.6s\n",
      "[CV 3/3] END max_depth=10, min_samples_leaf=1, min_samples_split=5, n_estimators=100;, score=0.899 total time=   1.8s\n",
      "[CV 1/3] END max_depth=10, min_samples_leaf=1, min_samples_split=5, n_estimators=200;, score=0.916 total time=   3.4s\n",
      "[CV 2/3] END max_depth=10, min_samples_leaf=1, min_samples_split=5, n_estimators=200;, score=0.913 total time=   3.3s\n",
      "[CV 3/3] END max_depth=10, min_samples_leaf=1, min_samples_split=5, n_estimators=200;, score=0.893 total time=   3.4s\n",
      "[CV 1/3] END max_depth=10, min_samples_leaf=2, min_samples_split=2, n_estimators=100;, score=0.919 total time=   1.7s\n",
      "[CV 2/3] END max_depth=10, min_samples_leaf=2, min_samples_split=2, n_estimators=100;, score=0.908 total time=   1.6s\n",
      "[CV 3/3] END max_depth=10, min_samples_leaf=2, min_samples_split=2, n_estimators=100;, score=0.895 total time=   1.8s\n",
      "[CV 1/3] END max_depth=10, min_samples_leaf=2, min_samples_split=2, n_estimators=200;, score=0.919 total time=   3.5s\n",
      "[CV 2/3] END max_depth=10, min_samples_leaf=2, min_samples_split=2, n_estimators=200;, score=0.911 total time=   3.4s\n",
      "[CV 3/3] END max_depth=10, min_samples_leaf=2, min_samples_split=2, n_estimators=200;, score=0.895 total time=   3.3s\n",
      "[CV 1/3] END max_depth=10, min_samples_leaf=2, min_samples_split=5, n_estimators=100;, score=0.917 total time=   1.7s\n",
      "[CV 2/3] END max_depth=10, min_samples_leaf=2, min_samples_split=5, n_estimators=100;, score=0.916 total time=   1.6s\n",
      "[CV 3/3] END max_depth=10, min_samples_leaf=2, min_samples_split=5, n_estimators=100;, score=0.898 total time=   1.8s\n",
      "[CV 1/3] END max_depth=10, min_samples_leaf=2, min_samples_split=5, n_estimators=200;, score=0.919 total time=   3.4s\n",
      "[CV 2/3] END max_depth=10, min_samples_leaf=2, min_samples_split=5, n_estimators=200;, score=0.914 total time=   3.3s\n",
      "[CV 3/3] END max_depth=10, min_samples_leaf=2, min_samples_split=5, n_estimators=200;, score=0.896 total time=   3.4s\n",
      "[CV 1/3] END max_depth=20, min_samples_leaf=1, min_samples_split=2, n_estimators=100;, score=0.716 total time=   2.3s\n",
      "[CV 2/3] END max_depth=20, min_samples_leaf=1, min_samples_split=2, n_estimators=100;, score=0.676 total time=   2.2s\n",
      "[CV 3/3] END max_depth=20, min_samples_leaf=1, min_samples_split=2, n_estimators=100;, score=0.704 total time=   2.3s\n",
      "[CV 1/3] END max_depth=20, min_samples_leaf=1, min_samples_split=2, n_estimators=200;, score=0.715 total time=   4.5s\n",
      "[CV 2/3] END max_depth=20, min_samples_leaf=1, min_samples_split=2, n_estimators=200;, score=0.675 total time=   4.5s\n",
      "[CV 3/3] END max_depth=20, min_samples_leaf=1, min_samples_split=2, n_estimators=200;, score=0.704 total time=   4.4s\n",
      "[CV 1/3] END max_depth=20, min_samples_leaf=1, min_samples_split=5, n_estimators=100;, score=0.739 total time=   2.3s\n",
      "[CV 2/3] END max_depth=20, min_samples_leaf=1, min_samples_split=5, n_estimators=100;, score=0.705 total time=   2.1s\n",
      "[CV 3/3] END max_depth=20, min_samples_leaf=1, min_samples_split=5, n_estimators=100;, score=0.728 total time=   2.1s\n",
      "[CV 1/3] END max_depth=20, min_samples_leaf=1, min_samples_split=5, n_estimators=200;, score=0.737 total time=   4.3s\n",
      "[CV 2/3] END max_depth=20, min_samples_leaf=1, min_samples_split=5, n_estimators=200;, score=0.707 total time=   4.3s\n",
      "[CV 3/3] END max_depth=20, min_samples_leaf=1, min_samples_split=5, n_estimators=200;, score=0.725 total time=   4.5s\n",
      "[CV 1/3] END max_depth=20, min_samples_leaf=2, min_samples_split=2, n_estimators=100;, score=0.748 total time=   2.2s\n",
      "[CV 2/3] END max_depth=20, min_samples_leaf=2, min_samples_split=2, n_estimators=100;, score=0.719 total time=   2.2s\n",
      "[CV 3/3] END max_depth=20, min_samples_leaf=2, min_samples_split=2, n_estimators=100;, score=0.738 total time=   2.2s\n",
      "[CV 1/3] END max_depth=20, min_samples_leaf=2, min_samples_split=2, n_estimators=200;, score=0.748 total time=   4.7s\n",
      "[CV 2/3] END max_depth=20, min_samples_leaf=2, min_samples_split=2, n_estimators=200;, score=0.719 total time=   4.7s\n",
      "[CV 3/3] END max_depth=20, min_samples_leaf=2, min_samples_split=2, n_estimators=200;, score=0.737 total time=   4.5s\n",
      "[CV 1/3] END max_depth=20, min_samples_leaf=2, min_samples_split=5, n_estimators=100;, score=0.755 total time=   2.4s\n",
      "[CV 2/3] END max_depth=20, min_samples_leaf=2, min_samples_split=5, n_estimators=100;, score=0.721 total time=   2.2s\n",
      "[CV 3/3] END max_depth=20, min_samples_leaf=2, min_samples_split=5, n_estimators=100;, score=0.743 total time=   2.3s\n",
      "[CV 1/3] END max_depth=20, min_samples_leaf=2, min_samples_split=5, n_estimators=200;, score=0.753 total time=   4.7s\n",
      "[CV 2/3] END max_depth=20, min_samples_leaf=2, min_samples_split=5, n_estimators=200;, score=0.718 total time=   4.4s\n",
      "[CV 3/3] END max_depth=20, min_samples_leaf=2, min_samples_split=5, n_estimators=200;, score=0.742 total time=   4.6s\n",
      "Best parameters: {'max_depth': 10, 'min_samples_leaf': 2, 'min_samples_split': 5, 'n_estimators': 100}\n"
     ]
    }
   ],
   "source": [
    "from sklearn.ensemble import RandomForestClassifier\n",
    "from sklearn.model_selection import GridSearchCV\n",
    "model_rf = RandomForestClassifier(random_state=101, class_weight=\"balanced\")\n",
    "param_grid = {\n",
    "    \"n_estimators\": [100, 200],\n",
    "    \"max_depth\": [None, 10, 20],\n",
    "    \"min_samples_split\": [2, 5],\n",
    "    \"min_samples_leaf\": [1, 2] \n",
    "}\n",
    "grid_rf = GridSearchCV(estimator=model_rf, param_grid=param_grid, scoring=\"recall\", cv=3, verbose=3)\n",
    "grid_rf.fit(X_train, y_train)\n",
    "\n",
    "print(\"Best parameters:\", grid_rf.best_params_)"
   ]
  },
  {
   "cell_type": "markdown",
   "id": "18725a68-e08e-4129-9e36-d26186c33564",
   "metadata": {},
   "source": [
    "**Baseline model + (class_weight=\"balanced\", max_depth=10, min_samples_leaf=2, min_samples_split=5)**"
   ]
  },
  {
   "cell_type": "code",
   "execution_count": 48,
   "id": "0abf0ca2-98d9-40ca-86ca-ad42b7f8131e",
   "metadata": {},
   "outputs": [
    {
     "name": "stdout",
     "output_type": "stream",
     "text": [
      "              precision    recall  f1-score   support\n",
      "\n",
      "           0       0.99      0.90      0.94     27475\n",
      "           1       0.46      0.91      0.61      2525\n",
      "\n",
      "    accuracy                           0.90     30000\n",
      "   macro avg       0.73      0.91      0.78     30000\n",
      "weighted avg       0.95      0.90      0.92     30000\n",
      "\n",
      "ROC-AUC: 0.976\n"
     ]
    }
   ],
   "source": [
    "from sklearn.ensemble import RandomForestClassifier\n",
    "model_rf = RandomForestClassifier(n_estimators=100, random_state=101, class_weight=\"balanced\", \n",
    "                                  max_depth=10, min_samples_leaf=2, min_samples_split=5)\n",
    "model_rf.fit(X_train, y_train)\n",
    "\n",
    "y_pred = model_rf.predict(X_test)\n",
    "y_proba = model_rf.predict_proba(X_test)[:,1]\n",
    "\n",
    "from sklearn.metrics import classification_report, roc_auc_score\n",
    "print(classification_report(y_test, y_pred))\n",
    "print(f\"ROC-AUC: {np.round(roc_auc_score(y_test, y_proba), decimals=3)}\")"
   ]
  },
  {
   "cell_type": "markdown",
   "id": "48128e54-da9d-4ff9-ad78-ff71bbda54bf",
   "metadata": {},
   "source": [
    "Optimal model metrics:\n",
    "**recall_1 = 0.91 / f1-score_1 = 0.61 / ROC-AUC = 0.976**"
   ]
  },
  {
   "cell_type": "markdown",
   "id": "0ac6b6c8-8c08-4d88-9233-cfb16a9bb264",
   "metadata": {},
   "source": [
    "## Gradient Boosting"
   ]
  },
  {
   "cell_type": "markdown",
   "id": "64224490-97c9-4945-ba65-071a6b0c0ef5",
   "metadata": {},
   "source": [
    "**Baseline model**"
   ]
  },
  {
   "cell_type": "code",
   "execution_count": 49,
   "id": "7c56dac4-cb68-44eb-9f21-7b46543c1d6e",
   "metadata": {},
   "outputs": [
    {
     "name": "stdout",
     "output_type": "stream",
     "text": [
      "              precision    recall  f1-score   support\n",
      "\n",
      "           0       0.97      1.00      0.98     27475\n",
      "           1       0.98      0.67      0.80      2525\n",
      "\n",
      "    accuracy                           0.97     30000\n",
      "   macro avg       0.98      0.84      0.89     30000\n",
      "weighted avg       0.97      0.97      0.97     30000\n",
      "\n",
      "ROC-AUC: 0.979\n"
     ]
    }
   ],
   "source": [
    "from sklearn.ensemble import GradientBoostingClassifier\n",
    "model_gb = GradientBoostingClassifier(n_estimators=100, random_state=101)\n",
    "model_gb.fit(X_train, y_train)\n",
    "\n",
    "y_pred = model_gb.predict(X_test)\n",
    "y_proba = model_gb.predict_proba(X_test)[:,1]\n",
    "\n",
    "from sklearn.metrics import classification_report, roc_auc_score\n",
    "print(classification_report(y_test, y_pred))\n",
    "print(f\"ROC-AUC: {np.round(roc_auc_score(y_test, y_proba), decimals=3)}\")"
   ]
  },
  {
   "cell_type": "markdown",
   "id": "0cf89281-a198-4eb9-b4a0-efd272532f3a",
   "metadata": {},
   "source": [
    "**Randomized Search CV**"
   ]
  },
  {
   "cell_type": "code",
   "execution_count": 50,
   "id": "e5f7fe03-2eef-4595-aeb8-60386bba7839",
   "metadata": {
    "scrolled": true
   },
   "outputs": [
    {
     "name": "stdout",
     "output_type": "stream",
     "text": [
      "Fitting 3 folds for each of 10 candidates, totalling 30 fits\n",
      "[CV 1/3] END learning_rate=0.2, max_depth=5, min_samples_leaf=4, min_samples_split=5, n_estimators=300;, score=0.718 total time=  14.1s\n",
      "[CV 2/3] END learning_rate=0.2, max_depth=5, min_samples_leaf=4, min_samples_split=5, n_estimators=300;, score=0.682 total time=  13.8s\n",
      "[CV 3/3] END learning_rate=0.2, max_depth=5, min_samples_leaf=4, min_samples_split=5, n_estimators=300;, score=0.711 total time=  14.0s\n",
      "[CV 1/3] END learning_rate=0.1, max_depth=5, min_samples_leaf=4, min_samples_split=5, n_estimators=200;, score=0.708 total time=   9.0s\n",
      "[CV 2/3] END learning_rate=0.1, max_depth=5, min_samples_leaf=4, min_samples_split=5, n_estimators=200;, score=0.670 total time=   9.2s\n",
      "[CV 3/3] END learning_rate=0.1, max_depth=5, min_samples_leaf=4, min_samples_split=5, n_estimators=200;, score=0.696 total time=   9.1s\n",
      "[CV 1/3] END learning_rate=0.2, max_depth=5, min_samples_leaf=1, min_samples_split=5, n_estimators=200;, score=0.719 total time=   9.2s\n",
      "[CV 2/3] END learning_rate=0.2, max_depth=5, min_samples_leaf=1, min_samples_split=5, n_estimators=200;, score=0.679 total time=   9.5s\n",
      "[CV 3/3] END learning_rate=0.2, max_depth=5, min_samples_leaf=1, min_samples_split=5, n_estimators=200;, score=0.709 total time=   9.5s\n",
      "[CV 1/3] END learning_rate=0.1, max_depth=3, min_samples_leaf=2, min_samples_split=2, n_estimators=300;, score=0.711 total time=   8.8s\n",
      "[CV 2/3] END learning_rate=0.1, max_depth=3, min_samples_leaf=2, min_samples_split=2, n_estimators=300;, score=0.665 total time=   8.8s\n",
      "[CV 3/3] END learning_rate=0.1, max_depth=3, min_samples_leaf=2, min_samples_split=2, n_estimators=300;, score=0.697 total time=   8.7s\n",
      "[CV 1/3] END learning_rate=0.2, max_depth=7, min_samples_leaf=4, min_samples_split=5, n_estimators=200;, score=0.725 total time=  13.5s\n",
      "[CV 2/3] END learning_rate=0.2, max_depth=7, min_samples_leaf=4, min_samples_split=5, n_estimators=200;, score=0.683 total time=  12.9s\n",
      "[CV 3/3] END learning_rate=0.2, max_depth=7, min_samples_leaf=4, min_samples_split=5, n_estimators=200;, score=0.710 total time=  12.8s\n",
      "[CV 1/3] END learning_rate=0.1, max_depth=7, min_samples_leaf=1, min_samples_split=5, n_estimators=200;, score=0.715 total time=  13.0s\n",
      "[CV 2/3] END learning_rate=0.1, max_depth=7, min_samples_leaf=1, min_samples_split=5, n_estimators=200;, score=0.676 total time=  13.7s\n",
      "[CV 3/3] END learning_rate=0.1, max_depth=7, min_samples_leaf=1, min_samples_split=5, n_estimators=200;, score=0.706 total time=  13.5s\n",
      "[CV 1/3] END learning_rate=0.2, max_depth=7, min_samples_leaf=1, min_samples_split=5, n_estimators=100;, score=0.717 total time=   6.8s\n",
      "[CV 2/3] END learning_rate=0.2, max_depth=7, min_samples_leaf=1, min_samples_split=5, n_estimators=100;, score=0.674 total time=   7.2s\n",
      "[CV 3/3] END learning_rate=0.2, max_depth=7, min_samples_leaf=1, min_samples_split=5, n_estimators=100;, score=0.708 total time=   6.5s\n",
      "[CV 1/3] END learning_rate=0.05, max_depth=5, min_samples_leaf=4, min_samples_split=5, n_estimators=100;, score=0.691 total time=   4.4s\n",
      "[CV 2/3] END learning_rate=0.05, max_depth=5, min_samples_leaf=4, min_samples_split=5, n_estimators=100;, score=0.655 total time=   4.5s\n",
      "[CV 3/3] END learning_rate=0.05, max_depth=5, min_samples_leaf=4, min_samples_split=5, n_estimators=100;, score=0.682 total time=   4.3s\n",
      "[CV 1/3] END learning_rate=0.2, max_depth=7, min_samples_leaf=2, min_samples_split=2, n_estimators=300;, score=0.722 total time=  20.0s\n",
      "[CV 2/3] END learning_rate=0.2, max_depth=7, min_samples_leaf=2, min_samples_split=2, n_estimators=300;, score=0.681 total time=  19.3s\n",
      "[CV 3/3] END learning_rate=0.2, max_depth=7, min_samples_leaf=2, min_samples_split=2, n_estimators=300;, score=0.715 total time=  19.4s\n",
      "[CV 1/3] END learning_rate=0.2, max_depth=5, min_samples_leaf=4, min_samples_split=2, n_estimators=300;, score=0.718 total time=  13.6s\n",
      "[CV 2/3] END learning_rate=0.2, max_depth=5, min_samples_leaf=4, min_samples_split=2, n_estimators=300;, score=0.682 total time=  15.4s\n",
      "[CV 3/3] END learning_rate=0.2, max_depth=5, min_samples_leaf=4, min_samples_split=2, n_estimators=300;, score=0.711 total time=  14.8s\n",
      "Best parameters: {'n_estimators': 200, 'min_samples_split': 5, 'min_samples_leaf': 4, 'max_depth': 7, 'learning_rate': 0.2}\n"
     ]
    }
   ],
   "source": [
    "from sklearn.ensemble import GradientBoostingClassifier\n",
    "from sklearn.model_selection import RandomizedSearchCV\n",
    "model_gb = GradientBoostingClassifier(random_state=101)\n",
    "param_distributions = {\n",
    "    \"n_estimators\": [100, 200, 300],\n",
    "    \"learning_rate\": [0.05, 0.1, 0.2],\n",
    "    \"max_depth\": [3, 5, 7],\n",
    "    \"min_samples_split\": [2, 5],\n",
    "    \"min_samples_leaf\": [1, 2, 4] \n",
    "}\n",
    "grid_gb = RandomizedSearchCV(estimator=model_gb, param_distributions=param_distributions, n_iter=10, scoring=\"recall\", cv=3, verbose=3)\n",
    "grid_gb.fit(X_train, y_train)\n",
    "\n",
    "print(\"Best parameters:\", grid_gb.best_params_)"
   ]
  },
  {
   "cell_type": "markdown",
   "id": "7fdc62ea-e3b7-4bc4-a2f1-28a0f9ca2645",
   "metadata": {},
   "source": [
    "**Baseline model + (n_estimators=200, min_samples_split=5, min_samples_leaf=4, max_depth=7, learning_rate=0.2)**"
   ]
  },
  {
   "cell_type": "code",
   "execution_count": 52,
   "id": "99eb268e-92ed-4c04-b02a-b30f90771014",
   "metadata": {},
   "outputs": [
    {
     "name": "stdout",
     "output_type": "stream",
     "text": [
      "              precision    recall  f1-score   support\n",
      "\n",
      "           0       0.97      0.99      0.98     27475\n",
      "           1       0.92      0.69      0.79      2525\n",
      "\n",
      "    accuracy                           0.97     30000\n",
      "   macro avg       0.94      0.84      0.89     30000\n",
      "weighted avg       0.97      0.97      0.97     30000\n",
      "\n",
      "ROC-AUC: 0.973\n"
     ]
    }
   ],
   "source": [
    "from sklearn.ensemble import GradientBoostingClassifier\n",
    "model_gb = GradientBoostingClassifier(random_state=101, n_estimators=200, \n",
    "                                      min_samples_split=5, min_samples_leaf=4, max_depth=7, learning_rate=0.2)\n",
    "model_gb.fit(X_train, y_train)\n",
    "\n",
    "y_pred = model_gb.predict(X_test)\n",
    "y_proba = model_gb.predict_proba(X_test)[:,1]\n",
    "\n",
    "from sklearn.metrics import classification_report, roc_auc_score\n",
    "print(classification_report(y_test, y_pred))\n",
    "print(f\"ROC-AUC: {np.round(roc_auc_score(y_test, y_proba), decimals=3)}\")"
   ]
  },
  {
   "cell_type": "markdown",
   "id": "d3396600-8295-4311-9842-4505f68f61f1",
   "metadata": {},
   "source": [
    "Optimal model metrics:\n",
    "**recall_1 = 0.69 / f1-score_1 = 0.79 / ROC-AUC = 0.973**"
   ]
  },
  {
   "cell_type": "markdown",
   "id": "fa83b793-47b5-4021-82a4-9e23e0fc2220",
   "metadata": {},
   "source": [
    "## Models Comparison"
   ]
  },
  {
   "cell_type": "markdown",
   "id": "8711babb-29ee-45c8-98d6-f761042a5ba4",
   "metadata": {},
   "source": [
    "<table>\n",
    "    <tr>\n",
    "        <th></th>\n",
    "        <th>Recall (class 1)</th>\n",
    "        <th>F1-Score (class 1)</th>\n",
    "        <th>ROC-AUC</tr>\n",
    "    </tr>\n",
    "    <tr>\n",
    "        <td><b>Logistic Regression</b></td>\n",
    "        <td>0.88</td>\n",
    "        <td>0.57</td>\n",
    "        <td>0.962</td>\n",
    "    </tr>\n",
    "    <tr style=\"background-color: #d4edda;\">\n",
    "        <td><b>Random Forest</b></td>\n",
    "        <td>0.91</td>\n",
    "        <td>0.61</td>\n",
    "        <td>0.976</td>\n",
    "    </tr>\n",
    "    <tr>\n",
    "        <td><b>Gradient Boosting</b></td>\n",
    "        <td>0.69</td>\n",
    "        <td>0.79</td>\n",
    "        <td>0.973</td>\n",
    "    </tr>\n",
    "</table>"
   ]
  },
  {
   "cell_type": "markdown",
   "id": "994bc323-e254-47be-97ae-62c9f3d32a8f",
   "metadata": {},
   "source": [
    "In the medical context, where minimizing false negatives is critical, the Random Forest model is the most effective due to its high recall."
   ]
  },
  {
   "cell_type": "markdown",
   "id": "e8b30654-b39c-4a8d-89e3-b6ddc36af599",
   "metadata": {},
   "source": [
    "# Data Analysis (Deep Learning)"
   ]
  },
  {
   "cell_type": "markdown",
   "id": "50424069-8a6a-466c-b79f-8bbe03166a10",
   "metadata": {},
   "source": [
    "## Data Preprocessing"
   ]
  },
  {
   "cell_type": "markdown",
   "id": "a049b18b-9ad4-43f4-9d7f-45d74fbb56b6",
   "metadata": {},
   "source": [
    "Due to the large size of the dataset we will perform data sampling to enable running deep learning computations locally."
   ]
  },
  {
   "cell_type": "markdown",
   "id": "057bffac-68d5-43a9-bb70-1b6c7d577808",
   "metadata": {},
   "source": [
    "**Preparation of data to train/test and sample**"
   ]
  },
  {
   "cell_type": "code",
   "execution_count": 53,
   "id": "89ef29a6-fd92-4001-8ef2-bf0ced106d17",
   "metadata": {},
   "outputs": [],
   "source": [
    "from sklearn.model_selection import train_test_split\n",
    "X = df.drop(columns=[\"diabetes\"])\n",
    "y = df[\"diabetes\"]\n",
    "X_sample, _, y_sample, _ = train_test_split(X, y, train_size=10000, stratify=y, random_state=101)\n",
    "X_train, X_test, y_train, y_test = train_test_split(X_sample, y_sample, test_size=0.3, stratify=y_sample, random_state=101)"
   ]
  },
  {
   "cell_type": "markdown",
   "id": "96bca398-d5ee-4334-87aa-7497c10f5b9b",
   "metadata": {},
   "source": [
    "**Scale data**"
   ]
  },
  {
   "cell_type": "code",
   "execution_count": 54,
   "id": "4827979c-24dc-43ca-b39c-fc7b8404cb5f",
   "metadata": {},
   "outputs": [],
   "source": [
    "from sklearn.preprocessing import StandardScaler\n",
    "num_features = [\"age\", \"bmi\", \"HbA1c_level\", \"blood_glucose_level\"]\n",
    "scaler = StandardScaler()\n",
    "scaler.fit(X_train[num_features])\n",
    "X_train[num_features] = scaler.transform(X_train[num_features])\n",
    "X_test[num_features] = scaler.transform(X_test[num_features])"
   ]
  },
  {
   "cell_type": "markdown",
   "id": "b166b2ca-b6b9-49b9-8805-d82f9949ad9e",
   "metadata": {},
   "source": [
    "## Sequential (Keras-Tensorflow)"
   ]
  },
  {
   "cell_type": "code",
   "execution_count": 56,
   "id": "b9b7de57-ee93-47fc-8ca8-a432b4161018",
   "metadata": {},
   "outputs": [],
   "source": [
    "import random\n",
    "import numpy as np\n",
    "import tensorflow as tf\n",
    "\n",
    "seed = 101\n",
    "random.seed(seed)\n",
    "np.random.seed(seed)\n",
    "tf.random.set_seed(seed)"
   ]
  },
  {
   "cell_type": "markdown",
   "id": "e10e192e-73d8-49a3-a9f2-4f0dcc2d8cd5",
   "metadata": {},
   "source": [
    "**Baseline model**"
   ]
  },
  {
   "cell_type": "code",
   "execution_count": 61,
   "id": "b3b8f130-75ab-4500-a764-c358afd348cd",
   "metadata": {
    "scrolled": true
   },
   "outputs": [
    {
     "name": "stdout",
     "output_type": "stream",
     "text": [
      "Epoch 1/600\n",
      "\u001b[1m219/219\u001b[0m \u001b[32m━━━━━━━━━━━━━━━━━━━━\u001b[0m\u001b[37m\u001b[0m \u001b[1m1s\u001b[0m 3ms/step - loss: 0.3276 - precision: 0.0600 - recall: 0.0101 - val_loss: 0.1808 - val_precision: 1.0000 - val_recall: 0.0039\n",
      "Epoch 2/600\n",
      "\u001b[1m219/219\u001b[0m \u001b[32m━━━━━━━━━━━━━━━━━━━━\u001b[0m\u001b[37m\u001b[0m \u001b[1m0s\u001b[0m 2ms/step - loss: 0.1704 - precision: 0.8564 - recall: 0.2706 - val_loss: 0.1408 - val_precision: 0.8472 - val_recall: 0.4784\n",
      "Epoch 3/600\n",
      "\u001b[1m219/219\u001b[0m \u001b[32m━━━━━━━━━━━━━━━━━━━━\u001b[0m\u001b[37m\u001b[0m \u001b[1m0s\u001b[0m 2ms/step - loss: 0.1461 - precision: 0.7690 - recall: 0.5261 - val_loss: 0.1323 - val_precision: 0.8494 - val_recall: 0.5529\n",
      "Epoch 4/600\n",
      "\u001b[1m219/219\u001b[0m \u001b[32m━━━━━━━━━━━━━━━━━━━━\u001b[0m\u001b[37m\u001b[0m \u001b[1m0s\u001b[0m 2ms/step - loss: 0.1404 - precision: 0.7727 - recall: 0.5714 - val_loss: 0.1278 - val_precision: 0.8555 - val_recall: 0.5804\n",
      "Epoch 5/600\n",
      "\u001b[1m219/219\u001b[0m \u001b[32m━━━━━━━━━━━━━━━━━━━━\u001b[0m\u001b[37m\u001b[0m \u001b[1m0s\u001b[0m 2ms/step - loss: 0.1333 - precision: 0.7968 - recall: 0.5866 - val_loss: 0.1250 - val_precision: 0.8466 - val_recall: 0.5843\n",
      "Epoch 6/600\n",
      "\u001b[1m219/219\u001b[0m \u001b[32m━━━━━━━━━━━━━━━━━━━━\u001b[0m\u001b[37m\u001b[0m \u001b[1m0s\u001b[0m 2ms/step - loss: 0.1268 - precision: 0.8132 - recall: 0.6000 - val_loss: 0.1239 - val_precision: 0.8896 - val_recall: 0.5686\n",
      "Epoch 7/600\n",
      "\u001b[1m219/219\u001b[0m \u001b[32m━━━━━━━━━━━━━━━━━━━━\u001b[0m\u001b[37m\u001b[0m \u001b[1m0s\u001b[0m 2ms/step - loss: 0.1236 - precision: 0.8365 - recall: 0.5933 - val_loss: 0.1210 - val_precision: 0.8588 - val_recall: 0.5961\n",
      "Epoch 8/600\n",
      "\u001b[1m219/219\u001b[0m \u001b[32m━━━━━━━━━━━━━━━━━━━━\u001b[0m\u001b[37m\u001b[0m \u001b[1m0s\u001b[0m 2ms/step - loss: 0.1256 - precision: 0.8460 - recall: 0.6185 - val_loss: 0.1181 - val_precision: 0.8652 - val_recall: 0.6039\n",
      "Epoch 9/600\n",
      "\u001b[1m219/219\u001b[0m \u001b[32m━━━━━━━━━━━━━━━━━━━━\u001b[0m\u001b[37m\u001b[0m \u001b[1m0s\u001b[0m 2ms/step - loss: 0.1199 - precision: 0.8565 - recall: 0.6118 - val_loss: 0.1173 - val_precision: 0.8793 - val_recall: 0.6000\n",
      "Epoch 10/600\n",
      "\u001b[1m219/219\u001b[0m \u001b[32m━━━━━━━━━━━━━━━━━━━━\u001b[0m\u001b[37m\u001b[0m \u001b[1m0s\u001b[0m 2ms/step - loss: 0.1179 - precision: 0.8814 - recall: 0.6118 - val_loss: 0.1158 - val_precision: 0.8693 - val_recall: 0.6000\n",
      "Epoch 11/600\n",
      "\u001b[1m219/219\u001b[0m \u001b[32m━━━━━━━━━━━━━━━━━━━━\u001b[0m\u001b[37m\u001b[0m \u001b[1m0s\u001b[0m 2ms/step - loss: 0.1170 - precision: 0.8678 - recall: 0.6067 - val_loss: 0.1152 - val_precision: 0.8889 - val_recall: 0.5961\n",
      "Epoch 12/600\n",
      "\u001b[1m219/219\u001b[0m \u001b[32m━━━━━━━━━━━━━━━━━━━━\u001b[0m\u001b[37m\u001b[0m \u001b[1m0s\u001b[0m 2ms/step - loss: 0.1166 - precision: 0.8652 - recall: 0.6151 - val_loss: 0.1143 - val_precision: 0.9012 - val_recall: 0.5725\n",
      "Epoch 13/600\n",
      "\u001b[1m219/219\u001b[0m \u001b[32m━━━━━━━━━━━━━━━━━━━━\u001b[0m\u001b[37m\u001b[0m \u001b[1m0s\u001b[0m 2ms/step - loss: 0.1120 - precision: 0.8783 - recall: 0.6185 - val_loss: 0.1126 - val_precision: 0.8994 - val_recall: 0.5961\n",
      "Epoch 14/600\n",
      "\u001b[1m219/219\u001b[0m \u001b[32m━━━━━━━━━━━━━━━━━━━━\u001b[0m\u001b[37m\u001b[0m \u001b[1m0s\u001b[0m 2ms/step - loss: 0.1146 - precision: 0.8845 - recall: 0.6050 - val_loss: 0.1115 - val_precision: 0.9130 - val_recall: 0.5765\n",
      "Epoch 15/600\n",
      "\u001b[1m219/219\u001b[0m \u001b[32m━━━━━━━━━━━━━━━━━━━━\u001b[0m\u001b[37m\u001b[0m \u001b[1m0s\u001b[0m 2ms/step - loss: 0.1144 - precision: 0.8809 - recall: 0.5966 - val_loss: 0.1109 - val_precision: 0.9096 - val_recall: 0.5922\n",
      "Epoch 16/600\n",
      "\u001b[1m219/219\u001b[0m \u001b[32m━━━━━━━━━━━━━━━━━━━━\u001b[0m\u001b[37m\u001b[0m \u001b[1m0s\u001b[0m 2ms/step - loss: 0.1140 - precision: 0.8851 - recall: 0.6084 - val_loss: 0.1099 - val_precision: 0.9064 - val_recall: 0.6078\n",
      "Epoch 17/600\n",
      "\u001b[1m219/219\u001b[0m \u001b[32m━━━━━━━━━━━━━━━━━━━━\u001b[0m\u001b[37m\u001b[0m \u001b[1m0s\u001b[0m 2ms/step - loss: 0.1093 - precision: 0.8863 - recall: 0.6286 - val_loss: 0.1101 - val_precision: 0.9102 - val_recall: 0.5961\n",
      "Epoch 18/600\n",
      "\u001b[1m219/219\u001b[0m \u001b[32m━━━━━━━━━━━━━━━━━━━━\u001b[0m\u001b[37m\u001b[0m \u001b[1m0s\u001b[0m 2ms/step - loss: 0.1094 - precision: 0.8889 - recall: 0.6319 - val_loss: 0.1092 - val_precision: 0.9202 - val_recall: 0.5882\n",
      "Epoch 19/600\n",
      "\u001b[1m219/219\u001b[0m \u001b[32m━━━━━━━━━━━━━━━━━━━━\u001b[0m\u001b[37m\u001b[0m \u001b[1m0s\u001b[0m 2ms/step - loss: 0.1095 - precision: 0.8759 - recall: 0.6286 - val_loss: 0.1093 - val_precision: 0.9250 - val_recall: 0.5804\n",
      "Epoch 20/600\n",
      "\u001b[1m219/219\u001b[0m \u001b[32m━━━━━━━━━━━━━━━━━━━━\u001b[0m\u001b[37m\u001b[0m \u001b[1m0s\u001b[0m 2ms/step - loss: 0.1107 - precision: 0.8862 - recall: 0.6151 - val_loss: 0.1083 - val_precision: 0.9241 - val_recall: 0.5725\n",
      "Epoch 21/600\n",
      "\u001b[1m219/219\u001b[0m \u001b[32m━━━━━━━━━━━━━━━━━━━━\u001b[0m\u001b[37m\u001b[0m \u001b[1m0s\u001b[0m 2ms/step - loss: 0.1061 - precision: 0.8862 - recall: 0.6151 - val_loss: 0.1074 - val_precision: 0.9259 - val_recall: 0.5882\n",
      "Epoch 22/600\n",
      "\u001b[1m219/219\u001b[0m \u001b[32m━━━━━━━━━━━━━━━━━━━━\u001b[0m\u001b[37m\u001b[0m \u001b[1m0s\u001b[0m 2ms/step - loss: 0.1055 - precision: 0.9284 - recall: 0.6319 - val_loss: 0.1070 - val_precision: 0.9157 - val_recall: 0.5961\n",
      "Epoch 23/600\n",
      "\u001b[1m219/219\u001b[0m \u001b[32m━━━━━━━━━━━━━━━━━━━━\u001b[0m\u001b[37m\u001b[0m \u001b[1m0s\u001b[0m 2ms/step - loss: 0.1055 - precision: 0.8926 - recall: 0.6286 - val_loss: 0.1063 - val_precision: 0.9212 - val_recall: 0.5961\n",
      "Epoch 24/600\n",
      "\u001b[1m219/219\u001b[0m \u001b[32m━━━━━━━━━━━━━━━━━━━━\u001b[0m\u001b[37m\u001b[0m \u001b[1m0s\u001b[0m 2ms/step - loss: 0.1064 - precision: 0.8892 - recall: 0.6067 - val_loss: 0.1055 - val_precision: 0.9245 - val_recall: 0.5765\n",
      "Epoch 25/600\n",
      "\u001b[1m219/219\u001b[0m \u001b[32m━━━━━━━━━━━━━━━━━━━━\u001b[0m\u001b[37m\u001b[0m \u001b[1m0s\u001b[0m 2ms/step - loss: 0.1062 - precision: 0.9120 - recall: 0.6269 - val_loss: 0.1048 - val_precision: 0.9202 - val_recall: 0.5882\n",
      "Epoch 26/600\n",
      "\u001b[1m219/219\u001b[0m \u001b[32m━━━━━━━━━━━━━━━━━━━━\u001b[0m\u001b[37m\u001b[0m \u001b[1m0s\u001b[0m 2ms/step - loss: 0.1042 - precision: 0.9231 - recall: 0.6252 - val_loss: 0.1039 - val_precision: 0.9162 - val_recall: 0.6000\n",
      "Epoch 27/600\n",
      "\u001b[1m219/219\u001b[0m \u001b[32m━━━━━━━━━━━━━━━━━━━━\u001b[0m\u001b[37m\u001b[0m \u001b[1m0s\u001b[0m 2ms/step - loss: 0.1028 - precision: 0.9122 - recall: 0.6286 - val_loss: 0.1038 - val_precision: 0.9157 - val_recall: 0.5961\n",
      "Epoch 28/600\n",
      "\u001b[1m219/219\u001b[0m \u001b[32m━━━━━━━━━━━━━━━━━━━━\u001b[0m\u001b[37m\u001b[0m \u001b[1m0s\u001b[0m 2ms/step - loss: 0.0998 - precision: 0.9203 - recall: 0.6403 - val_loss: 0.1039 - val_precision: 0.9367 - val_recall: 0.5804\n",
      "Epoch 29/600\n",
      "\u001b[1m219/219\u001b[0m \u001b[32m━━━━━━━━━━━━━━━━━━━━\u001b[0m\u001b[37m\u001b[0m \u001b[1m0s\u001b[0m 2ms/step - loss: 0.1030 - precision: 0.9193 - recall: 0.6319 - val_loss: 0.1026 - val_precision: 0.9317 - val_recall: 0.5882\n",
      "Epoch 30/600\n",
      "\u001b[1m219/219\u001b[0m \u001b[32m━━━━━━━━━━━━━━━━━━━━\u001b[0m\u001b[37m\u001b[0m \u001b[1m0s\u001b[0m 2ms/step - loss: 0.1002 - precision: 0.9161 - recall: 0.6420 - val_loss: 0.1034 - val_precision: 0.9487 - val_recall: 0.5804\n",
      "Epoch 31/600\n",
      "\u001b[1m219/219\u001b[0m \u001b[32m━━━━━━━━━━━━━━━━━━━━\u001b[0m\u001b[37m\u001b[0m \u001b[1m0s\u001b[0m 2ms/step - loss: 0.0990 - precision: 0.9289 - recall: 0.6370 - val_loss: 0.1020 - val_precision: 0.9375 - val_recall: 0.5882\n",
      "Epoch 32/600\n",
      "\u001b[1m219/219\u001b[0m \u001b[32m━━━━━━━━━━━━━━━━━━━━\u001b[0m\u001b[37m\u001b[0m \u001b[1m0s\u001b[0m 2ms/step - loss: 0.0963 - precision: 0.9327 - recall: 0.6521 - val_loss: 0.1009 - val_precision: 0.9383 - val_recall: 0.5961\n",
      "Epoch 33/600\n",
      "\u001b[1m219/219\u001b[0m \u001b[32m━━━━━━━━━━━━━━━━━━━━\u001b[0m\u001b[37m\u001b[0m \u001b[1m0s\u001b[0m 2ms/step - loss: 0.0991 - precision: 0.9433 - recall: 0.6437 - val_loss: 0.1004 - val_precision: 0.9455 - val_recall: 0.6118\n",
      "Epoch 34/600\n",
      "\u001b[1m219/219\u001b[0m \u001b[32m━━━━━━━━━━━━━━━━━━━━\u001b[0m\u001b[37m\u001b[0m \u001b[1m0s\u001b[0m 2ms/step - loss: 0.1001 - precision: 0.9397 - recall: 0.6286 - val_loss: 0.1001 - val_precision: 0.9623 - val_recall: 0.6000\n",
      "Epoch 35/600\n",
      "\u001b[1m219/219\u001b[0m \u001b[32m━━━━━━━━━━━━━━━━━━━━\u001b[0m\u001b[37m\u001b[0m \u001b[1m0s\u001b[0m 2ms/step - loss: 0.0973 - precision: 0.9384 - recall: 0.6403 - val_loss: 0.0982 - val_precision: 0.9461 - val_recall: 0.6196\n",
      "Epoch 36/600\n",
      "\u001b[1m219/219\u001b[0m \u001b[32m━━━━━━━━━━━━━━━━━━━━\u001b[0m\u001b[37m\u001b[0m \u001b[1m0s\u001b[0m 2ms/step - loss: 0.0936 - precision: 0.9325 - recall: 0.6504 - val_loss: 0.0991 - val_precision: 0.9568 - val_recall: 0.6078\n",
      "Epoch 37/600\n",
      "\u001b[1m219/219\u001b[0m \u001b[32m━━━━━━━━━━━━━━━━━━━━\u001b[0m\u001b[37m\u001b[0m \u001b[1m0s\u001b[0m 2ms/step - loss: 0.0972 - precision: 0.9401 - recall: 0.6336 - val_loss: 0.0977 - val_precision: 0.9571 - val_recall: 0.6118\n",
      "Epoch 38/600\n",
      "\u001b[1m219/219\u001b[0m \u001b[32m━━━━━━━━━━━━━━━━━━━━\u001b[0m\u001b[37m\u001b[0m \u001b[1m0s\u001b[0m 2ms/step - loss: 0.0958 - precision: 0.9496 - recall: 0.6336 - val_loss: 0.0974 - val_precision: 0.9573 - val_recall: 0.6157\n",
      "Epoch 39/600\n",
      "\u001b[1m219/219\u001b[0m \u001b[32m━━━━━━━━━━━━━━━━━━━━\u001b[0m\u001b[37m\u001b[0m \u001b[1m0s\u001b[0m 2ms/step - loss: 0.0931 - precision: 0.9577 - recall: 0.6471 - val_loss: 0.0971 - val_precision: 0.9689 - val_recall: 0.6118\n",
      "Epoch 40/600\n",
      "\u001b[1m219/219\u001b[0m \u001b[32m━━━━━━━━━━━━━━━━━━━━\u001b[0m\u001b[37m\u001b[0m \u001b[1m0s\u001b[0m 2ms/step - loss: 0.0942 - precision: 0.9443 - recall: 0.6555 - val_loss: 0.0964 - val_precision: 0.9691 - val_recall: 0.6157\n",
      "Epoch 41/600\n",
      "\u001b[1m219/219\u001b[0m \u001b[32m━━━━━━━━━━━━━━━━━━━━\u001b[0m\u001b[37m\u001b[0m \u001b[1m0s\u001b[0m 2ms/step - loss: 0.0919 - precision: 0.9559 - recall: 0.6555 - val_loss: 0.0961 - val_precision: 1.0000 - val_recall: 0.6157\n",
      "Epoch 42/600\n",
      "\u001b[1m219/219\u001b[0m \u001b[32m━━━━━━━━━━━━━━━━━━━━\u001b[0m\u001b[37m\u001b[0m \u001b[1m0s\u001b[0m 2ms/step - loss: 0.0932 - precision: 0.9529 - recall: 0.6454 - val_loss: 0.0949 - val_precision: 0.9693 - val_recall: 0.6196\n",
      "Epoch 43/600\n",
      "\u001b[1m219/219\u001b[0m \u001b[32m━━━━━━━━━━━━━━━━━━━━\u001b[0m\u001b[37m\u001b[0m \u001b[1m0s\u001b[0m 2ms/step - loss: 0.0910 - precision: 0.9653 - recall: 0.6555 - val_loss: 0.0940 - val_precision: 0.9758 - val_recall: 0.6314\n",
      "Epoch 44/600\n",
      "\u001b[1m219/219\u001b[0m \u001b[32m━━━━━━━━━━━━━━━━━━━━\u001b[0m\u001b[37m\u001b[0m \u001b[1m0s\u001b[0m 2ms/step - loss: 0.0921 - precision: 0.9604 - recall: 0.6521 - val_loss: 0.0943 - val_precision: 0.9936 - val_recall: 0.6118\n",
      "Epoch 45/600\n",
      "\u001b[1m219/219\u001b[0m \u001b[32m━━━━━━━━━━━━━━━━━━━━\u001b[0m\u001b[37m\u001b[0m \u001b[1m0s\u001b[0m 2ms/step - loss: 0.0917 - precision: 0.9637 - recall: 0.6689 - val_loss: 0.0942 - val_precision: 0.9875 - val_recall: 0.6196\n",
      "Epoch 46/600\n",
      "\u001b[1m219/219\u001b[0m \u001b[32m━━━━━━━━━━━━━━━━━━━━\u001b[0m\u001b[37m\u001b[0m \u001b[1m0s\u001b[0m 2ms/step - loss: 0.0917 - precision: 0.9576 - recall: 0.6454 - val_loss: 0.0937 - val_precision: 0.9755 - val_recall: 0.6235\n",
      "Epoch 47/600\n",
      "\u001b[1m219/219\u001b[0m \u001b[32m━━━━━━━━━━━━━━━━━━━━\u001b[0m\u001b[37m\u001b[0m \u001b[1m0s\u001b[0m 2ms/step - loss: 0.0884 - precision: 0.9452 - recall: 0.6672 - val_loss: 0.0932 - val_precision: 0.9937 - val_recall: 0.6196\n",
      "Epoch 48/600\n",
      "\u001b[1m219/219\u001b[0m \u001b[32m━━━━━━━━━━━━━━━━━━━━\u001b[0m\u001b[37m\u001b[0m \u001b[1m0s\u001b[0m 2ms/step - loss: 0.0889 - precision: 0.9828 - recall: 0.6723 - val_loss: 0.0930 - val_precision: 0.9875 - val_recall: 0.6196\n",
      "Epoch 49/600\n",
      "\u001b[1m219/219\u001b[0m \u001b[32m━━━━━━━━━━━━━━━━━━━━\u001b[0m\u001b[37m\u001b[0m \u001b[1m0s\u001b[0m 2ms/step - loss: 0.0887 - precision: 0.9655 - recall: 0.6588 - val_loss: 0.0927 - val_precision: 1.0000 - val_recall: 0.6196\n",
      "Epoch 50/600\n",
      "\u001b[1m219/219\u001b[0m \u001b[32m━━━━━━━━━━━━━━━━━━━━\u001b[0m\u001b[37m\u001b[0m \u001b[1m0s\u001b[0m 2ms/step - loss: 0.0890 - precision: 0.9630 - recall: 0.6555 - val_loss: 0.0929 - val_precision: 0.9937 - val_recall: 0.6235\n",
      "Epoch 51/600\n",
      "\u001b[1m219/219\u001b[0m \u001b[32m━━━━━━━━━━━━━━━━━━━━\u001b[0m\u001b[37m\u001b[0m \u001b[1m0s\u001b[0m 2ms/step - loss: 0.0864 - precision: 0.9752 - recall: 0.6605 - val_loss: 0.0933 - val_precision: 0.9937 - val_recall: 0.6235\n",
      "Epoch 52/600\n",
      "\u001b[1m219/219\u001b[0m \u001b[32m━━━━━━━━━━━━━━━━━━━━\u001b[0m\u001b[37m\u001b[0m \u001b[1m0s\u001b[0m 2ms/step - loss: 0.0884 - precision: 0.9681 - recall: 0.6639 - val_loss: 0.0920 - val_precision: 1.0000 - val_recall: 0.6235\n",
      "Epoch 53/600\n",
      "\u001b[1m219/219\u001b[0m \u001b[32m━━━━━━━━━━━━━━━━━━━━\u001b[0m\u001b[37m\u001b[0m \u001b[1m0s\u001b[0m 2ms/step - loss: 0.0857 - precision: 0.9803 - recall: 0.6706 - val_loss: 0.0917 - val_precision: 0.9819 - val_recall: 0.6392\n",
      "Epoch 54/600\n",
      "\u001b[1m219/219\u001b[0m \u001b[32m━━━━━━━━━━━━━━━━━━━━\u001b[0m\u001b[37m\u001b[0m \u001b[1m0s\u001b[0m 2ms/step - loss: 0.0871 - precision: 0.9754 - recall: 0.6655 - val_loss: 0.0913 - val_precision: 0.9939 - val_recall: 0.6353\n",
      "Epoch 55/600\n",
      "\u001b[1m219/219\u001b[0m \u001b[32m━━━━━━━━━━━━━━━━━━━━\u001b[0m\u001b[37m\u001b[0m \u001b[1m0s\u001b[0m 2ms/step - loss: 0.0867 - precision: 0.9753 - recall: 0.6639 - val_loss: 0.0913 - val_precision: 0.9877 - val_recall: 0.6314\n",
      "Epoch 56/600\n",
      "\u001b[1m219/219\u001b[0m \u001b[32m━━━━━━━━━━━━━━━━━━━━\u001b[0m\u001b[37m\u001b[0m \u001b[1m0s\u001b[0m 2ms/step - loss: 0.0867 - precision: 0.9781 - recall: 0.6756 - val_loss: 0.0911 - val_precision: 1.0000 - val_recall: 0.6353\n",
      "Epoch 57/600\n",
      "\u001b[1m219/219\u001b[0m \u001b[32m━━━━━━━━━━━━━━━━━━━━\u001b[0m\u001b[37m\u001b[0m \u001b[1m0s\u001b[0m 2ms/step - loss: 0.0839 - precision: 0.9686 - recall: 0.6739 - val_loss: 0.0917 - val_precision: 1.0000 - val_recall: 0.6353\n",
      "Epoch 58/600\n",
      "\u001b[1m219/219\u001b[0m \u001b[32m━━━━━━━━━━━━━━━━━━━━\u001b[0m\u001b[37m\u001b[0m \u001b[1m0s\u001b[0m 2ms/step - loss: 0.0865 - precision: 0.9754 - recall: 0.6655 - val_loss: 0.0915 - val_precision: 0.9939 - val_recall: 0.6353\n",
      "Epoch 59/600\n",
      "\u001b[1m219/219\u001b[0m \u001b[32m━━━━━━━━━━━━━━━━━━━━\u001b[0m\u001b[37m\u001b[0m \u001b[1m0s\u001b[0m 2ms/step - loss: 0.0836 - precision: 0.9851 - recall: 0.6655 - val_loss: 0.0913 - val_precision: 0.9939 - val_recall: 0.6353\n",
      "Epoch 60/600\n",
      "\u001b[1m219/219\u001b[0m \u001b[32m━━━━━━━━━━━━━━━━━━━━\u001b[0m\u001b[37m\u001b[0m \u001b[1m0s\u001b[0m 2ms/step - loss: 0.0839 - precision: 0.9782 - recall: 0.6790 - val_loss: 0.0915 - val_precision: 0.9939 - val_recall: 0.6392\n",
      "Epoch 61/600\n",
      "\u001b[1m219/219\u001b[0m \u001b[32m━━━━━━━━━━━━━━━━━━━━\u001b[0m\u001b[37m\u001b[0m \u001b[1m0s\u001b[0m 2ms/step - loss: 0.0841 - precision: 0.9688 - recall: 0.6790 - val_loss: 0.0909 - val_precision: 0.9878 - val_recall: 0.6353\n",
      "Epoch 62/600\n",
      "\u001b[1m219/219\u001b[0m \u001b[32m━━━━━━━━━━━━━━━━━━━━\u001b[0m\u001b[37m\u001b[0m \u001b[1m0s\u001b[0m 2ms/step - loss: 0.0828 - precision: 0.9806 - recall: 0.6807 - val_loss: 0.0908 - val_precision: 1.0000 - val_recall: 0.6314\n",
      "Epoch 63/600\n",
      "\u001b[1m219/219\u001b[0m \u001b[32m━━━━━━━━━━━━━━━━━━━━\u001b[0m\u001b[37m\u001b[0m \u001b[1m0s\u001b[0m 2ms/step - loss: 0.0834 - precision: 0.9926 - recall: 0.6756 - val_loss: 0.0899 - val_precision: 0.9939 - val_recall: 0.6353\n",
      "Epoch 64/600\n",
      "\u001b[1m219/219\u001b[0m \u001b[32m━━━━━━━━━━━━━━━━━━━━\u001b[0m\u001b[37m\u001b[0m \u001b[1m0s\u001b[0m 2ms/step - loss: 0.0838 - precision: 0.9808 - recall: 0.6857 - val_loss: 0.0899 - val_precision: 0.9819 - val_recall: 0.6392\n",
      "Epoch 65/600\n",
      "\u001b[1m219/219\u001b[0m \u001b[32m━━━━━━━━━━━━━━━━━━━━\u001b[0m\u001b[37m\u001b[0m \u001b[1m0s\u001b[0m 2ms/step - loss: 0.0808 - precision: 0.9789 - recall: 0.7008 - val_loss: 0.0904 - val_precision: 1.0000 - val_recall: 0.6392\n",
      "Epoch 66/600\n",
      "\u001b[1m219/219\u001b[0m \u001b[32m━━━━━━━━━━━━━━━━━━━━\u001b[0m\u001b[37m\u001b[0m \u001b[1m0s\u001b[0m 2ms/step - loss: 0.0807 - precision: 0.9855 - recall: 0.6857 - val_loss: 0.0902 - val_precision: 1.0000 - val_recall: 0.6392\n",
      "Epoch 67/600\n",
      "\u001b[1m219/219\u001b[0m \u001b[32m━━━━━━━━━━━━━━━━━━━━\u001b[0m\u001b[37m\u001b[0m \u001b[1m0s\u001b[0m 2ms/step - loss: 0.0829 - precision: 0.9760 - recall: 0.6840 - val_loss: 0.0901 - val_precision: 1.0000 - val_recall: 0.6392\n",
      "Epoch 68/600\n",
      "\u001b[1m219/219\u001b[0m \u001b[32m━━━━━━━━━━━━━━━━━━━━\u001b[0m\u001b[37m\u001b[0m \u001b[1m0s\u001b[0m 2ms/step - loss: 0.0818 - precision: 0.9690 - recall: 0.6824 - val_loss: 0.0905 - val_precision: 1.0000 - val_recall: 0.6353\n",
      "Epoch 69/600\n",
      "\u001b[1m219/219\u001b[0m \u001b[32m━━━━━━━━━━━━━━━━━━━━\u001b[0m\u001b[37m\u001b[0m \u001b[1m0s\u001b[0m 2ms/step - loss: 0.0830 - precision: 0.9783 - recall: 0.6807 - val_loss: 0.0903 - val_precision: 1.0000 - val_recall: 0.6353\n",
      "Epoch 70/600\n",
      "\u001b[1m219/219\u001b[0m \u001b[32m━━━━━━━━━━━━━━━━━━━━\u001b[0m\u001b[37m\u001b[0m \u001b[1m0s\u001b[0m 2ms/step - loss: 0.0814 - precision: 0.9807 - recall: 0.6840 - val_loss: 0.0900 - val_precision: 1.0000 - val_recall: 0.6392\n",
      "Epoch 71/600\n",
      "\u001b[1m219/219\u001b[0m \u001b[32m━━━━━━━━━━━━━━━━━━━━\u001b[0m\u001b[37m\u001b[0m \u001b[1m0s\u001b[0m 2ms/step - loss: 0.0817 - precision: 0.9781 - recall: 0.6756 - val_loss: 0.0897 - val_precision: 1.0000 - val_recall: 0.6353\n",
      "Epoch 72/600\n",
      "\u001b[1m219/219\u001b[0m \u001b[32m━━━━━━━━━━━━━━━━━━━━\u001b[0m\u001b[37m\u001b[0m \u001b[1m0s\u001b[0m 2ms/step - loss: 0.0815 - precision: 0.9832 - recall: 0.6874 - val_loss: 0.0902 - val_precision: 1.0000 - val_recall: 0.6353\n",
      "Epoch 73/600\n",
      "\u001b[1m219/219\u001b[0m \u001b[32m━━━━━━━━━━━━━━━━━━━━\u001b[0m\u001b[37m\u001b[0m \u001b[1m0s\u001b[0m 2ms/step - loss: 0.0831 - precision: 0.9807 - recall: 0.6824 - val_loss: 0.0895 - val_precision: 1.0000 - val_recall: 0.6353\n",
      "Epoch 74/600\n",
      "\u001b[1m219/219\u001b[0m \u001b[32m━━━━━━━━━━━━━━━━━━━━\u001b[0m\u001b[37m\u001b[0m \u001b[1m0s\u001b[0m 2ms/step - loss: 0.0808 - precision: 0.9903 - recall: 0.6891 - val_loss: 0.0898 - val_precision: 1.0000 - val_recall: 0.6353\n",
      "Epoch 75/600\n",
      "\u001b[1m219/219\u001b[0m \u001b[32m━━━━━━━━━━━━━━━━━━━━\u001b[0m\u001b[37m\u001b[0m \u001b[1m0s\u001b[0m 2ms/step - loss: 0.0806 - precision: 0.9951 - recall: 0.6824 - val_loss: 0.0896 - val_precision: 1.0000 - val_recall: 0.6353\n",
      "Epoch 76/600\n",
      "\u001b[1m219/219\u001b[0m \u001b[32m━━━━━━━━━━━━━━━━━━━━\u001b[0m\u001b[37m\u001b[0m \u001b[1m0s\u001b[0m 2ms/step - loss: 0.0796 - precision: 0.9903 - recall: 0.6857 - val_loss: 0.0903 - val_precision: 1.0000 - val_recall: 0.6353\n",
      "Epoch 77/600\n",
      "\u001b[1m219/219\u001b[0m \u001b[32m━━━━━━━━━━━━━━━━━━━━\u001b[0m\u001b[37m\u001b[0m \u001b[1m0s\u001b[0m 2ms/step - loss: 0.0788 - precision: 0.9786 - recall: 0.6908 - val_loss: 0.0898 - val_precision: 1.0000 - val_recall: 0.6353\n",
      "Epoch 78/600\n",
      "\u001b[1m219/219\u001b[0m \u001b[32m━━━━━━━━━━━━━━━━━━━━\u001b[0m\u001b[37m\u001b[0m \u001b[1m0s\u001b[0m 2ms/step - loss: 0.0789 - precision: 0.9858 - recall: 0.7008 - val_loss: 0.0899 - val_precision: 1.0000 - val_recall: 0.6353\n",
      "Epoch 79/600\n",
      "\u001b[1m219/219\u001b[0m \u001b[32m━━━━━━━━━━━━━━━━━━━━\u001b[0m\u001b[37m\u001b[0m \u001b[1m0s\u001b[0m 2ms/step - loss: 0.0818 - precision: 0.9671 - recall: 0.6924 - val_loss: 0.0894 - val_precision: 1.0000 - val_recall: 0.6353\n",
      "Epoch 80/600\n",
      "\u001b[1m219/219\u001b[0m \u001b[32m━━━━━━━━━━━━━━━━━━━━\u001b[0m\u001b[37m\u001b[0m \u001b[1m0s\u001b[0m 2ms/step - loss: 0.0804 - precision: 0.9833 - recall: 0.6908 - val_loss: 0.0891 - val_precision: 1.0000 - val_recall: 0.6353\n",
      "Epoch 81/600\n",
      "\u001b[1m219/219\u001b[0m \u001b[32m━━━━━━━━━━━━━━━━━━━━\u001b[0m\u001b[37m\u001b[0m \u001b[1m0s\u001b[0m 2ms/step - loss: 0.0816 - precision: 0.9764 - recall: 0.6941 - val_loss: 0.0888 - val_precision: 1.0000 - val_recall: 0.6392\n",
      "Epoch 82/600\n",
      "\u001b[1m219/219\u001b[0m \u001b[32m━━━━━━━━━━━━━━━━━━━━\u001b[0m\u001b[37m\u001b[0m \u001b[1m0s\u001b[0m 2ms/step - loss: 0.0808 - precision: 0.9690 - recall: 0.6824 - val_loss: 0.0885 - val_precision: 1.0000 - val_recall: 0.6353\n",
      "Epoch 83/600\n",
      "\u001b[1m219/219\u001b[0m \u001b[32m━━━━━━━━━━━━━━━━━━━━\u001b[0m\u001b[37m\u001b[0m \u001b[1m0s\u001b[0m 2ms/step - loss: 0.0777 - precision: 0.9765 - recall: 0.6975 - val_loss: 0.0901 - val_precision: 1.0000 - val_recall: 0.6353\n",
      "\u001b[1m94/94\u001b[0m \u001b[32m━━━━━━━━━━━━━━━━━━━━\u001b[0m\u001b[37m\u001b[0m \u001b[1m0s\u001b[0m 900us/step\n",
      "              precision    recall  f1-score   support\n",
      "\n",
      "           0       0.97      1.00      0.98      2745\n",
      "           1       0.98      0.64      0.77       255\n",
      "\n",
      "    accuracy                           0.97      3000\n",
      "   macro avg       0.97      0.82      0.88      3000\n",
      "weighted avg       0.97      0.97      0.97      3000\n",
      "\n",
      "ROC-AUC: 0.973\n"
     ]
    }
   ],
   "source": [
    "from tensorflow.keras.models import Sequential\n",
    "from tensorflow.keras.layers import Input, Dense, Dropout\n",
    "from tensorflow.keras.metrics import Precision, Recall, AUC\n",
    "from tensorflow.keras.callbacks import EarlyStopping\n",
    "\n",
    "model_seq = Sequential()\n",
    "model_seq.add(Input(shape=(X_train.shape[1],)))\n",
    "model_seq.add(Dense(32, activation=\"relu\"))\n",
    "model_seq.add(Dropout(0.3))\n",
    "model_seq.add(Dense(16, activation=\"relu\"))\n",
    "model_seq.add(Dropout(0.3))\n",
    "model_seq.add(Dense(1, activation='sigmoid'))\n",
    "\n",
    "model_seq.compile(optimizer=\"adam\", loss='binary_crossentropy', metrics=[Recall(name=\"recall\"), Precision(name=\"precision\")])\n",
    "early_stop = EarlyStopping(monitor='val_recall', mode='max', patience=30, restore_best_weights=True)\n",
    "\n",
    "history = model_seq.fit(x=X_train, y=y_train, batch_size=32, epochs=600, validation_data=(X_test, y_test), callbacks=[early_stop], verbose=1)\n",
    "\n",
    "y_proba = model_seq.predict(X_test)\n",
    "y_pred = (y_proba > 0.5).astype(\"int32\")\n",
    "\n",
    "from sklearn.metrics import classification_report, roc_auc_score\n",
    "print(classification_report(y_test, y_pred))\n",
    "print(f\"ROC-AUC: {np.round(roc_auc_score(y_test, y_proba), decimals=3)}\")"
   ]
  },
  {
   "cell_type": "markdown",
   "id": "a2931e23-446c-40ca-a6a7-2cff90067b35",
   "metadata": {},
   "source": [
    "**Baseline model + (neurons 62/32)**"
   ]
  },
  {
   "cell_type": "code",
   "execution_count": 62,
   "id": "9cdbf48f-bf9f-4695-80e8-6d69e25430a5",
   "metadata": {
    "scrolled": true
   },
   "outputs": [
    {
     "name": "stdout",
     "output_type": "stream",
     "text": [
      "Epoch 1/600\n",
      "\u001b[1m219/219\u001b[0m \u001b[32m━━━━━━━━━━━━━━━━━━━━\u001b[0m\u001b[37m\u001b[0m \u001b[1m1s\u001b[0m 3ms/step - loss: 0.2464 - precision: 0.6434 - recall: 0.2639 - val_loss: 0.1387 - val_precision: 0.8389 - val_recall: 0.4902\n",
      "Epoch 2/600\n",
      "\u001b[1m219/219\u001b[0m \u001b[32m━━━━━━━━━━━━━━━━━━━━\u001b[0m\u001b[37m\u001b[0m \u001b[1m0s\u001b[0m 2ms/step - loss: 0.1360 - precision: 0.7846 - recall: 0.5815 - val_loss: 0.1280 - val_precision: 0.8278 - val_recall: 0.5843\n",
      "Epoch 3/600\n",
      "\u001b[1m219/219\u001b[0m \u001b[32m━━━━━━━━━━━━━━━━━━━━\u001b[0m\u001b[37m\u001b[0m \u001b[1m0s\u001b[0m 2ms/step - loss: 0.1324 - precision: 0.8048 - recall: 0.6168 - val_loss: 0.1239 - val_precision: 0.8389 - val_recall: 0.5922\n",
      "Epoch 4/600\n",
      "\u001b[1m219/219\u001b[0m \u001b[32m━━━━━━━━━━━━━━━━━━━━\u001b[0m\u001b[37m\u001b[0m \u001b[1m0s\u001b[0m 2ms/step - loss: 0.1265 - precision: 0.8178 - recall: 0.6185 - val_loss: 0.1210 - val_precision: 0.8580 - val_recall: 0.5922\n",
      "Epoch 5/600\n",
      "\u001b[1m219/219\u001b[0m \u001b[32m━━━━━━━━━━━━━━━━━━━━\u001b[0m\u001b[37m\u001b[0m \u001b[1m0s\u001b[0m 2ms/step - loss: 0.1200 - precision: 0.8523 - recall: 0.6303 - val_loss: 0.1198 - val_precision: 0.8663 - val_recall: 0.5843\n",
      "Epoch 6/600\n",
      "\u001b[1m219/219\u001b[0m \u001b[32m━━━━━━━━━━━━━━━━━━━━\u001b[0m\u001b[37m\u001b[0m \u001b[1m0s\u001b[0m 2ms/step - loss: 0.1180 - precision: 0.8635 - recall: 0.6168 - val_loss: 0.1186 - val_precision: 0.8727 - val_recall: 0.5647\n",
      "Epoch 7/600\n",
      "\u001b[1m219/219\u001b[0m \u001b[32m━━━━━━━━━━━━━━━━━━━━\u001b[0m\u001b[37m\u001b[0m \u001b[1m0s\u001b[0m 2ms/step - loss: 0.1164 - precision: 0.8568 - recall: 0.6336 - val_loss: 0.1143 - val_precision: 0.8935 - val_recall: 0.5922\n",
      "Epoch 8/600\n",
      "\u001b[1m219/219\u001b[0m \u001b[32m━━━━━━━━━━━━━━━━━━━━\u001b[0m\u001b[37m\u001b[0m \u001b[1m0s\u001b[0m 2ms/step - loss: 0.1116 - precision: 0.8753 - recall: 0.6370 - val_loss: 0.1114 - val_precision: 0.8929 - val_recall: 0.5882\n",
      "Epoch 9/600\n",
      "\u001b[1m219/219\u001b[0m \u001b[32m━━━━━━━━━━━━━━━━━━━━\u001b[0m\u001b[37m\u001b[0m \u001b[1m0s\u001b[0m 2ms/step - loss: 0.1100 - precision: 0.8902 - recall: 0.6538 - val_loss: 0.1089 - val_precision: 0.9048 - val_recall: 0.5961\n",
      "Epoch 10/600\n",
      "\u001b[1m219/219\u001b[0m \u001b[32m━━━━━━━━━━━━━━━━━━━━\u001b[0m\u001b[37m\u001b[0m \u001b[1m0s\u001b[0m 2ms/step - loss: 0.1067 - precision: 0.9031 - recall: 0.6420 - val_loss: 0.1080 - val_precision: 0.9152 - val_recall: 0.5922\n",
      "Epoch 11/600\n",
      "\u001b[1m219/219\u001b[0m \u001b[32m━━━━━━━━━━━━━━━━━━━━\u001b[0m\u001b[37m\u001b[0m \u001b[1m0s\u001b[0m 2ms/step - loss: 0.1036 - precision: 0.9157 - recall: 0.6387 - val_loss: 0.1063 - val_precision: 0.9268 - val_recall: 0.5961\n",
      "Epoch 12/600\n",
      "\u001b[1m219/219\u001b[0m \u001b[32m━━━━━━━━━━━━━━━━━━━━\u001b[0m\u001b[37m\u001b[0m \u001b[1m0s\u001b[0m 2ms/step - loss: 0.1013 - precision: 0.9139 - recall: 0.6420 - val_loss: 0.1054 - val_precision: 0.9490 - val_recall: 0.5843\n",
      "Epoch 13/600\n",
      "\u001b[1m219/219\u001b[0m \u001b[32m━━━━━━━━━━━━━━━━━━━━\u001b[0m\u001b[37m\u001b[0m \u001b[1m0s\u001b[0m 2ms/step - loss: 0.1019 - precision: 0.9173 - recall: 0.6521 - val_loss: 0.1035 - val_precision: 0.9494 - val_recall: 0.5882\n",
      "Epoch 14/600\n",
      "\u001b[1m219/219\u001b[0m \u001b[32m━━━━━━━━━━━━━━━━━━━━\u001b[0m\u001b[37m\u001b[0m \u001b[1m0s\u001b[0m 2ms/step - loss: 0.0960 - precision: 0.9384 - recall: 0.6655 - val_loss: 0.1026 - val_precision: 0.9673 - val_recall: 0.5804\n",
      "Epoch 15/600\n",
      "\u001b[1m219/219\u001b[0m \u001b[32m━━━━━━━━━━━━━━━━━━━━\u001b[0m\u001b[37m\u001b[0m \u001b[1m0s\u001b[0m 2ms/step - loss: 0.0988 - precision: 0.9403 - recall: 0.6353 - val_loss: 0.1012 - val_precision: 0.9742 - val_recall: 0.5922\n",
      "Epoch 16/600\n",
      "\u001b[1m219/219\u001b[0m \u001b[32m━━━━━━━━━━━━━━━━━━━━\u001b[0m\u001b[37m\u001b[0m \u001b[1m0s\u001b[0m 2ms/step - loss: 0.0977 - precision: 0.9360 - recall: 0.6387 - val_loss: 0.0996 - val_precision: 0.9625 - val_recall: 0.6039\n",
      "Epoch 17/600\n",
      "\u001b[1m219/219\u001b[0m \u001b[32m━━━━━━━━━━━━━━━━━━━━\u001b[0m\u001b[37m\u001b[0m \u001b[1m0s\u001b[0m 2ms/step - loss: 0.0971 - precision: 0.9484 - recall: 0.6487 - val_loss: 0.0992 - val_precision: 0.9623 - val_recall: 0.6000\n",
      "Epoch 18/600\n",
      "\u001b[1m219/219\u001b[0m \u001b[32m━━━━━━━━━━━━━━━━━━━━\u001b[0m\u001b[37m\u001b[0m \u001b[1m0s\u001b[0m 2ms/step - loss: 0.0948 - precision: 0.9369 - recall: 0.6487 - val_loss: 0.0978 - val_precision: 0.9630 - val_recall: 0.6118\n",
      "Epoch 19/600\n",
      "\u001b[1m219/219\u001b[0m \u001b[32m━━━━━━━━━━━━━━━━━━━━\u001b[0m\u001b[37m\u001b[0m \u001b[1m0s\u001b[0m 2ms/step - loss: 0.0965 - precision: 0.9340 - recall: 0.6420 - val_loss: 0.0977 - val_precision: 0.9512 - val_recall: 0.6118\n",
      "Epoch 20/600\n",
      "\u001b[1m219/219\u001b[0m \u001b[32m━━━━━━━━━━━━━━━━━━━━\u001b[0m\u001b[37m\u001b[0m \u001b[1m0s\u001b[0m 2ms/step - loss: 0.0919 - precision: 0.9450 - recall: 0.6639 - val_loss: 0.0979 - val_precision: 0.9810 - val_recall: 0.6078\n",
      "Epoch 21/600\n",
      "\u001b[1m219/219\u001b[0m \u001b[32m━━━━━━━━━━━━━━━━━━━━\u001b[0m\u001b[37m\u001b[0m \u001b[1m0s\u001b[0m 2ms/step - loss: 0.0903 - precision: 0.9492 - recall: 0.6588 - val_loss: 0.0984 - val_precision: 0.9812 - val_recall: 0.6157\n",
      "Epoch 22/600\n",
      "\u001b[1m219/219\u001b[0m \u001b[32m━━━━━━━━━━━━━━━━━━━━\u001b[0m\u001b[37m\u001b[0m \u001b[1m0s\u001b[0m 2ms/step - loss: 0.0913 - precision: 0.9564 - recall: 0.6639 - val_loss: 0.0960 - val_precision: 0.9753 - val_recall: 0.6196\n",
      "Epoch 23/600\n",
      "\u001b[1m219/219\u001b[0m \u001b[32m━━━━━━━━━━━━━━━━━━━━\u001b[0m\u001b[37m\u001b[0m \u001b[1m0s\u001b[0m 2ms/step - loss: 0.0900 - precision: 0.9475 - recall: 0.6672 - val_loss: 0.0954 - val_precision: 0.9697 - val_recall: 0.6275\n",
      "Epoch 24/600\n",
      "\u001b[1m219/219\u001b[0m \u001b[32m━━━━━━━━━━━━━━━━━━━━\u001b[0m\u001b[37m\u001b[0m \u001b[1m0s\u001b[0m 2ms/step - loss: 0.0903 - precision: 0.9465 - recall: 0.6538 - val_loss: 0.0960 - val_precision: 0.9875 - val_recall: 0.6196\n",
      "Epoch 25/600\n",
      "\u001b[1m219/219\u001b[0m \u001b[32m━━━━━━━━━━━━━━━━━━━━\u001b[0m\u001b[37m\u001b[0m \u001b[1m0s\u001b[0m 2ms/step - loss: 0.0884 - precision: 0.9494 - recall: 0.6622 - val_loss: 0.0943 - val_precision: 0.9875 - val_recall: 0.6196\n",
      "Epoch 26/600\n",
      "\u001b[1m219/219\u001b[0m \u001b[32m━━━━━━━━━━━━━━━━━━━━\u001b[0m\u001b[37m\u001b[0m \u001b[1m0s\u001b[0m 2ms/step - loss: 0.0886 - precision: 0.9519 - recall: 0.6655 - val_loss: 0.0940 - val_precision: 0.9877 - val_recall: 0.6275\n",
      "Epoch 27/600\n",
      "\u001b[1m219/219\u001b[0m \u001b[32m━━━━━━━━━━━━━━━━━━━━\u001b[0m\u001b[37m\u001b[0m \u001b[1m0s\u001b[0m 2ms/step - loss: 0.0848 - precision: 0.9547 - recall: 0.6723 - val_loss: 0.0940 - val_precision: 0.9937 - val_recall: 0.6196\n",
      "Epoch 28/600\n",
      "\u001b[1m219/219\u001b[0m \u001b[32m━━━━━━━━━━━━━━━━━━━━\u001b[0m\u001b[37m\u001b[0m \u001b[1m0s\u001b[0m 2ms/step - loss: 0.0869 - precision: 0.9621 - recall: 0.6824 - val_loss: 0.0939 - val_precision: 1.0000 - val_recall: 0.6235\n",
      "Epoch 29/600\n",
      "\u001b[1m219/219\u001b[0m \u001b[32m━━━━━━━━━━━━━━━━━━━━\u001b[0m\u001b[37m\u001b[0m \u001b[1m0s\u001b[0m 2ms/step - loss: 0.0850 - precision: 0.9665 - recall: 0.6790 - val_loss: 0.0937 - val_precision: 0.9938 - val_recall: 0.6275\n",
      "Epoch 30/600\n",
      "\u001b[1m219/219\u001b[0m \u001b[32m━━━━━━━━━━━━━━━━━━━━\u001b[0m\u001b[37m\u001b[0m \u001b[1m0s\u001b[0m 2ms/step - loss: 0.0857 - precision: 0.9572 - recall: 0.6773 - val_loss: 0.0937 - val_precision: 1.0000 - val_recall: 0.6235\n",
      "Epoch 31/600\n",
      "\u001b[1m219/219\u001b[0m \u001b[32m━━━━━━━━━━━━━━━━━━━━\u001b[0m\u001b[37m\u001b[0m \u001b[1m0s\u001b[0m 2ms/step - loss: 0.0839 - precision: 0.9642 - recall: 0.6790 - val_loss: 0.0932 - val_precision: 0.9939 - val_recall: 0.6353\n",
      "Epoch 32/600\n",
      "\u001b[1m219/219\u001b[0m \u001b[32m━━━━━━━━━━━━━━━━━━━━\u001b[0m\u001b[37m\u001b[0m \u001b[1m0s\u001b[0m 2ms/step - loss: 0.0833 - precision: 0.9667 - recall: 0.6824 - val_loss: 0.0924 - val_precision: 1.0000 - val_recall: 0.6314\n",
      "Epoch 33/600\n",
      "\u001b[1m219/219\u001b[0m \u001b[32m━━━━━━━━━━━━━━━━━━━━\u001b[0m\u001b[37m\u001b[0m \u001b[1m0s\u001b[0m 2ms/step - loss: 0.0825 - precision: 0.9718 - recall: 0.6958 - val_loss: 0.0924 - val_precision: 1.0000 - val_recall: 0.6275\n",
      "Epoch 34/600\n",
      "\u001b[1m219/219\u001b[0m \u001b[32m━━━━━━━━━━━━━━━━━━━━\u001b[0m\u001b[37m\u001b[0m \u001b[1m0s\u001b[0m 2ms/step - loss: 0.0815 - precision: 0.9697 - recall: 0.6992 - val_loss: 0.0923 - val_precision: 0.9939 - val_recall: 0.6353\n",
      "Epoch 35/600\n",
      "\u001b[1m219/219\u001b[0m \u001b[32m━━━━━━━━━━━━━━━━━━━━\u001b[0m\u001b[37m\u001b[0m \u001b[1m0s\u001b[0m 2ms/step - loss: 0.0818 - precision: 0.9603 - recall: 0.6908 - val_loss: 0.0923 - val_precision: 1.0000 - val_recall: 0.6353\n",
      "Epoch 36/600\n",
      "\u001b[1m219/219\u001b[0m \u001b[32m━━━━━━━━━━━━━━━━━━━━\u001b[0m\u001b[37m\u001b[0m \u001b[1m0s\u001b[0m 2ms/step - loss: 0.0810 - precision: 0.9715 - recall: 0.6874 - val_loss: 0.0911 - val_precision: 0.9939 - val_recall: 0.6353\n",
      "Epoch 37/600\n",
      "\u001b[1m219/219\u001b[0m \u001b[32m━━━━━━━━━━━━━━━━━━━━\u001b[0m\u001b[37m\u001b[0m \u001b[1m0s\u001b[0m 2ms/step - loss: 0.0819 - precision: 0.9606 - recall: 0.6958 - val_loss: 0.0912 - val_precision: 1.0000 - val_recall: 0.6314\n",
      "Epoch 38/600\n",
      "\u001b[1m219/219\u001b[0m \u001b[32m━━━━━━━━━━━━━━━━━━━━\u001b[0m\u001b[37m\u001b[0m \u001b[1m0s\u001b[0m 2ms/step - loss: 0.0796 - precision: 0.9764 - recall: 0.6941 - val_loss: 0.0907 - val_precision: 1.0000 - val_recall: 0.6353\n",
      "Epoch 39/600\n",
      "\u001b[1m219/219\u001b[0m \u001b[32m━━━━━━━━━━━━━━━━━━━━\u001b[0m\u001b[37m\u001b[0m \u001b[1m0s\u001b[0m 2ms/step - loss: 0.0765 - precision: 0.9837 - recall: 0.7092 - val_loss: 0.0917 - val_precision: 0.9939 - val_recall: 0.6392\n",
      "Epoch 40/600\n",
      "\u001b[1m219/219\u001b[0m \u001b[32m━━━━━━━━━━━━━━━━━━━━\u001b[0m\u001b[37m\u001b[0m \u001b[1m0s\u001b[0m 2ms/step - loss: 0.0788 - precision: 0.9634 - recall: 0.7076 - val_loss: 0.0923 - val_precision: 0.9938 - val_recall: 0.6314\n",
      "Epoch 41/600\n",
      "\u001b[1m219/219\u001b[0m \u001b[32m━━━━━━━━━━━━━━━━━━━━\u001b[0m\u001b[37m\u001b[0m \u001b[1m0s\u001b[0m 2ms/step - loss: 0.0745 - precision: 0.9747 - recall: 0.7109 - val_loss: 0.0922 - val_precision: 0.9939 - val_recall: 0.6353\n",
      "Epoch 42/600\n",
      "\u001b[1m219/219\u001b[0m \u001b[32m━━━━━━━━━━━━━━━━━━━━\u001b[0m\u001b[37m\u001b[0m \u001b[1m0s\u001b[0m 2ms/step - loss: 0.0777 - precision: 0.9700 - recall: 0.7059 - val_loss: 0.0915 - val_precision: 0.9939 - val_recall: 0.6353\n",
      "Epoch 43/600\n",
      "\u001b[1m219/219\u001b[0m \u001b[32m━━━━━━━━━━━━━━━━━━━━\u001b[0m\u001b[37m\u001b[0m \u001b[1m0s\u001b[0m 2ms/step - loss: 0.0797 - precision: 0.9674 - recall: 0.6992 - val_loss: 0.0914 - val_precision: 0.9878 - val_recall: 0.6353\n",
      "Epoch 44/600\n",
      "\u001b[1m219/219\u001b[0m \u001b[32m━━━━━━━━━━━━━━━━━━━━\u001b[0m\u001b[37m\u001b[0m \u001b[1m0s\u001b[0m 2ms/step - loss: 0.0777 - precision: 0.9769 - recall: 0.7092 - val_loss: 0.0909 - val_precision: 0.9939 - val_recall: 0.6353\n",
      "Epoch 45/600\n",
      "\u001b[1m219/219\u001b[0m \u001b[32m━━━━━━━━━━━━━━━━━━━━\u001b[0m\u001b[37m\u001b[0m \u001b[1m0s\u001b[0m 2ms/step - loss: 0.0768 - precision: 0.9677 - recall: 0.7059 - val_loss: 0.0919 - val_precision: 0.9878 - val_recall: 0.6353\n",
      "Epoch 46/600\n",
      "\u001b[1m219/219\u001b[0m \u001b[32m━━━━━━━━━━━━━━━━━━━━\u001b[0m\u001b[37m\u001b[0m \u001b[1m0s\u001b[0m 2ms/step - loss: 0.0756 - precision: 0.9640 - recall: 0.7193 - val_loss: 0.0916 - val_precision: 0.9880 - val_recall: 0.6431\n",
      "Epoch 47/600\n",
      "\u001b[1m219/219\u001b[0m \u001b[32m━━━━━━━━━━━━━━━━━━━━\u001b[0m\u001b[37m\u001b[0m \u001b[1m0s\u001b[0m 2ms/step - loss: 0.0781 - precision: 0.9655 - recall: 0.7059 - val_loss: 0.0917 - val_precision: 0.9879 - val_recall: 0.6392\n",
      "Epoch 48/600\n",
      "\u001b[1m219/219\u001b[0m \u001b[32m━━━━━━━━━━━━━━━━━━━━\u001b[0m\u001b[37m\u001b[0m \u001b[1m0s\u001b[0m 2ms/step - loss: 0.0781 - precision: 0.9609 - recall: 0.7025 - val_loss: 0.0922 - val_precision: 0.9939 - val_recall: 0.6353\n",
      "Epoch 49/600\n",
      "\u001b[1m219/219\u001b[0m \u001b[32m━━━━━━━━━━━━━━━━━━━━\u001b[0m\u001b[37m\u001b[0m \u001b[1m0s\u001b[0m 2ms/step - loss: 0.0760 - precision: 0.9619 - recall: 0.7210 - val_loss: 0.0920 - val_precision: 0.9939 - val_recall: 0.6392\n",
      "Epoch 50/600\n",
      "\u001b[1m219/219\u001b[0m \u001b[32m━━━━━━━━━━━━━━━━━━━━\u001b[0m\u001b[37m\u001b[0m \u001b[1m0s\u001b[0m 2ms/step - loss: 0.0749 - precision: 0.9725 - recall: 0.7143 - val_loss: 0.0917 - val_precision: 0.9939 - val_recall: 0.6392\n",
      "Epoch 51/600\n",
      "\u001b[1m219/219\u001b[0m \u001b[32m━━━━━━━━━━━━━━━━━━━━\u001b[0m\u001b[37m\u001b[0m \u001b[1m0s\u001b[0m 2ms/step - loss: 0.0749 - precision: 0.9727 - recall: 0.7193 - val_loss: 0.0920 - val_precision: 0.9939 - val_recall: 0.6392\n",
      "Epoch 52/600\n",
      "\u001b[1m219/219\u001b[0m \u001b[32m━━━━━━━━━━━━━━━━━━━━\u001b[0m\u001b[37m\u001b[0m \u001b[1m0s\u001b[0m 2ms/step - loss: 0.0749 - precision: 0.9703 - recall: 0.7143 - val_loss: 0.0922 - val_precision: 0.9939 - val_recall: 0.6392\n",
      "Epoch 53/600\n",
      "\u001b[1m219/219\u001b[0m \u001b[32m━━━━━━━━━━━━━━━━━━━━\u001b[0m\u001b[37m\u001b[0m \u001b[1m0s\u001b[0m 2ms/step - loss: 0.0758 - precision: 0.9683 - recall: 0.7176 - val_loss: 0.0914 - val_precision: 0.9821 - val_recall: 0.6471\n",
      "Epoch 54/600\n",
      "\u001b[1m219/219\u001b[0m \u001b[32m━━━━━━━━━━━━━━━━━━━━\u001b[0m\u001b[37m\u001b[0m \u001b[1m0s\u001b[0m 2ms/step - loss: 0.0753 - precision: 0.9661 - recall: 0.7193 - val_loss: 0.0924 - val_precision: 0.9939 - val_recall: 0.6431\n",
      "Epoch 55/600\n",
      "\u001b[1m219/219\u001b[0m \u001b[32m━━━━━━━━━━━━━━━━━━━━\u001b[0m\u001b[37m\u001b[0m \u001b[1m0s\u001b[0m 2ms/step - loss: 0.0748 - precision: 0.9659 - recall: 0.7143 - val_loss: 0.0921 - val_precision: 0.9939 - val_recall: 0.6353\n",
      "Epoch 56/600\n",
      "\u001b[1m219/219\u001b[0m \u001b[32m━━━━━━━━━━━━━━━━━━━━\u001b[0m\u001b[37m\u001b[0m \u001b[1m0s\u001b[0m 2ms/step - loss: 0.0734 - precision: 0.9598 - recall: 0.7227 - val_loss: 0.0917 - val_precision: 0.9939 - val_recall: 0.6431\n",
      "Epoch 57/600\n",
      "\u001b[1m219/219\u001b[0m \u001b[32m━━━━━━━━━━━━━━━━━━━━\u001b[0m\u001b[37m\u001b[0m \u001b[1m1s\u001b[0m 2ms/step - loss: 0.0732 - precision: 0.9732 - recall: 0.7311 - val_loss: 0.0934 - val_precision: 0.9821 - val_recall: 0.6471\n",
      "Epoch 58/600\n",
      "\u001b[1m219/219\u001b[0m \u001b[32m━━━━━━━━━━━━━━━━━━━━\u001b[0m\u001b[37m\u001b[0m \u001b[1m0s\u001b[0m 2ms/step - loss: 0.0759 - precision: 0.9589 - recall: 0.7059 - val_loss: 0.0938 - val_precision: 0.9939 - val_recall: 0.6392\n",
      "Epoch 59/600\n",
      "\u001b[1m219/219\u001b[0m \u001b[32m━━━━━━━━━━━━━━━━━━━━\u001b[0m\u001b[37m\u001b[0m \u001b[1m0s\u001b[0m 2ms/step - loss: 0.0740 - precision: 0.9581 - recall: 0.7294 - val_loss: 0.0931 - val_precision: 0.9821 - val_recall: 0.6471\n",
      "Epoch 60/600\n",
      "\u001b[1m219/219\u001b[0m \u001b[32m━━━━━━━━━━━━━━━━━━━━\u001b[0m\u001b[37m\u001b[0m \u001b[1m0s\u001b[0m 2ms/step - loss: 0.0762 - precision: 0.9658 - recall: 0.7109 - val_loss: 0.0926 - val_precision: 0.9880 - val_recall: 0.6431\n",
      "Epoch 61/600\n",
      "\u001b[1m219/219\u001b[0m \u001b[32m━━━━━━━━━━━━━━━━━━━━\u001b[0m\u001b[37m\u001b[0m \u001b[1m0s\u001b[0m 2ms/step - loss: 0.0727 - precision: 0.9710 - recall: 0.7311 - val_loss: 0.0935 - val_precision: 0.9939 - val_recall: 0.6431\n",
      "Epoch 62/600\n",
      "\u001b[1m219/219\u001b[0m \u001b[32m━━━━━━━━━━━━━━━━━━━━\u001b[0m\u001b[37m\u001b[0m \u001b[1m0s\u001b[0m 2ms/step - loss: 0.0730 - precision: 0.9689 - recall: 0.7328 - val_loss: 0.0924 - val_precision: 0.9821 - val_recall: 0.6471\n",
      "Epoch 63/600\n",
      "\u001b[1m219/219\u001b[0m \u001b[32m━━━━━━━━━━━━━━━━━━━━\u001b[0m\u001b[37m\u001b[0m \u001b[1m0s\u001b[0m 2ms/step - loss: 0.0747 - precision: 0.9581 - recall: 0.7294 - val_loss: 0.0941 - val_precision: 0.9821 - val_recall: 0.6471\n",
      "Epoch 64/600\n",
      "\u001b[1m219/219\u001b[0m \u001b[32m━━━━━━━━━━━━━━━━━━━━\u001b[0m\u001b[37m\u001b[0m \u001b[1m0s\u001b[0m 2ms/step - loss: 0.0752 - precision: 0.9640 - recall: 0.7210 - val_loss: 0.0930 - val_precision: 0.9821 - val_recall: 0.6471\n",
      "Epoch 65/600\n",
      "\u001b[1m219/219\u001b[0m \u001b[32m━━━━━━━━━━━━━━━━━━━━\u001b[0m\u001b[37m\u001b[0m \u001b[1m0s\u001b[0m 2ms/step - loss: 0.0722 - precision: 0.9731 - recall: 0.7294 - val_loss: 0.0939 - val_precision: 0.9762 - val_recall: 0.6431\n",
      "Epoch 66/600\n",
      "\u001b[1m219/219\u001b[0m \u001b[32m━━━━━━━━━━━━━━━━━━━━\u001b[0m\u001b[37m\u001b[0m \u001b[1m0s\u001b[0m 2ms/step - loss: 0.0729 - precision: 0.9559 - recall: 0.7294 - val_loss: 0.0949 - val_precision: 0.9939 - val_recall: 0.6431\n",
      "Epoch 67/600\n",
      "\u001b[1m219/219\u001b[0m \u001b[32m━━━━━━━━━━━━━━━━━━━━\u001b[0m\u001b[37m\u001b[0m \u001b[1m0s\u001b[0m 2ms/step - loss: 0.0720 - precision: 0.9686 - recall: 0.7261 - val_loss: 0.0949 - val_precision: 0.9880 - val_recall: 0.6471\n",
      "Epoch 68/600\n",
      "\u001b[1m219/219\u001b[0m \u001b[32m━━━━━━━━━━━━━━━━━━━━\u001b[0m\u001b[37m\u001b[0m \u001b[1m0s\u001b[0m 2ms/step - loss: 0.0742 - precision: 0.9621 - recall: 0.7261 - val_loss: 0.0956 - val_precision: 0.9878 - val_recall: 0.6353\n",
      "Epoch 69/600\n",
      "\u001b[1m219/219\u001b[0m \u001b[32m━━━━━━━━━━━━━━━━━━━━\u001b[0m\u001b[37m\u001b[0m \u001b[1m0s\u001b[0m 2ms/step - loss: 0.0730 - precision: 0.9668 - recall: 0.7345 - val_loss: 0.0950 - val_precision: 0.9765 - val_recall: 0.6510\n",
      "Epoch 70/600\n",
      "\u001b[1m219/219\u001b[0m \u001b[32m━━━━━━━━━━━━━━━━━━━━\u001b[0m\u001b[37m\u001b[0m \u001b[1m0s\u001b[0m 2ms/step - loss: 0.0733 - precision: 0.9556 - recall: 0.7227 - val_loss: 0.0951 - val_precision: 0.9880 - val_recall: 0.6431\n",
      "Epoch 71/600\n",
      "\u001b[1m219/219\u001b[0m \u001b[32m━━━━━━━━━━━━━━━━━━━━\u001b[0m\u001b[37m\u001b[0m \u001b[1m0s\u001b[0m 2ms/step - loss: 0.0729 - precision: 0.9734 - recall: 0.7378 - val_loss: 0.0946 - val_precision: 0.9762 - val_recall: 0.6431\n",
      "Epoch 72/600\n",
      "\u001b[1m219/219\u001b[0m \u001b[32m━━━━━━━━━━━━━━━━━━━━\u001b[0m\u001b[37m\u001b[0m \u001b[1m0s\u001b[0m 2ms/step - loss: 0.0708 - precision: 0.9670 - recall: 0.7378 - val_loss: 0.0953 - val_precision: 0.9821 - val_recall: 0.6471\n",
      "Epoch 73/600\n",
      "\u001b[1m219/219\u001b[0m \u001b[32m━━━━━━━━━━━━━━━━━━━━\u001b[0m\u001b[37m\u001b[0m \u001b[1m0s\u001b[0m 2ms/step - loss: 0.0699 - precision: 0.9799 - recall: 0.7361 - val_loss: 0.0953 - val_precision: 0.9708 - val_recall: 0.6510\n",
      "Epoch 74/600\n",
      "\u001b[1m219/219\u001b[0m \u001b[32m━━━━━━━━━━━━━━━━━━━━\u001b[0m\u001b[37m\u001b[0m \u001b[1m0s\u001b[0m 2ms/step - loss: 0.0733 - precision: 0.9558 - recall: 0.7277 - val_loss: 0.0962 - val_precision: 0.9820 - val_recall: 0.6431\n",
      "Epoch 75/600\n",
      "\u001b[1m219/219\u001b[0m \u001b[32m━━━━━━━━━━━━━━━━━━━━\u001b[0m\u001b[37m\u001b[0m \u001b[1m0s\u001b[0m 2ms/step - loss: 0.0699 - precision: 0.9670 - recall: 0.7378 - val_loss: 0.0962 - val_precision: 0.9762 - val_recall: 0.6431\n",
      "Epoch 76/600\n",
      "\u001b[1m219/219\u001b[0m \u001b[32m━━━━━━━━━━━━━━━━━━━━\u001b[0m\u001b[37m\u001b[0m \u001b[1m0s\u001b[0m 2ms/step - loss: 0.0703 - precision: 0.9628 - recall: 0.7395 - val_loss: 0.0960 - val_precision: 0.9763 - val_recall: 0.6471\n",
      "Epoch 77/600\n",
      "\u001b[1m219/219\u001b[0m \u001b[32m━━━━━━━━━━━━━━━━━━━━\u001b[0m\u001b[37m\u001b[0m \u001b[1m0s\u001b[0m 2ms/step - loss: 0.0699 - precision: 0.9648 - recall: 0.7378 - val_loss: 0.0962 - val_precision: 0.9763 - val_recall: 0.6471\n",
      "Epoch 78/600\n",
      "\u001b[1m219/219\u001b[0m \u001b[32m━━━━━━━━━━━━━━━━━━━━\u001b[0m\u001b[37m\u001b[0m \u001b[1m0s\u001b[0m 2ms/step - loss: 0.0695 - precision: 0.9817 - recall: 0.7227 - val_loss: 0.0955 - val_precision: 0.9591 - val_recall: 0.6431\n",
      "Epoch 79/600\n",
      "\u001b[1m219/219\u001b[0m \u001b[32m━━━━━━━━━━━━━━━━━━━━\u001b[0m\u001b[37m\u001b[0m \u001b[1m0s\u001b[0m 2ms/step - loss: 0.0702 - precision: 0.9717 - recall: 0.7496 - val_loss: 0.0985 - val_precision: 0.9702 - val_recall: 0.6392\n",
      "Epoch 80/600\n",
      "\u001b[1m219/219\u001b[0m \u001b[32m━━━━━━━━━━━━━━━━━━━━\u001b[0m\u001b[37m\u001b[0m \u001b[1m0s\u001b[0m 2ms/step - loss: 0.0723 - precision: 0.9707 - recall: 0.7227 - val_loss: 0.0963 - val_precision: 0.9704 - val_recall: 0.6431\n",
      "Epoch 81/600\n",
      "\u001b[1m219/219\u001b[0m \u001b[32m━━━━━━━━━━━━━━━━━━━━\u001b[0m\u001b[37m\u001b[0m \u001b[1m0s\u001b[0m 2ms/step - loss: 0.0697 - precision: 0.9605 - recall: 0.7361 - val_loss: 0.0966 - val_precision: 0.9591 - val_recall: 0.6431\n",
      "Epoch 82/600\n",
      "\u001b[1m219/219\u001b[0m \u001b[32m━━━━━━━━━━━━━━━━━━━━\u001b[0m\u001b[37m\u001b[0m \u001b[1m0s\u001b[0m 2ms/step - loss: 0.0701 - precision: 0.9664 - recall: 0.7261 - val_loss: 0.0964 - val_precision: 0.9540 - val_recall: 0.6510\n",
      "Epoch 83/600\n",
      "\u001b[1m219/219\u001b[0m \u001b[32m━━━━━━━━━━━━━━━━━━━━\u001b[0m\u001b[37m\u001b[0m \u001b[1m0s\u001b[0m 2ms/step - loss: 0.0706 - precision: 0.9735 - recall: 0.7395 - val_loss: 0.0963 - val_precision: 0.9429 - val_recall: 0.6471\n",
      "Epoch 84/600\n",
      "\u001b[1m219/219\u001b[0m \u001b[32m━━━━━━━━━━━━━━━━━━━━\u001b[0m\u001b[37m\u001b[0m \u001b[1m0s\u001b[0m 2ms/step - loss: 0.0717 - precision: 0.9669 - recall: 0.7361 - val_loss: 0.0961 - val_precision: 0.9593 - val_recall: 0.6471\n",
      "Epoch 85/600\n",
      "\u001b[1m219/219\u001b[0m \u001b[32m━━━━━━━━━━━━━━━━━━━━\u001b[0m\u001b[37m\u001b[0m \u001b[1m0s\u001b[0m 2ms/step - loss: 0.0656 - precision: 0.9868 - recall: 0.7513 - val_loss: 0.0988 - val_precision: 0.9595 - val_recall: 0.6510\n",
      "Epoch 86/600\n",
      "\u001b[1m219/219\u001b[0m \u001b[32m━━━━━━━━━━━━━━━━━━━━\u001b[0m\u001b[37m\u001b[0m \u001b[1m0s\u001b[0m 2ms/step - loss: 0.0685 - precision: 0.9667 - recall: 0.7328 - val_loss: 0.0985 - val_precision: 0.9649 - val_recall: 0.6471\n",
      "Epoch 87/600\n",
      "\u001b[1m219/219\u001b[0m \u001b[32m━━━━━━━━━━━━━━━━━━━━\u001b[0m\u001b[37m\u001b[0m \u001b[1m0s\u001b[0m 2ms/step - loss: 0.0697 - precision: 0.9673 - recall: 0.7462 - val_loss: 0.0991 - val_precision: 0.9708 - val_recall: 0.6510\n",
      "Epoch 88/600\n",
      "\u001b[1m219/219\u001b[0m \u001b[32m━━━━━━━━━━━━━━━━━━━━\u001b[0m\u001b[37m\u001b[0m \u001b[1m0s\u001b[0m 2ms/step - loss: 0.0723 - precision: 0.9626 - recall: 0.7361 - val_loss: 0.0983 - val_precision: 0.9763 - val_recall: 0.6471\n",
      "Epoch 89/600\n",
      "\u001b[1m219/219\u001b[0m \u001b[32m━━━━━━━━━━━━━━━━━━━━\u001b[0m\u001b[37m\u001b[0m \u001b[1m0s\u001b[0m 2ms/step - loss: 0.0696 - precision: 0.9630 - recall: 0.7445 - val_loss: 0.0980 - val_precision: 0.9821 - val_recall: 0.6471\n",
      "Epoch 90/600\n",
      "\u001b[1m219/219\u001b[0m \u001b[32m━━━━━━━━━━━━━━━━━━━━\u001b[0m\u001b[37m\u001b[0m \u001b[1m0s\u001b[0m 2ms/step - loss: 0.0706 - precision: 0.9732 - recall: 0.7311 - val_loss: 0.0958 - val_precision: 0.9706 - val_recall: 0.6471\n",
      "Epoch 91/600\n",
      "\u001b[1m219/219\u001b[0m \u001b[32m━━━━━━━━━━━━━━━━━━━━\u001b[0m\u001b[37m\u001b[0m \u001b[1m0s\u001b[0m 2ms/step - loss: 0.0714 - precision: 0.9557 - recall: 0.7244 - val_loss: 0.0957 - val_precision: 0.9538 - val_recall: 0.6471\n",
      "Epoch 92/600\n",
      "\u001b[1m219/219\u001b[0m \u001b[32m━━━━━━━━━━━━━━━━━━━━\u001b[0m\u001b[37m\u001b[0m \u001b[1m0s\u001b[0m 2ms/step - loss: 0.0685 - precision: 0.9716 - recall: 0.7462 - val_loss: 0.0990 - val_precision: 0.9702 - val_recall: 0.6392\n",
      "Epoch 93/600\n",
      "\u001b[1m219/219\u001b[0m \u001b[32m━━━━━━━━━━━━━━━━━━━━\u001b[0m\u001b[37m\u001b[0m \u001b[1m0s\u001b[0m 2ms/step - loss: 0.0696 - precision: 0.9670 - recall: 0.7378 - val_loss: 0.0976 - val_precision: 0.9591 - val_recall: 0.6431\n",
      "Epoch 94/600\n",
      "\u001b[1m219/219\u001b[0m \u001b[32m━━━━━━━━━━━━━━━━━━━━\u001b[0m\u001b[37m\u001b[0m \u001b[1m0s\u001b[0m 2ms/step - loss: 0.0681 - precision: 0.9628 - recall: 0.7395 - val_loss: 0.0990 - val_precision: 0.9535 - val_recall: 0.6431\n",
      "Epoch 95/600\n",
      "\u001b[1m219/219\u001b[0m \u001b[32m━━━━━━━━━━━━━━━━━━━━\u001b[0m\u001b[37m\u001b[0m \u001b[1m0s\u001b[0m 2ms/step - loss: 0.0683 - precision: 0.9713 - recall: 0.7395 - val_loss: 0.0994 - val_precision: 0.9480 - val_recall: 0.6431\n",
      "Epoch 96/600\n",
      "\u001b[1m219/219\u001b[0m \u001b[32m━━━━━━━━━━━━━━━━━━━━\u001b[0m\u001b[37m\u001b[0m \u001b[1m0s\u001b[0m 2ms/step - loss: 0.0691 - precision: 0.9630 - recall: 0.7429 - val_loss: 0.1004 - val_precision: 0.9480 - val_recall: 0.6431\n",
      "Epoch 97/600\n",
      "\u001b[1m219/219\u001b[0m \u001b[32m━━━━━━━━━━━━━━━━━━━━\u001b[0m\u001b[37m\u001b[0m \u001b[1m0s\u001b[0m 2ms/step - loss: 0.0681 - precision: 0.9650 - recall: 0.7412 - val_loss: 0.1001 - val_precision: 0.9593 - val_recall: 0.6471\n",
      "Epoch 98/600\n",
      "\u001b[1m219/219\u001b[0m \u001b[32m━━━━━━━━━━━━━━━━━━━━\u001b[0m\u001b[37m\u001b[0m \u001b[1m0s\u001b[0m 2ms/step - loss: 0.0690 - precision: 0.9719 - recall: 0.7546 - val_loss: 0.1001 - val_precision: 0.9595 - val_recall: 0.6510\n",
      "Epoch 99/600\n",
      "\u001b[1m219/219\u001b[0m \u001b[32m━━━━━━━━━━━━━━━━━━━━\u001b[0m\u001b[37m\u001b[0m \u001b[1m0s\u001b[0m 2ms/step - loss: 0.0702 - precision: 0.9560 - recall: 0.7311 - val_loss: 0.0985 - val_precision: 0.9595 - val_recall: 0.6510\n",
      "\u001b[1m94/94\u001b[0m \u001b[32m━━━━━━━━━━━━━━━━━━━━\u001b[0m\u001b[37m\u001b[0m \u001b[1m0s\u001b[0m 902us/step\n",
      "              precision    recall  f1-score   support\n",
      "\n",
      "           0       0.97      1.00      0.98      2745\n",
      "           1       0.98      0.65      0.78       255\n",
      "\n",
      "    accuracy                           0.97      3000\n",
      "   macro avg       0.97      0.82      0.88      3000\n",
      "weighted avg       0.97      0.97      0.97      3000\n",
      "\n",
      "ROC-AUC: 0.97\n"
     ]
    }
   ],
   "source": [
    "from tensorflow.keras.models import Sequential\n",
    "from tensorflow.keras.layers import Input, Dense, Dropout\n",
    "from tensorflow.keras.metrics import Precision, Recall, AUC\n",
    "from tensorflow.keras.callbacks import EarlyStopping\n",
    "\n",
    "model_seq = Sequential()\n",
    "model_seq.add(Input(shape=(X_train.shape[1],)))\n",
    "model_seq.add(Dense(64, activation=\"relu\"))\n",
    "model_seq.add(Dropout(0.3))\n",
    "model_seq.add(Dense(32, activation=\"relu\"))\n",
    "model_seq.add(Dropout(0.3))\n",
    "model_seq.add(Dense(1, activation='sigmoid'))\n",
    "\n",
    "model_seq.compile(optimizer=\"adam\", loss='binary_crossentropy', metrics=[Recall(name=\"recall\"), Precision(name=\"precision\")])\n",
    "early_stop = EarlyStopping(monitor='val_recall', mode='max', patience=30, restore_best_weights=True)\n",
    "\n",
    "history = model_seq.fit(x=X_train, y=y_train, batch_size=32, epochs=600, validation_data=(X_test, y_test), callbacks=[early_stop], verbose=1)\n",
    "\n",
    "y_proba = model_seq.predict(X_test)\n",
    "y_pred = (y_proba > 0.5).astype(\"int32\")\n",
    "\n",
    "from sklearn.metrics import classification_report, roc_auc_score\n",
    "print(classification_report(y_test, y_pred))\n",
    "print(f\"ROC-AUC: {np.round(roc_auc_score(y_test, y_proba), decimals=3)}\")"
   ]
  },
  {
   "cell_type": "markdown",
   "id": "f41f758f-72ac-402b-a7fd-7ea6f0df2554",
   "metadata": {},
   "source": [
    "**Baseline model + (batch_size=64)**"
   ]
  },
  {
   "cell_type": "code",
   "execution_count": 63,
   "id": "24b709a9-160f-4c47-a01e-0a441bbccda7",
   "metadata": {
    "scrolled": true
   },
   "outputs": [
    {
     "name": "stdout",
     "output_type": "stream",
     "text": [
      "Epoch 1/600\n",
      "\u001b[1m110/110\u001b[0m \u001b[32m━━━━━━━━━━━━━━━━━━━━\u001b[0m\u001b[37m\u001b[0m \u001b[1m1s\u001b[0m 4ms/step - loss: 0.3588 - precision: 0.2344 - recall: 0.0504 - val_loss: 0.2071 - val_precision: 1.0000 - val_recall: 0.0039\n",
      "Epoch 2/600\n",
      "\u001b[1m110/110\u001b[0m \u001b[32m━━━━━━━━━━━━━━━━━━━━\u001b[0m\u001b[37m\u001b[0m \u001b[1m0s\u001b[0m 2ms/step - loss: 0.1954 - precision: 0.8424 - recall: 0.2336 - val_loss: 0.1510 - val_precision: 0.9250 - val_recall: 0.4353\n",
      "Epoch 3/600\n",
      "\u001b[1m110/110\u001b[0m \u001b[32m━━━━━━━━━━━━━━━━━━━━\u001b[0m\u001b[37m\u001b[0m \u001b[1m0s\u001b[0m 2ms/step - loss: 0.1601 - precision: 0.7727 - recall: 0.4571 - val_loss: 0.1368 - val_precision: 0.8750 - val_recall: 0.5490\n",
      "Epoch 4/600\n",
      "\u001b[1m110/110\u001b[0m \u001b[32m━━━━━━━━━━━━━━━━━━━━\u001b[0m\u001b[37m\u001b[0m \u001b[1m0s\u001b[0m 2ms/step - loss: 0.1472 - precision: 0.7786 - recall: 0.5261 - val_loss: 0.1297 - val_precision: 0.8424 - val_recall: 0.6078\n",
      "Epoch 5/600\n",
      "\u001b[1m110/110\u001b[0m \u001b[32m━━━━━━━━━━━━━━━━━━━━\u001b[0m\u001b[37m\u001b[0m \u001b[1m0s\u001b[0m 2ms/step - loss: 0.1426 - precision: 0.7892 - recall: 0.5664 - val_loss: 0.1282 - val_precision: 0.8555 - val_recall: 0.5804\n",
      "Epoch 6/600\n",
      "\u001b[1m110/110\u001b[0m \u001b[32m━━━━━━━━━━━━━━━━━━━━\u001b[0m\u001b[37m\u001b[0m \u001b[1m0s\u001b[0m 2ms/step - loss: 0.1373 - precision: 0.7847 - recall: 0.5697 - val_loss: 0.1252 - val_precision: 0.8483 - val_recall: 0.5922\n",
      "Epoch 7/600\n",
      "\u001b[1m110/110\u001b[0m \u001b[32m━━━━━━━━━━━━━━━━━━━━\u001b[0m\u001b[37m\u001b[0m \u001b[1m0s\u001b[0m 2ms/step - loss: 0.1331 - precision: 0.8146 - recall: 0.5983 - val_loss: 0.1227 - val_precision: 0.8407 - val_recall: 0.6000\n",
      "Epoch 8/600\n",
      "\u001b[1m110/110\u001b[0m \u001b[32m━━━━━━━━━━━━━━━━━━━━\u001b[0m\u001b[37m\u001b[0m \u001b[1m0s\u001b[0m 2ms/step - loss: 0.1261 - precision: 0.8206 - recall: 0.6303 - val_loss: 0.1214 - val_precision: 0.8588 - val_recall: 0.5961\n",
      "Epoch 9/600\n",
      "\u001b[1m110/110\u001b[0m \u001b[32m━━━━━━━━━━━━━━━━━━━━\u001b[0m\u001b[37m\u001b[0m \u001b[1m0s\u001b[0m 2ms/step - loss: 0.1303 - precision: 0.8018 - recall: 0.5983 - val_loss: 0.1203 - val_precision: 0.8743 - val_recall: 0.6000\n",
      "Epoch 10/600\n",
      "\u001b[1m110/110\u001b[0m \u001b[32m━━━━━━━━━━━━━━━━━━━━\u001b[0m\u001b[37m\u001b[0m \u001b[1m0s\u001b[0m 2ms/step - loss: 0.1230 - precision: 0.8492 - recall: 0.6151 - val_loss: 0.1182 - val_precision: 0.8715 - val_recall: 0.6118\n",
      "Epoch 11/600\n",
      "\u001b[1m110/110\u001b[0m \u001b[32m━━━━━━━━━━━━━━━━━━━━\u001b[0m\u001b[37m\u001b[0m \u001b[1m0s\u001b[0m 2ms/step - loss: 0.1241 - precision: 0.8648 - recall: 0.6235 - val_loss: 0.1166 - val_precision: 0.8857 - val_recall: 0.6078\n",
      "Epoch 12/600\n",
      "\u001b[1m110/110\u001b[0m \u001b[32m━━━━━━━━━━━━━━━━━━━━\u001b[0m\u001b[37m\u001b[0m \u001b[1m0s\u001b[0m 2ms/step - loss: 0.1207 - precision: 0.8644 - recall: 0.6319 - val_loss: 0.1155 - val_precision: 0.8902 - val_recall: 0.6039\n",
      "Epoch 13/600\n",
      "\u001b[1m110/110\u001b[0m \u001b[32m━━━━━━━━━━━━━━━━━━━━\u001b[0m\u001b[37m\u001b[0m \u001b[1m0s\u001b[0m 2ms/step - loss: 0.1189 - precision: 0.8759 - recall: 0.6286 - val_loss: 0.1141 - val_precision: 0.8953 - val_recall: 0.6039\n",
      "Epoch 14/600\n",
      "\u001b[1m110/110\u001b[0m \u001b[32m━━━━━━━━━━━━━━━━━━━━\u001b[0m\u001b[37m\u001b[0m \u001b[1m0s\u001b[0m 2ms/step - loss: 0.1181 - precision: 0.8959 - recall: 0.6218 - val_loss: 0.1128 - val_precision: 0.9042 - val_recall: 0.5922\n",
      "Epoch 15/600\n",
      "\u001b[1m110/110\u001b[0m \u001b[32m━━━━━━━━━━━━━━━━━━━━\u001b[0m\u001b[37m\u001b[0m \u001b[1m0s\u001b[0m 2ms/step - loss: 0.1138 - precision: 0.8913 - recall: 0.6336 - val_loss: 0.1115 - val_precision: 0.9000 - val_recall: 0.6000\n",
      "Epoch 16/600\n",
      "\u001b[1m110/110\u001b[0m \u001b[32m━━━━━━━━━━━━━━━━━━━━\u001b[0m\u001b[37m\u001b[0m \u001b[1m0s\u001b[0m 2ms/step - loss: 0.1130 - precision: 0.8926 - recall: 0.6286 - val_loss: 0.1109 - val_precision: 0.9157 - val_recall: 0.5961\n",
      "Epoch 17/600\n",
      "\u001b[1m110/110\u001b[0m \u001b[32m━━━━━━━━━━━━━━━━━━━━\u001b[0m\u001b[37m\u001b[0m \u001b[1m0s\u001b[0m 2ms/step - loss: 0.1128 - precision: 0.8973 - recall: 0.6168 - val_loss: 0.1092 - val_precision: 0.9167 - val_recall: 0.6039\n",
      "Epoch 18/600\n",
      "\u001b[1m110/110\u001b[0m \u001b[32m━━━━━━━━━━━━━━━━━━━━\u001b[0m\u001b[37m\u001b[0m \u001b[1m0s\u001b[0m 2ms/step - loss: 0.1121 - precision: 0.8857 - recall: 0.6252 - val_loss: 0.1082 - val_precision: 0.9273 - val_recall: 0.6000\n",
      "Epoch 19/600\n",
      "\u001b[1m110/110\u001b[0m \u001b[32m━━━━━━━━━━━━━━━━━━━━\u001b[0m\u001b[37m\u001b[0m \u001b[1m0s\u001b[0m 2ms/step - loss: 0.1120 - precision: 0.9049 - recall: 0.6235 - val_loss: 0.1076 - val_precision: 0.9390 - val_recall: 0.6039\n",
      "Epoch 20/600\n",
      "\u001b[1m110/110\u001b[0m \u001b[32m━━━━━━━━━━━━━━━━━━━━\u001b[0m\u001b[37m\u001b[0m \u001b[1m0s\u001b[0m 2ms/step - loss: 0.1067 - precision: 0.9263 - recall: 0.6336 - val_loss: 0.1072 - val_precision: 0.9337 - val_recall: 0.6078\n",
      "Epoch 21/600\n",
      "\u001b[1m110/110\u001b[0m \u001b[32m━━━━━━━━━━━━━━━━━━━━\u001b[0m\u001b[37m\u001b[0m \u001b[1m0s\u001b[0m 2ms/step - loss: 0.1104 - precision: 0.9000 - recall: 0.6202 - val_loss: 0.1066 - val_precision: 0.9444 - val_recall: 0.6000\n",
      "Epoch 22/600\n",
      "\u001b[1m110/110\u001b[0m \u001b[32m━━━━━━━━━━━━━━━━━━━━\u001b[0m\u001b[37m\u001b[0m \u001b[1m0s\u001b[0m 2ms/step - loss: 0.1067 - precision: 0.9259 - recall: 0.6303 - val_loss: 0.1056 - val_precision: 0.9281 - val_recall: 0.6078\n",
      "Epoch 23/600\n",
      "\u001b[1m110/110\u001b[0m \u001b[32m━━━━━━━━━━━━━━━━━━━━\u001b[0m\u001b[37m\u001b[0m \u001b[1m0s\u001b[0m 2ms/step - loss: 0.1086 - precision: 0.9248 - recall: 0.6403 - val_loss: 0.1045 - val_precision: 0.9563 - val_recall: 0.6000\n",
      "Epoch 24/600\n",
      "\u001b[1m110/110\u001b[0m \u001b[32m━━━━━━━━━━━━━━━━━━━━\u001b[0m\u001b[37m\u001b[0m \u001b[1m0s\u001b[0m 2ms/step - loss: 0.1036 - precision: 0.9406 - recall: 0.6387 - val_loss: 0.1040 - val_precision: 0.9509 - val_recall: 0.6078\n",
      "Epoch 25/600\n",
      "\u001b[1m110/110\u001b[0m \u001b[32m━━━━━━━━━━━━━━━━━━━━\u001b[0m\u001b[37m\u001b[0m \u001b[1m0s\u001b[0m 2ms/step - loss: 0.1053 - precision: 0.9265 - recall: 0.6353 - val_loss: 0.1030 - val_precision: 0.9684 - val_recall: 0.6000\n",
      "Epoch 26/600\n",
      "\u001b[1m110/110\u001b[0m \u001b[32m━━━━━━━━━━━━━━━━━━━━\u001b[0m\u001b[37m\u001b[0m \u001b[1m0s\u001b[0m 2ms/step - loss: 0.1037 - precision: 0.9338 - recall: 0.6403 - val_loss: 0.1030 - val_precision: 0.9686 - val_recall: 0.6039\n",
      "Epoch 27/600\n",
      "\u001b[1m110/110\u001b[0m \u001b[32m━━━━━━━━━━━━━━━━━━━━\u001b[0m\u001b[37m\u001b[0m \u001b[1m0s\u001b[0m 2ms/step - loss: 0.1035 - precision: 0.9341 - recall: 0.6437 - val_loss: 0.1021 - val_precision: 0.9745 - val_recall: 0.6000\n",
      "Epoch 28/600\n",
      "\u001b[1m110/110\u001b[0m \u001b[32m━━━━━━━━━━━━━━━━━━━━\u001b[0m\u001b[37m\u001b[0m \u001b[1m0s\u001b[0m 2ms/step - loss: 0.1016 - precision: 0.9618 - recall: 0.6353 - val_loss: 0.1012 - val_precision: 0.9464 - val_recall: 0.6235\n",
      "Epoch 29/600\n",
      "\u001b[1m110/110\u001b[0m \u001b[32m━━━━━━━━━━━━━━━━━━━━\u001b[0m\u001b[37m\u001b[0m \u001b[1m0s\u001b[0m 2ms/step - loss: 0.1007 - precision: 0.9319 - recall: 0.6437 - val_loss: 0.1004 - val_precision: 0.9630 - val_recall: 0.6118\n",
      "Epoch 30/600\n",
      "\u001b[1m110/110\u001b[0m \u001b[32m━━━━━━━━━━━━━━━━━━━━\u001b[0m\u001b[37m\u001b[0m \u001b[1m0s\u001b[0m 2ms/step - loss: 0.1029 - precision: 0.9457 - recall: 0.6437 - val_loss: 0.0992 - val_precision: 0.9691 - val_recall: 0.6157\n",
      "Epoch 31/600\n",
      "\u001b[1m110/110\u001b[0m \u001b[32m━━━━━━━━━━━━━━━━━━━━\u001b[0m\u001b[37m\u001b[0m \u001b[1m0s\u001b[0m 2ms/step - loss: 0.1007 - precision: 0.9479 - recall: 0.6420 - val_loss: 0.0991 - val_precision: 0.9811 - val_recall: 0.6118\n",
      "Epoch 32/600\n",
      "\u001b[1m110/110\u001b[0m \u001b[32m━━━━━━━━━━━━━━━━━━━━\u001b[0m\u001b[37m\u001b[0m \u001b[1m0s\u001b[0m 2ms/step - loss: 0.1005 - precision: 0.9564 - recall: 0.6269 - val_loss: 0.0987 - val_precision: 0.9750 - val_recall: 0.6118\n",
      "Epoch 33/600\n",
      "\u001b[1m110/110\u001b[0m \u001b[32m━━━━━━━━━━━━━━━━━━━━\u001b[0m\u001b[37m\u001b[0m \u001b[1m0s\u001b[0m 2ms/step - loss: 0.0980 - precision: 0.9573 - recall: 0.6403 - val_loss: 0.0987 - val_precision: 0.9810 - val_recall: 0.6078\n",
      "Epoch 34/600\n",
      "\u001b[1m110/110\u001b[0m \u001b[32m━━━━━━━━━━━━━━━━━━━━\u001b[0m\u001b[37m\u001b[0m \u001b[1m0s\u001b[0m 2ms/step - loss: 0.0994 - precision: 0.9577 - recall: 0.6471 - val_loss: 0.0978 - val_precision: 0.9874 - val_recall: 0.6157\n",
      "Epoch 35/600\n",
      "\u001b[1m110/110\u001b[0m \u001b[32m━━━━━━━━━━━━━━━━━━━━\u001b[0m\u001b[37m\u001b[0m \u001b[1m0s\u001b[0m 2ms/step - loss: 0.0989 - precision: 0.9597 - recall: 0.6403 - val_loss: 0.0973 - val_precision: 0.9876 - val_recall: 0.6235\n",
      "Epoch 36/600\n",
      "\u001b[1m110/110\u001b[0m \u001b[32m━━━━━━━━━━━━━━━━━━━━\u001b[0m\u001b[37m\u001b[0m \u001b[1m0s\u001b[0m 2ms/step - loss: 0.0955 - precision: 0.9749 - recall: 0.6521 - val_loss: 0.0971 - val_precision: 0.9814 - val_recall: 0.6196\n",
      "Epoch 37/600\n",
      "\u001b[1m110/110\u001b[0m \u001b[32m━━━━━━━━━━━━━━━━━━━━\u001b[0m\u001b[37m\u001b[0m \u001b[1m0s\u001b[0m 2ms/step - loss: 0.0969 - precision: 0.9597 - recall: 0.6403 - val_loss: 0.0969 - val_precision: 0.9876 - val_recall: 0.6235\n",
      "Epoch 38/600\n",
      "\u001b[1m110/110\u001b[0m \u001b[32m━━━━━━━━━━━━━━━━━━━━\u001b[0m\u001b[37m\u001b[0m \u001b[1m0s\u001b[0m 2ms/step - loss: 0.0965 - precision: 0.9594 - recall: 0.6353 - val_loss: 0.0963 - val_precision: 0.9937 - val_recall: 0.6196\n",
      "Epoch 39/600\n",
      "\u001b[1m110/110\u001b[0m \u001b[32m━━━━━━━━━━━━━━━━━━━━\u001b[0m\u001b[37m\u001b[0m \u001b[1m0s\u001b[0m 2ms/step - loss: 0.0927 - precision: 0.9698 - recall: 0.6471 - val_loss: 0.0960 - val_precision: 0.9938 - val_recall: 0.6275\n",
      "Epoch 40/600\n",
      "\u001b[1m110/110\u001b[0m \u001b[32m━━━━━━━━━━━━━━━━━━━━\u001b[0m\u001b[37m\u001b[0m \u001b[1m0s\u001b[0m 2ms/step - loss: 0.0967 - precision: 0.9724 - recall: 0.6504 - val_loss: 0.0957 - val_precision: 0.9877 - val_recall: 0.6275\n",
      "Epoch 41/600\n",
      "\u001b[1m110/110\u001b[0m \u001b[32m━━━━━━━━━━━━━━━━━━━━\u001b[0m\u001b[37m\u001b[0m \u001b[1m0s\u001b[0m 2ms/step - loss: 0.0934 - precision: 0.9631 - recall: 0.6588 - val_loss: 0.0957 - val_precision: 0.9938 - val_recall: 0.6275\n",
      "Epoch 42/600\n",
      "\u001b[1m110/110\u001b[0m \u001b[32m━━━━━━━━━━━━━━━━━━━━\u001b[0m\u001b[37m\u001b[0m \u001b[1m0s\u001b[0m 2ms/step - loss: 0.0946 - precision: 0.9540 - recall: 0.6622 - val_loss: 0.0956 - val_precision: 0.9875 - val_recall: 0.6196\n",
      "Epoch 43/600\n",
      "\u001b[1m110/110\u001b[0m \u001b[32m━━━━━━━━━━━━━━━━━━━━\u001b[0m\u001b[37m\u001b[0m \u001b[1m0s\u001b[0m 2ms/step - loss: 0.0909 - precision: 0.9610 - recall: 0.6622 - val_loss: 0.0956 - val_precision: 0.9937 - val_recall: 0.6157\n",
      "Epoch 44/600\n",
      "\u001b[1m110/110\u001b[0m \u001b[32m━━━━━━━━━━━━━━━━━━━━\u001b[0m\u001b[37m\u001b[0m \u001b[1m0s\u001b[0m 2ms/step - loss: 0.0939 - precision: 0.9726 - recall: 0.6571 - val_loss: 0.0947 - val_precision: 0.9938 - val_recall: 0.6275\n",
      "Epoch 45/600\n",
      "\u001b[1m110/110\u001b[0m \u001b[32m━━━━━━━━━━━━━━━━━━━━\u001b[0m\u001b[37m\u001b[0m \u001b[1m0s\u001b[0m 2ms/step - loss: 0.0904 - precision: 0.9732 - recall: 0.6723 - val_loss: 0.0941 - val_precision: 0.9938 - val_recall: 0.6275\n",
      "Epoch 46/600\n",
      "\u001b[1m110/110\u001b[0m \u001b[32m━━━━━━━━━━━━━━━━━━━━\u001b[0m\u001b[37m\u001b[0m \u001b[1m0s\u001b[0m 2ms/step - loss: 0.0916 - precision: 0.9729 - recall: 0.6639 - val_loss: 0.0939 - val_precision: 0.9938 - val_recall: 0.6275\n",
      "Epoch 47/600\n",
      "\u001b[1m110/110\u001b[0m \u001b[32m━━━━━━━━━━━━━━━━━━━━\u001b[0m\u001b[37m\u001b[0m \u001b[1m0s\u001b[0m 2ms/step - loss: 0.0892 - precision: 0.9780 - recall: 0.6739 - val_loss: 0.0935 - val_precision: 0.9938 - val_recall: 0.6275\n",
      "Epoch 48/600\n",
      "\u001b[1m110/110\u001b[0m \u001b[32m━━━━━━━━━━━━━━━━━━━━\u001b[0m\u001b[37m\u001b[0m \u001b[1m0s\u001b[0m 2ms/step - loss: 0.0903 - precision: 0.9685 - recall: 0.6723 - val_loss: 0.0929 - val_precision: 0.9938 - val_recall: 0.6275\n",
      "Epoch 49/600\n",
      "\u001b[1m110/110\u001b[0m \u001b[32m━━━━━━━━━━━━━━━━━━━━\u001b[0m\u001b[37m\u001b[0m \u001b[1m0s\u001b[0m 2ms/step - loss: 0.0913 - precision: 0.9636 - recall: 0.6672 - val_loss: 0.0938 - val_precision: 0.9938 - val_recall: 0.6275\n",
      "Epoch 50/600\n",
      "\u001b[1m110/110\u001b[0m \u001b[32m━━━━━━━━━━━━━━━━━━━━\u001b[0m\u001b[37m\u001b[0m \u001b[1m0s\u001b[0m 2ms/step - loss: 0.0872 - precision: 0.9712 - recall: 0.6807 - val_loss: 0.0934 - val_precision: 0.9938 - val_recall: 0.6275\n",
      "Epoch 51/600\n",
      "\u001b[1m110/110\u001b[0m \u001b[32m━━━━━━━━━━━━━━━━━━━━\u001b[0m\u001b[37m\u001b[0m \u001b[1m0s\u001b[0m 2ms/step - loss: 0.0895 - precision: 0.9705 - recall: 0.6639 - val_loss: 0.0941 - val_precision: 0.9937 - val_recall: 0.6196\n",
      "Epoch 52/600\n",
      "\u001b[1m110/110\u001b[0m \u001b[32m━━━━━━━━━━━━━━━━━━━━\u001b[0m\u001b[37m\u001b[0m \u001b[1m0s\u001b[0m 2ms/step - loss: 0.0883 - precision: 0.9779 - recall: 0.6706 - val_loss: 0.0931 - val_precision: 0.9877 - val_recall: 0.6275\n",
      "Epoch 53/600\n",
      "\u001b[1m110/110\u001b[0m \u001b[32m━━━━━━━━━━━━━━━━━━━━\u001b[0m\u001b[37m\u001b[0m \u001b[1m0s\u001b[0m 2ms/step - loss: 0.0891 - precision: 0.9612 - recall: 0.6655 - val_loss: 0.0929 - val_precision: 0.9938 - val_recall: 0.6275\n",
      "Epoch 54/600\n",
      "\u001b[1m110/110\u001b[0m \u001b[32m━━━━━━━━━━━━━━━━━━━━\u001b[0m\u001b[37m\u001b[0m \u001b[1m0s\u001b[0m 2ms/step - loss: 0.0872 - precision: 0.9688 - recall: 0.6773 - val_loss: 0.0929 - val_precision: 0.9938 - val_recall: 0.6275\n",
      "Epoch 55/600\n",
      "\u001b[1m110/110\u001b[0m \u001b[32m━━━━━━━━━━━━━━━━━━━━\u001b[0m\u001b[37m\u001b[0m \u001b[1m0s\u001b[0m 2ms/step - loss: 0.0880 - precision: 0.9687 - recall: 0.6756 - val_loss: 0.0924 - val_precision: 0.9938 - val_recall: 0.6314\n",
      "Epoch 56/600\n",
      "\u001b[1m110/110\u001b[0m \u001b[32m━━━━━━━━━━━━━━━━━━━━\u001b[0m\u001b[37m\u001b[0m \u001b[1m0s\u001b[0m 2ms/step - loss: 0.0880 - precision: 0.9782 - recall: 0.6773 - val_loss: 0.0924 - val_precision: 0.9938 - val_recall: 0.6275\n",
      "Epoch 57/600\n",
      "\u001b[1m110/110\u001b[0m \u001b[32m━━━━━━━━━━━━━━━━━━━━\u001b[0m\u001b[37m\u001b[0m \u001b[1m0s\u001b[0m 2ms/step - loss: 0.0882 - precision: 0.9760 - recall: 0.6824 - val_loss: 0.0920 - val_precision: 0.9938 - val_recall: 0.6314\n",
      "Epoch 58/600\n",
      "\u001b[1m110/110\u001b[0m \u001b[32m━━━━━━━━━━━━━━━━━━━━\u001b[0m\u001b[37m\u001b[0m \u001b[1m0s\u001b[0m 2ms/step - loss: 0.0886 - precision: 0.9684 - recall: 0.6689 - val_loss: 0.0918 - val_precision: 0.9938 - val_recall: 0.6275\n",
      "Epoch 59/600\n",
      "\u001b[1m110/110\u001b[0m \u001b[32m━━━━━━━━━━━━━━━━━━━━\u001b[0m\u001b[37m\u001b[0m \u001b[1m0s\u001b[0m 2ms/step - loss: 0.0876 - precision: 0.9804 - recall: 0.6723 - val_loss: 0.0918 - val_precision: 0.9939 - val_recall: 0.6353\n",
      "Epoch 60/600\n",
      "\u001b[1m110/110\u001b[0m \u001b[32m━━━━━━━━━━━━━━━━━━━━\u001b[0m\u001b[37m\u001b[0m \u001b[1m0s\u001b[0m 2ms/step - loss: 0.0853 - precision: 0.9855 - recall: 0.6840 - val_loss: 0.0916 - val_precision: 0.9938 - val_recall: 0.6314\n",
      "Epoch 61/600\n",
      "\u001b[1m110/110\u001b[0m \u001b[32m━━━━━━━━━━━━━━━━━━━━\u001b[0m\u001b[37m\u001b[0m \u001b[1m0s\u001b[0m 2ms/step - loss: 0.0873 - precision: 0.9688 - recall: 0.6773 - val_loss: 0.0912 - val_precision: 0.9939 - val_recall: 0.6353\n",
      "Epoch 62/600\n",
      "\u001b[1m110/110\u001b[0m \u001b[32m━━━━━━━━━━━━━━━━━━━━\u001b[0m\u001b[37m\u001b[0m \u001b[1m0s\u001b[0m 2ms/step - loss: 0.0850 - precision: 0.9877 - recall: 0.6723 - val_loss: 0.0907 - val_precision: 0.9939 - val_recall: 0.6353\n",
      "Epoch 63/600\n",
      "\u001b[1m110/110\u001b[0m \u001b[32m━━━━━━━━━━━━━━━━━━━━\u001b[0m\u001b[37m\u001b[0m \u001b[1m0s\u001b[0m 2ms/step - loss: 0.0850 - precision: 0.9782 - recall: 0.6790 - val_loss: 0.0917 - val_precision: 0.9938 - val_recall: 0.6314\n",
      "Epoch 64/600\n",
      "\u001b[1m110/110\u001b[0m \u001b[32m━━━━━━━━━━━━━━━━━━━━\u001b[0m\u001b[37m\u001b[0m \u001b[1m0s\u001b[0m 2ms/step - loss: 0.0834 - precision: 0.9737 - recall: 0.6857 - val_loss: 0.0914 - val_precision: 0.9938 - val_recall: 0.6314\n",
      "Epoch 65/600\n",
      "\u001b[1m110/110\u001b[0m \u001b[32m━━━━━━━━━━━━━━━━━━━━\u001b[0m\u001b[37m\u001b[0m \u001b[1m0s\u001b[0m 2ms/step - loss: 0.0837 - precision: 0.9785 - recall: 0.6891 - val_loss: 0.0918 - val_precision: 0.9938 - val_recall: 0.6314\n",
      "Epoch 66/600\n",
      "\u001b[1m110/110\u001b[0m \u001b[32m━━━━━━━━━━━━━━━━━━━━\u001b[0m\u001b[37m\u001b[0m \u001b[1m0s\u001b[0m 2ms/step - loss: 0.0863 - precision: 0.9902 - recall: 0.6773 - val_loss: 0.0915 - val_precision: 0.9938 - val_recall: 0.6314\n",
      "Epoch 67/600\n",
      "\u001b[1m110/110\u001b[0m \u001b[32m━━━━━━━━━━━━━━━━━━━━\u001b[0m\u001b[37m\u001b[0m \u001b[1m0s\u001b[0m 2ms/step - loss: 0.0849 - precision: 0.9854 - recall: 0.6807 - val_loss: 0.0915 - val_precision: 0.9938 - val_recall: 0.6314\n",
      "Epoch 68/600\n",
      "\u001b[1m110/110\u001b[0m \u001b[32m━━━━━━━━━━━━━━━━━━━━\u001b[0m\u001b[37m\u001b[0m \u001b[1m0s\u001b[0m 2ms/step - loss: 0.0858 - precision: 0.9760 - recall: 0.6824 - val_loss: 0.0914 - val_precision: 0.9938 - val_recall: 0.6314\n",
      "Epoch 69/600\n",
      "\u001b[1m110/110\u001b[0m \u001b[32m━━━━━━━━━━━━━━━━━━━━\u001b[0m\u001b[37m\u001b[0m \u001b[1m0s\u001b[0m 2ms/step - loss: 0.0865 - precision: 0.9806 - recall: 0.6790 - val_loss: 0.0917 - val_precision: 1.0000 - val_recall: 0.6314\n",
      "Epoch 70/600\n",
      "\u001b[1m110/110\u001b[0m \u001b[32m━━━━━━━━━━━━━━━━━━━━\u001b[0m\u001b[37m\u001b[0m \u001b[1m0s\u001b[0m 2ms/step - loss: 0.0825 - precision: 0.9854 - recall: 0.6807 - val_loss: 0.0916 - val_precision: 0.9939 - val_recall: 0.6353\n",
      "Epoch 71/600\n",
      "\u001b[1m110/110\u001b[0m \u001b[32m━━━━━━━━━━━━━━━━━━━━\u001b[0m\u001b[37m\u001b[0m \u001b[1m0s\u001b[0m 2ms/step - loss: 0.0818 - precision: 0.9855 - recall: 0.6840 - val_loss: 0.0914 - val_precision: 0.9939 - val_recall: 0.6353\n",
      "Epoch 72/600\n",
      "\u001b[1m110/110\u001b[0m \u001b[32m━━━━━━━━━━━━━━━━━━━━\u001b[0m\u001b[37m\u001b[0m \u001b[1m0s\u001b[0m 2ms/step - loss: 0.0839 - precision: 0.9831 - recall: 0.6857 - val_loss: 0.0910 - val_precision: 0.9939 - val_recall: 0.6353\n",
      "Epoch 73/600\n",
      "\u001b[1m110/110\u001b[0m \u001b[32m━━━━━━━━━━━━━━━━━━━━\u001b[0m\u001b[37m\u001b[0m \u001b[1m0s\u001b[0m 2ms/step - loss: 0.0854 - precision: 0.9830 - recall: 0.6807 - val_loss: 0.0911 - val_precision: 0.9939 - val_recall: 0.6353\n",
      "Epoch 74/600\n",
      "\u001b[1m110/110\u001b[0m \u001b[32m━━━━━━━━━━━━━━━━━━━━\u001b[0m\u001b[37m\u001b[0m \u001b[1m0s\u001b[0m 2ms/step - loss: 0.0812 - precision: 0.9879 - recall: 0.6874 - val_loss: 0.0910 - val_precision: 0.9939 - val_recall: 0.6353\n",
      "Epoch 75/600\n",
      "\u001b[1m110/110\u001b[0m \u001b[32m━━━━━━━━━━━━━━━━━━━━\u001b[0m\u001b[37m\u001b[0m \u001b[1m0s\u001b[0m 2ms/step - loss: 0.0837 - precision: 0.9779 - recall: 0.6689 - val_loss: 0.0905 - val_precision: 0.9938 - val_recall: 0.6314\n",
      "Epoch 76/600\n",
      "\u001b[1m110/110\u001b[0m \u001b[32m━━━━━━━━━━━━━━━━━━━━\u001b[0m\u001b[37m\u001b[0m \u001b[1m0s\u001b[0m 2ms/step - loss: 0.0856 - precision: 0.9852 - recall: 0.6723 - val_loss: 0.0903 - val_precision: 0.9939 - val_recall: 0.6353\n",
      "Epoch 77/600\n",
      "\u001b[1m110/110\u001b[0m \u001b[32m━━━━━━━━━━━━━━━━━━━━\u001b[0m\u001b[37m\u001b[0m \u001b[1m0s\u001b[0m 2ms/step - loss: 0.0830 - precision: 0.9879 - recall: 0.6857 - val_loss: 0.0908 - val_precision: 0.9939 - val_recall: 0.6353\n",
      "Epoch 78/600\n",
      "\u001b[1m110/110\u001b[0m \u001b[32m━━━━━━━━━━━━━━━━━━━━\u001b[0m\u001b[37m\u001b[0m \u001b[1m0s\u001b[0m 2ms/step - loss: 0.0845 - precision: 0.9877 - recall: 0.6756 - val_loss: 0.0909 - val_precision: 0.9878 - val_recall: 0.6353\n",
      "Epoch 79/600\n",
      "\u001b[1m110/110\u001b[0m \u001b[32m━━━━━━━━━━━━━━━━━━━━\u001b[0m\u001b[37m\u001b[0m \u001b[1m0s\u001b[0m 2ms/step - loss: 0.0828 - precision: 0.9786 - recall: 0.6908 - val_loss: 0.0913 - val_precision: 0.9939 - val_recall: 0.6353\n",
      "Epoch 80/600\n",
      "\u001b[1m110/110\u001b[0m \u001b[32m━━━━━━━━━━━━━━━━━━━━\u001b[0m\u001b[37m\u001b[0m \u001b[1m0s\u001b[0m 2ms/step - loss: 0.0853 - precision: 0.9853 - recall: 0.6756 - val_loss: 0.0912 - val_precision: 0.9939 - val_recall: 0.6353\n",
      "Epoch 81/600\n",
      "\u001b[1m110/110\u001b[0m \u001b[32m━━━━━━━━━━━━━━━━━━━━\u001b[0m\u001b[37m\u001b[0m \u001b[1m0s\u001b[0m 2ms/step - loss: 0.0831 - precision: 0.9808 - recall: 0.6857 - val_loss: 0.0914 - val_precision: 0.9939 - val_recall: 0.6353\n",
      "Epoch 82/600\n",
      "\u001b[1m110/110\u001b[0m \u001b[32m━━━━━━━━━━━━━━━━━━━━\u001b[0m\u001b[37m\u001b[0m \u001b[1m0s\u001b[0m 2ms/step - loss: 0.0822 - precision: 0.9831 - recall: 0.6840 - val_loss: 0.0911 - val_precision: 0.9939 - val_recall: 0.6353\n",
      "Epoch 83/600\n",
      "\u001b[1m110/110\u001b[0m \u001b[32m━━━━━━━━━━━━━━━━━━━━\u001b[0m\u001b[37m\u001b[0m \u001b[1m0s\u001b[0m 2ms/step - loss: 0.0841 - precision: 0.9807 - recall: 0.6840 - val_loss: 0.0905 - val_precision: 0.9939 - val_recall: 0.6353\n",
      "Epoch 84/600\n",
      "\u001b[1m110/110\u001b[0m \u001b[32m━━━━━━━━━━━━━━━━━━━━\u001b[0m\u001b[37m\u001b[0m \u001b[1m0s\u001b[0m 2ms/step - loss: 0.0844 - precision: 0.9732 - recall: 0.6723 - val_loss: 0.0906 - val_precision: 0.9939 - val_recall: 0.6353\n",
      "Epoch 85/600\n",
      "\u001b[1m110/110\u001b[0m \u001b[32m━━━━━━━━━━━━━━━━━━━━\u001b[0m\u001b[37m\u001b[0m \u001b[1m0s\u001b[0m 2ms/step - loss: 0.0821 - precision: 0.9831 - recall: 0.6824 - val_loss: 0.0911 - val_precision: 0.9939 - val_recall: 0.6353\n",
      "Epoch 86/600\n",
      "\u001b[1m110/110\u001b[0m \u001b[32m━━━━━━━━━━━━━━━━━━━━\u001b[0m\u001b[37m\u001b[0m \u001b[1m0s\u001b[0m 2ms/step - loss: 0.0821 - precision: 0.9832 - recall: 0.6874 - val_loss: 0.0912 - val_precision: 1.0000 - val_recall: 0.6353\n",
      "Epoch 87/600\n",
      "\u001b[1m110/110\u001b[0m \u001b[32m━━━━━━━━━━━━━━━━━━━━\u001b[0m\u001b[37m\u001b[0m \u001b[1m0s\u001b[0m 2ms/step - loss: 0.0818 - precision: 0.9809 - recall: 0.6891 - val_loss: 0.0910 - val_precision: 0.9939 - val_recall: 0.6353\n",
      "Epoch 88/600\n",
      "\u001b[1m110/110\u001b[0m \u001b[32m━━━━━━━━━━━━━━━━━━━━\u001b[0m\u001b[37m\u001b[0m \u001b[1m0s\u001b[0m 2ms/step - loss: 0.0818 - precision: 0.9785 - recall: 0.6891 - val_loss: 0.0911 - val_precision: 0.9939 - val_recall: 0.6353\n",
      "Epoch 89/600\n",
      "\u001b[1m110/110\u001b[0m \u001b[32m━━━━━━━━━━━━━━━━━━━━\u001b[0m\u001b[37m\u001b[0m \u001b[1m0s\u001b[0m 2ms/step - loss: 0.0839 - precision: 0.9877 - recall: 0.6773 - val_loss: 0.0907 - val_precision: 0.9939 - val_recall: 0.6353\n",
      "\u001b[1m94/94\u001b[0m \u001b[32m━━━━━━━━━━━━━━━━━━━━\u001b[0m\u001b[37m\u001b[0m \u001b[1m0s\u001b[0m 890us/step\n",
      "              precision    recall  f1-score   support\n",
      "\n",
      "           0       0.97      1.00      0.98      2745\n",
      "           1       0.99      0.64      0.78       255\n",
      "\n",
      "    accuracy                           0.97      3000\n",
      "   macro avg       0.98      0.82      0.88      3000\n",
      "weighted avg       0.97      0.97      0.97      3000\n",
      "\n",
      "ROC-AUC: 0.973\n"
     ]
    }
   ],
   "source": [
    "from tensorflow.keras.models import Sequential\n",
    "from tensorflow.keras.layers import Input, Dense, Dropout\n",
    "from tensorflow.keras.metrics import Precision, Recall, AUC\n",
    "from tensorflow.keras.callbacks import EarlyStopping\n",
    "\n",
    "model_seq = Sequential()\n",
    "model_seq.add(Input(shape=(X_train.shape[1],)))\n",
    "model_seq.add(Dense(32, activation=\"relu\"))\n",
    "model_seq.add(Dropout(0.3))\n",
    "model_seq.add(Dense(16, activation=\"relu\"))\n",
    "model_seq.add(Dropout(0.3))\n",
    "model_seq.add(Dense(1, activation='sigmoid'))\n",
    "\n",
    "model_seq.compile(optimizer=\"adam\", loss='binary_crossentropy', metrics=[Recall(name=\"recall\"), Precision(name=\"precision\")])\n",
    "early_stop = EarlyStopping(monitor='val_recall', mode='max', patience=30, restore_best_weights=True)\n",
    "\n",
    "history = model_seq.fit(x=X_train, y=y_train, batch_size=64, epochs=600, validation_data=(X_test, y_test), callbacks=[early_stop], verbose=1)\n",
    "\n",
    "y_proba = model_seq.predict(X_test)\n",
    "y_pred = (y_proba > 0.5).astype(\"int32\")\n",
    "\n",
    "from sklearn.metrics import classification_report, roc_auc_score\n",
    "print(classification_report(y_test, y_pred))\n",
    "print(f\"ROC-AUC: {np.round(roc_auc_score(y_test, y_proba), decimals=3)}\")"
   ]
  },
  {
   "cell_type": "markdown",
   "id": "d4923f4b-393b-436d-884f-63e07a00b1cb",
   "metadata": {},
   "source": [
    "**Baseline model + (neurons 64/32/16)**"
   ]
  },
  {
   "cell_type": "code",
   "execution_count": 64,
   "id": "c818cc84-3801-4567-b1b1-bb175638c571",
   "metadata": {
    "scrolled": true
   },
   "outputs": [
    {
     "name": "stdout",
     "output_type": "stream",
     "text": [
      "Epoch 1/600\n",
      "\u001b[1m219/219\u001b[0m \u001b[32m━━━━━━━━━━━━━━━━━━━━\u001b[0m\u001b[37m\u001b[0m \u001b[1m2s\u001b[0m 3ms/step - loss: 0.2531 - precision: 0.5528 - recall: 0.1849 - val_loss: 0.1447 - val_precision: 0.8314 - val_recall: 0.5608\n",
      "Epoch 2/600\n",
      "\u001b[1m219/219\u001b[0m \u001b[32m━━━━━━━━━━━━━━━━━━━━\u001b[0m\u001b[37m\u001b[0m \u001b[1m0s\u001b[0m 2ms/step - loss: 0.1502 - precision: 0.7541 - recall: 0.5361 - val_loss: 0.1321 - val_precision: 0.7817 - val_recall: 0.6039\n",
      "Epoch 3/600\n",
      "\u001b[1m219/219\u001b[0m \u001b[32m━━━━━━━━━━━━━━━━━━━━\u001b[0m\u001b[37m\u001b[0m \u001b[1m0s\u001b[0m 2ms/step - loss: 0.1381 - precision: 0.7849 - recall: 0.5950 - val_loss: 0.1236 - val_precision: 0.7816 - val_recall: 0.6314\n",
      "Epoch 4/600\n",
      "\u001b[1m219/219\u001b[0m \u001b[32m━━━━━━━━━━━━━━━━━━━━\u001b[0m\u001b[37m\u001b[0m \u001b[1m0s\u001b[0m 2ms/step - loss: 0.1322 - precision: 0.7940 - recall: 0.6218 - val_loss: 0.1190 - val_precision: 0.8793 - val_recall: 0.6000\n",
      "Epoch 5/600\n",
      "\u001b[1m219/219\u001b[0m \u001b[32m━━━━━━━━━━━━━━━━━━━━\u001b[0m\u001b[37m\u001b[0m \u001b[1m0s\u001b[0m 2ms/step - loss: 0.1245 - precision: 0.8508 - recall: 0.6134 - val_loss: 0.1159 - val_precision: 0.9048 - val_recall: 0.5961\n",
      "Epoch 6/600\n",
      "\u001b[1m219/219\u001b[0m \u001b[32m━━━━━━━━━━━━━━━━━━━━\u001b[0m\u001b[37m\u001b[0m \u001b[1m0s\u001b[0m 2ms/step - loss: 0.1219 - precision: 0.8480 - recall: 0.6000 - val_loss: 0.1126 - val_precision: 0.9157 - val_recall: 0.5961\n",
      "Epoch 7/600\n",
      "\u001b[1m219/219\u001b[0m \u001b[32m━━━━━━━━━━━━━━━━━━━━\u001b[0m\u001b[37m\u001b[0m \u001b[1m0s\u001b[0m 2ms/step - loss: 0.1192 - precision: 0.8744 - recall: 0.6084 - val_loss: 0.1092 - val_precision: 0.9123 - val_recall: 0.6118\n",
      "Epoch 8/600\n",
      "\u001b[1m219/219\u001b[0m \u001b[32m━━━━━━━━━━━━━━━━━━━━\u001b[0m\u001b[37m\u001b[0m \u001b[1m0s\u001b[0m 2ms/step - loss: 0.1152 - precision: 0.8810 - recall: 0.6218 - val_loss: 0.1081 - val_precision: 0.9536 - val_recall: 0.5647\n",
      "Epoch 9/600\n",
      "\u001b[1m219/219\u001b[0m \u001b[32m━━━━━━━━━━━━━━━━━━━━\u001b[0m\u001b[37m\u001b[0m \u001b[1m0s\u001b[0m 2ms/step - loss: 0.1117 - precision: 0.9107 - recall: 0.6168 - val_loss: 0.1046 - val_precision: 0.9375 - val_recall: 0.5882\n",
      "Epoch 10/600\n",
      "\u001b[1m219/219\u001b[0m \u001b[32m━━━━━━━━━━━━━━━━━━━━\u001b[0m\u001b[37m\u001b[0m \u001b[1m0s\u001b[0m 2ms/step - loss: 0.1110 - precision: 0.9129 - recall: 0.6168 - val_loss: 0.1035 - val_precision: 0.9281 - val_recall: 0.6078\n",
      "Epoch 11/600\n",
      "\u001b[1m219/219\u001b[0m \u001b[32m━━━━━━━━━━━━━━━━━━━━\u001b[0m\u001b[37m\u001b[0m \u001b[1m0s\u001b[0m 2ms/step - loss: 0.1060 - precision: 0.9091 - recall: 0.6387 - val_loss: 0.1013 - val_precision: 0.9615 - val_recall: 0.5882\n",
      "Epoch 12/600\n",
      "\u001b[1m219/219\u001b[0m \u001b[32m━━━━━━━━━━━━━━━━━━━━\u001b[0m\u001b[37m\u001b[0m \u001b[1m0s\u001b[0m 2ms/step - loss: 0.1021 - precision: 0.9458 - recall: 0.6454 - val_loss: 0.0997 - val_precision: 0.9444 - val_recall: 0.6000\n",
      "Epoch 13/600\n",
      "\u001b[1m219/219\u001b[0m \u001b[32m━━━━━━━━━━━━━━━━━━━━\u001b[0m\u001b[37m\u001b[0m \u001b[1m0s\u001b[0m 2ms/step - loss: 0.1060 - precision: 0.9203 - recall: 0.6403 - val_loss: 0.1006 - val_precision: 0.9801 - val_recall: 0.5804\n",
      "Epoch 14/600\n",
      "\u001b[1m219/219\u001b[0m \u001b[32m━━━━━━━━━━━━━━━━━━━━\u001b[0m\u001b[37m\u001b[0m \u001b[1m0s\u001b[0m 2ms/step - loss: 0.1001 - precision: 0.9404 - recall: 0.6370 - val_loss: 0.0985 - val_precision: 0.9627 - val_recall: 0.6078\n",
      "Epoch 15/600\n",
      "\u001b[1m219/219\u001b[0m \u001b[32m━━━━━━━━━━━━━━━━━━━━\u001b[0m\u001b[37m\u001b[0m \u001b[1m0s\u001b[0m 2ms/step - loss: 0.0985 - precision: 0.9481 - recall: 0.6454 - val_loss: 0.0971 - val_precision: 0.9811 - val_recall: 0.6118\n",
      "Epoch 16/600\n",
      "\u001b[1m219/219\u001b[0m \u001b[32m━━━━━━━━━━━━━━━━━━━━\u001b[0m\u001b[37m\u001b[0m \u001b[1m0s\u001b[0m 2ms/step - loss: 0.0977 - precision: 0.9240 - recall: 0.6336 - val_loss: 0.0947 - val_precision: 0.9702 - val_recall: 0.6392\n",
      "Epoch 17/600\n",
      "\u001b[1m219/219\u001b[0m \u001b[32m━━━━━━━━━━━━━━━━━━━━\u001b[0m\u001b[37m\u001b[0m \u001b[1m0s\u001b[0m 2ms/step - loss: 0.0995 - precision: 0.9446 - recall: 0.6303 - val_loss: 0.0946 - val_precision: 0.9814 - val_recall: 0.6196\n",
      "Epoch 18/600\n",
      "\u001b[1m219/219\u001b[0m \u001b[32m━━━━━━━━━━━━━━━━━━━━\u001b[0m\u001b[37m\u001b[0m \u001b[1m0s\u001b[0m 2ms/step - loss: 0.0967 - precision: 0.9485 - recall: 0.6504 - val_loss: 0.0949 - val_precision: 1.0000 - val_recall: 0.6078\n",
      "Epoch 19/600\n",
      "\u001b[1m219/219\u001b[0m \u001b[32m━━━━━━━━━━━━━━━━━━━━\u001b[0m\u001b[37m\u001b[0m \u001b[1m0s\u001b[0m 2ms/step - loss: 0.0964 - precision: 0.9626 - recall: 0.6487 - val_loss: 0.0934 - val_precision: 0.9752 - val_recall: 0.6157\n",
      "Epoch 20/600\n",
      "\u001b[1m219/219\u001b[0m \u001b[32m━━━━━━━━━━━━━━━━━━━━\u001b[0m\u001b[37m\u001b[0m \u001b[1m0s\u001b[0m 2ms/step - loss: 0.0929 - precision: 0.9504 - recall: 0.6437 - val_loss: 0.0947 - val_precision: 0.9752 - val_recall: 0.6157\n",
      "Epoch 21/600\n",
      "\u001b[1m219/219\u001b[0m \u001b[32m━━━━━━━━━━━━━━━━━━━━\u001b[0m\u001b[37m\u001b[0m \u001b[1m0s\u001b[0m 2ms/step - loss: 0.0935 - precision: 0.9646 - recall: 0.6403 - val_loss: 0.0934 - val_precision: 0.9876 - val_recall: 0.6235\n",
      "Epoch 22/600\n",
      "\u001b[1m219/219\u001b[0m \u001b[32m━━━━━━━━━━━━━━━━━━━━\u001b[0m\u001b[37m\u001b[0m \u001b[1m0s\u001b[0m 2ms/step - loss: 0.0909 - precision: 0.9467 - recall: 0.6571 - val_loss: 0.0927 - val_precision: 0.9937 - val_recall: 0.6196\n",
      "Epoch 23/600\n",
      "\u001b[1m219/219\u001b[0m \u001b[32m━━━━━━━━━━━━━━━━━━━━\u001b[0m\u001b[37m\u001b[0m \u001b[1m0s\u001b[0m 2ms/step - loss: 0.0920 - precision: 0.9539 - recall: 0.6605 - val_loss: 0.0923 - val_precision: 0.9877 - val_recall: 0.6275\n",
      "Epoch 24/600\n",
      "\u001b[1m219/219\u001b[0m \u001b[32m━━━━━━━━━━━━━━━━━━━━\u001b[0m\u001b[37m\u001b[0m \u001b[1m0s\u001b[0m 2ms/step - loss: 0.0879 - precision: 0.9661 - recall: 0.6706 - val_loss: 0.0925 - val_precision: 0.9937 - val_recall: 0.6235\n",
      "Epoch 25/600\n",
      "\u001b[1m219/219\u001b[0m \u001b[32m━━━━━━━━━━━━━━━━━━━━\u001b[0m\u001b[37m\u001b[0m \u001b[1m0s\u001b[0m 2ms/step - loss: 0.0893 - precision: 0.9638 - recall: 0.6706 - val_loss: 0.0917 - val_precision: 1.0000 - val_recall: 0.6157\n",
      "Epoch 26/600\n",
      "\u001b[1m219/219\u001b[0m \u001b[32m━━━━━━━━━━━━━━━━━━━━\u001b[0m\u001b[37m\u001b[0m \u001b[1m0s\u001b[0m 2ms/step - loss: 0.0881 - precision: 0.9584 - recall: 0.6588 - val_loss: 0.0909 - val_precision: 1.0000 - val_recall: 0.6196\n",
      "Epoch 27/600\n",
      "\u001b[1m219/219\u001b[0m \u001b[32m━━━━━━━━━━━━━━━━━━━━\u001b[0m\u001b[37m\u001b[0m \u001b[1m0s\u001b[0m 2ms/step - loss: 0.0896 - precision: 0.9588 - recall: 0.6655 - val_loss: 0.0911 - val_precision: 0.9877 - val_recall: 0.6314\n",
      "Epoch 28/600\n",
      "\u001b[1m219/219\u001b[0m \u001b[32m━━━━━━━━━━━━━━━━━━━━\u001b[0m\u001b[37m\u001b[0m \u001b[1m0s\u001b[0m 2ms/step - loss: 0.0873 - precision: 0.9757 - recall: 0.6739 - val_loss: 0.0913 - val_precision: 0.9877 - val_recall: 0.6314\n",
      "Epoch 29/600\n",
      "\u001b[1m219/219\u001b[0m \u001b[32m━━━━━━━━━━━━━━━━━━━━\u001b[0m\u001b[37m\u001b[0m \u001b[1m0s\u001b[0m 2ms/step - loss: 0.0860 - precision: 0.9753 - recall: 0.6639 - val_loss: 0.0905 - val_precision: 0.9817 - val_recall: 0.6314\n",
      "Epoch 30/600\n",
      "\u001b[1m219/219\u001b[0m \u001b[32m━━━━━━━━━━━━━━━━━━━━\u001b[0m\u001b[37m\u001b[0m \u001b[1m0s\u001b[0m 2ms/step - loss: 0.0865 - precision: 0.9709 - recall: 0.6739 - val_loss: 0.0897 - val_precision: 1.0000 - val_recall: 0.6353\n",
      "Epoch 31/600\n",
      "\u001b[1m219/219\u001b[0m \u001b[32m━━━━━━━━━━━━━━━━━━━━\u001b[0m\u001b[37m\u001b[0m \u001b[1m0s\u001b[0m 2ms/step - loss: 0.0842 - precision: 0.9711 - recall: 0.6773 - val_loss: 0.0899 - val_precision: 0.9938 - val_recall: 0.6314\n",
      "Epoch 32/600\n",
      "\u001b[1m219/219\u001b[0m \u001b[32m━━━━━━━━━━━━━━━━━━━━\u001b[0m\u001b[37m\u001b[0m \u001b[1m0s\u001b[0m 2ms/step - loss: 0.0865 - precision: 0.9590 - recall: 0.6689 - val_loss: 0.0897 - val_precision: 0.9877 - val_recall: 0.6314\n",
      "Epoch 33/600\n",
      "\u001b[1m219/219\u001b[0m \u001b[32m━━━━━━━━━━━━━━━━━━━━\u001b[0m\u001b[37m\u001b[0m \u001b[1m0s\u001b[0m 2ms/step - loss: 0.0864 - precision: 0.9668 - recall: 0.6857 - val_loss: 0.0896 - val_precision: 0.9939 - val_recall: 0.6392\n",
      "Epoch 34/600\n",
      "\u001b[1m219/219\u001b[0m \u001b[32m━━━━━━━━━━━━━━━━━━━━\u001b[0m\u001b[37m\u001b[0m \u001b[1m0s\u001b[0m 2ms/step - loss: 0.0827 - precision: 0.9576 - recall: 0.6840 - val_loss: 0.0908 - val_precision: 0.9939 - val_recall: 0.6353\n",
      "Epoch 35/600\n",
      "\u001b[1m219/219\u001b[0m \u001b[32m━━━━━━━━━━━━━━━━━━━━\u001b[0m\u001b[37m\u001b[0m \u001b[1m0s\u001b[0m 2ms/step - loss: 0.0866 - precision: 0.9756 - recall: 0.6706 - val_loss: 0.0900 - val_precision: 1.0000 - val_recall: 0.6314\n",
      "Epoch 36/600\n",
      "\u001b[1m219/219\u001b[0m \u001b[32m━━━━━━━━━━━━━━━━━━━━\u001b[0m\u001b[37m\u001b[0m \u001b[1m0s\u001b[0m 2ms/step - loss: 0.0798 - precision: 0.9649 - recall: 0.6924 - val_loss: 0.0892 - val_precision: 0.9878 - val_recall: 0.6353\n",
      "Epoch 37/600\n",
      "\u001b[1m219/219\u001b[0m \u001b[32m━━━━━━━━━━━━━━━━━━━━\u001b[0m\u001b[37m\u001b[0m \u001b[1m0s\u001b[0m 2ms/step - loss: 0.0805 - precision: 0.9608 - recall: 0.7008 - val_loss: 0.0903 - val_precision: 1.0000 - val_recall: 0.6353\n",
      "Epoch 38/600\n",
      "\u001b[1m219/219\u001b[0m \u001b[32m━━━━━━━━━━━━━━━━━━━━\u001b[0m\u001b[37m\u001b[0m \u001b[1m0s\u001b[0m 2ms/step - loss: 0.0833 - precision: 0.9736 - recall: 0.6807 - val_loss: 0.0899 - val_precision: 1.0000 - val_recall: 0.6353\n",
      "Epoch 39/600\n",
      "\u001b[1m219/219\u001b[0m \u001b[32m━━━━━━━━━━━━━━━━━━━━\u001b[0m\u001b[37m\u001b[0m \u001b[1m0s\u001b[0m 2ms/step - loss: 0.0797 - precision: 0.9738 - recall: 0.6874 - val_loss: 0.0896 - val_precision: 1.0000 - val_recall: 0.6353\n",
      "Epoch 40/600\n",
      "\u001b[1m219/219\u001b[0m \u001b[32m━━━━━━━━━━━━━━━━━━━━\u001b[0m\u001b[37m\u001b[0m \u001b[1m0s\u001b[0m 2ms/step - loss: 0.0833 - precision: 0.9591 - recall: 0.6706 - val_loss: 0.0909 - val_precision: 1.0000 - val_recall: 0.6314\n",
      "Epoch 41/600\n",
      "\u001b[1m219/219\u001b[0m \u001b[32m━━━━━━━━━━━━━━━━━━━━\u001b[0m\u001b[37m\u001b[0m \u001b[1m0s\u001b[0m 2ms/step - loss: 0.0807 - precision: 0.9742 - recall: 0.6975 - val_loss: 0.0894 - val_precision: 0.9939 - val_recall: 0.6353\n",
      "Epoch 42/600\n",
      "\u001b[1m219/219\u001b[0m \u001b[32m━━━━━━━━━━━━━━━━━━━━\u001b[0m\u001b[37m\u001b[0m \u001b[1m0s\u001b[0m 2ms/step - loss: 0.0800 - precision: 0.9566 - recall: 0.7042 - val_loss: 0.0897 - val_precision: 0.9938 - val_recall: 0.6314\n",
      "Epoch 43/600\n",
      "\u001b[1m219/219\u001b[0m \u001b[32m━━━━━━━━━━━━━━━━━━━━\u001b[0m\u001b[37m\u001b[0m \u001b[1m0s\u001b[0m 2ms/step - loss: 0.0793 - precision: 0.9634 - recall: 0.7076 - val_loss: 0.0906 - val_precision: 1.0000 - val_recall: 0.6235\n",
      "Epoch 44/600\n",
      "\u001b[1m219/219\u001b[0m \u001b[32m━━━━━━━━━━━━━━━━━━━━\u001b[0m\u001b[37m\u001b[0m \u001b[1m0s\u001b[0m 2ms/step - loss: 0.0804 - precision: 0.9696 - recall: 0.6975 - val_loss: 0.0894 - val_precision: 0.9939 - val_recall: 0.6353\n",
      "Epoch 45/600\n",
      "\u001b[1m219/219\u001b[0m \u001b[32m━━━━━━━━━━━━━━━━━━━━\u001b[0m\u001b[37m\u001b[0m \u001b[1m0s\u001b[0m 2ms/step - loss: 0.0806 - precision: 0.9742 - recall: 0.6992 - val_loss: 0.0907 - val_precision: 0.9702 - val_recall: 0.6392\n",
      "Epoch 46/600\n",
      "\u001b[1m219/219\u001b[0m \u001b[32m━━━━━━━━━━━━━━━━━━━━\u001b[0m\u001b[37m\u001b[0m \u001b[1m0s\u001b[0m 2ms/step - loss: 0.0767 - precision: 0.9637 - recall: 0.7143 - val_loss: 0.0905 - val_precision: 0.9759 - val_recall: 0.6353\n",
      "\u001b[1m94/94\u001b[0m \u001b[32m━━━━━━━━━━━━━━━━━━━━\u001b[0m\u001b[37m\u001b[0m \u001b[1m0s\u001b[0m 952us/step\n",
      "              precision    recall  f1-score   support\n",
      "\n",
      "           0       0.97      1.00      0.98      2745\n",
      "           1       0.97      0.64      0.77       255\n",
      "\n",
      "    accuracy                           0.97      3000\n",
      "   macro avg       0.97      0.82      0.88      3000\n",
      "weighted avg       0.97      0.97      0.96      3000\n",
      "\n",
      "ROC-AUC: 0.972\n"
     ]
    }
   ],
   "source": [
    "from tensorflow.keras.models import Sequential\n",
    "from tensorflow.keras.layers import Input, Dense, Dropout\n",
    "from tensorflow.keras.metrics import Precision, Recall, AUC\n",
    "from tensorflow.keras.callbacks import EarlyStopping\n",
    "\n",
    "model_seq = Sequential()\n",
    "model_seq.add(Input(shape=(X_train.shape[1],)))\n",
    "model_seq.add(Dense(64, activation=\"relu\"))\n",
    "model_seq.add(Dropout(0.3))\n",
    "model_seq.add(Dense(32, activation=\"relu\"))\n",
    "model_seq.add(Dropout(0.3))\n",
    "model_seq.add(Dense(16, activation=\"relu\"))\n",
    "model_seq.add(Dropout(0.3))\n",
    "model_seq.add(Dense(1, activation='sigmoid'))\n",
    "\n",
    "model_seq.compile(optimizer=\"adam\", loss='binary_crossentropy', metrics=[Recall(name=\"recall\"), Precision(name=\"precision\")])\n",
    "early_stop = EarlyStopping(monitor='val_recall', mode='max', patience=30, restore_best_weights=True)\n",
    "\n",
    "history = model_seq.fit(x=X_train, y=y_train, batch_size=32, epochs=600, validation_data=(X_test, y_test), callbacks=[early_stop], verbose=1)\n",
    "\n",
    "y_proba = model_seq.predict(X_test)\n",
    "y_pred = (y_proba > 0.5).astype(\"int32\")\n",
    "\n",
    "from sklearn.metrics import classification_report, roc_auc_score\n",
    "print(classification_report(y_test, y_pred))\n",
    "print(f\"ROC-AUC: {np.round(roc_auc_score(y_test, y_proba), decimals=3)}\")"
   ]
  },
  {
   "cell_type": "markdown",
   "id": "c5cd5710-b629-4164-a0f1-03d19fa6a531",
   "metadata": {},
   "source": [
    "**Baseline model + (class_weight)**"
   ]
  },
  {
   "cell_type": "code",
   "execution_count": 65,
   "id": "e34c879e-e798-4990-a6ad-8d8a4885e0d2",
   "metadata": {
    "scrolled": true
   },
   "outputs": [
    {
     "name": "stdout",
     "output_type": "stream",
     "text": [
      "Epoch 1/600\n",
      "\u001b[1m219/219\u001b[0m \u001b[32m━━━━━━━━━━━━━━━━━━━━\u001b[0m\u001b[37m\u001b[0m \u001b[1m1s\u001b[0m 3ms/step - loss: 0.4332 - precision: 0.2473 - recall: 0.8739 - val_loss: 0.2833 - val_precision: 0.3536 - val_recall: 0.9373\n",
      "Epoch 2/600\n",
      "\u001b[1m219/219\u001b[0m \u001b[32m━━━━━━━━━━━━━━━━━━━━\u001b[0m\u001b[37m\u001b[0m \u001b[1m0s\u001b[0m 2ms/step - loss: 0.3006 - precision: 0.3348 - recall: 0.9008 - val_loss: 0.2679 - val_precision: 0.3571 - val_recall: 0.9216\n",
      "Epoch 3/600\n",
      "\u001b[1m219/219\u001b[0m \u001b[32m━━━━━━━━━━━━━━━━━━━━\u001b[0m\u001b[37m\u001b[0m \u001b[1m0s\u001b[0m 2ms/step - loss: 0.2778 - precision: 0.3414 - recall: 0.9059 - val_loss: 0.2621 - val_precision: 0.3551 - val_recall: 0.9176\n",
      "Epoch 4/600\n",
      "\u001b[1m219/219\u001b[0m \u001b[32m━━━━━━━━━━━━━━━━━━━━\u001b[0m\u001b[37m\u001b[0m \u001b[1m0s\u001b[0m 2ms/step - loss: 0.2682 - precision: 0.3576 - recall: 0.9176 - val_loss: 0.2444 - val_precision: 0.3752 - val_recall: 0.9137\n",
      "Epoch 5/600\n",
      "\u001b[1m219/219\u001b[0m \u001b[32m━━━━━━━━━━━━━━━━━━━━\u001b[0m\u001b[37m\u001b[0m \u001b[1m0s\u001b[0m 2ms/step - loss: 0.2668 - precision: 0.3527 - recall: 0.8992 - val_loss: 0.2485 - val_precision: 0.3707 - val_recall: 0.9216\n",
      "Epoch 6/600\n",
      "\u001b[1m219/219\u001b[0m \u001b[32m━━━━━━━━━━━━━━━━━━━━\u001b[0m\u001b[37m\u001b[0m \u001b[1m0s\u001b[0m 2ms/step - loss: 0.2540 - precision: 0.3652 - recall: 0.9109 - val_loss: 0.2315 - val_precision: 0.3898 - val_recall: 0.9020\n",
      "Epoch 7/600\n",
      "\u001b[1m219/219\u001b[0m \u001b[32m━━━━━━━━━━━━━━━━━━━━\u001b[0m\u001b[37m\u001b[0m \u001b[1m0s\u001b[0m 2ms/step - loss: 0.2524 - precision: 0.3635 - recall: 0.9059 - val_loss: 0.2381 - val_precision: 0.3801 - val_recall: 0.9137\n",
      "Epoch 8/600\n",
      "\u001b[1m219/219\u001b[0m \u001b[32m━━━━━━━━━━━━━━━━━━━━\u001b[0m\u001b[37m\u001b[0m \u001b[1m0s\u001b[0m 2ms/step - loss: 0.2425 - precision: 0.3805 - recall: 0.9126 - val_loss: 0.2333 - val_precision: 0.3844 - val_recall: 0.9059\n",
      "Epoch 9/600\n",
      "\u001b[1m219/219\u001b[0m \u001b[32m━━━━━━━━━━━━━━━━━━━━\u001b[0m\u001b[37m\u001b[0m \u001b[1m0s\u001b[0m 2ms/step - loss: 0.2420 - precision: 0.3735 - recall: 0.9160 - val_loss: 0.2259 - val_precision: 0.3932 - val_recall: 0.9020\n",
      "Epoch 10/600\n",
      "\u001b[1m219/219\u001b[0m \u001b[32m━━━━━━━━━━━━━━━━━━━━\u001b[0m\u001b[37m\u001b[0m \u001b[1m0s\u001b[0m 2ms/step - loss: 0.2331 - precision: 0.3819 - recall: 0.9210 - val_loss: 0.2200 - val_precision: 0.4071 - val_recall: 0.9020\n",
      "Epoch 11/600\n",
      "\u001b[1m219/219\u001b[0m \u001b[32m━━━━━━━━━━━━━━━━━━━━\u001b[0m\u001b[37m\u001b[0m \u001b[1m0s\u001b[0m 2ms/step - loss: 0.2400 - precision: 0.3816 - recall: 0.9210 - val_loss: 0.2207 - val_precision: 0.4014 - val_recall: 0.9098\n",
      "Epoch 12/600\n",
      "\u001b[1m219/219\u001b[0m \u001b[32m━━━━━━━━━━━━━━━━━━━━\u001b[0m\u001b[37m\u001b[0m \u001b[1m0s\u001b[0m 2ms/step - loss: 0.2339 - precision: 0.3894 - recall: 0.9025 - val_loss: 0.2158 - val_precision: 0.4063 - val_recall: 0.9098\n",
      "Epoch 13/600\n",
      "\u001b[1m219/219\u001b[0m \u001b[32m━━━━━━━━━━━━━━━━━━━━\u001b[0m\u001b[37m\u001b[0m \u001b[1m0s\u001b[0m 2ms/step - loss: 0.2369 - precision: 0.3858 - recall: 0.9025 - val_loss: 0.2177 - val_precision: 0.4007 - val_recall: 0.9098\n",
      "Epoch 14/600\n",
      "\u001b[1m219/219\u001b[0m \u001b[32m━━━━━━━━━━━━━━━━━━━━\u001b[0m\u001b[37m\u001b[0m \u001b[1m0s\u001b[0m 2ms/step - loss: 0.2303 - precision: 0.3797 - recall: 0.9042 - val_loss: 0.2150 - val_precision: 0.4046 - val_recall: 0.9059\n",
      "Epoch 15/600\n",
      "\u001b[1m219/219\u001b[0m \u001b[32m━━━━━━━━━━━━━━━━━━━━\u001b[0m\u001b[37m\u001b[0m \u001b[1m0s\u001b[0m 2ms/step - loss: 0.2309 - precision: 0.3902 - recall: 0.8958 - val_loss: 0.2092 - val_precision: 0.4067 - val_recall: 0.9059\n",
      "Epoch 16/600\n",
      "\u001b[1m219/219\u001b[0m \u001b[32m━━━━━━━━━━━━━━━━━━━━\u001b[0m\u001b[37m\u001b[0m \u001b[1m0s\u001b[0m 2ms/step - loss: 0.2246 - precision: 0.3881 - recall: 0.9126 - val_loss: 0.2077 - val_precision: 0.4089 - val_recall: 0.8980\n",
      "Epoch 17/600\n",
      "\u001b[1m219/219\u001b[0m \u001b[32m━━━━━━━━━━━━━━━━━━━━\u001b[0m\u001b[37m\u001b[0m \u001b[1m0s\u001b[0m 2ms/step - loss: 0.2257 - precision: 0.3968 - recall: 0.9143 - val_loss: 0.2073 - val_precision: 0.4104 - val_recall: 0.8980\n",
      "Epoch 18/600\n",
      "\u001b[1m219/219\u001b[0m \u001b[32m━━━━━━━━━━━━━━━━━━━━\u001b[0m\u001b[37m\u001b[0m \u001b[1m0s\u001b[0m 2ms/step - loss: 0.2196 - precision: 0.3985 - recall: 0.9109 - val_loss: 0.2042 - val_precision: 0.4064 - val_recall: 0.8941\n",
      "Epoch 19/600\n",
      "\u001b[1m219/219\u001b[0m \u001b[32m━━━━━━━━━━━━━━━━━━━━\u001b[0m\u001b[37m\u001b[0m \u001b[1m0s\u001b[0m 2ms/step - loss: 0.2198 - precision: 0.3987 - recall: 0.9160 - val_loss: 0.2042 - val_precision: 0.4067 - val_recall: 0.9059\n",
      "Epoch 20/600\n",
      "\u001b[1m219/219\u001b[0m \u001b[32m━━━━━━━━━━━━━━━━━━━━\u001b[0m\u001b[37m\u001b[0m \u001b[1m0s\u001b[0m 2ms/step - loss: 0.2195 - precision: 0.3987 - recall: 0.9261 - val_loss: 0.2048 - val_precision: 0.4038 - val_recall: 0.9137\n",
      "Epoch 21/600\n",
      "\u001b[1m219/219\u001b[0m \u001b[32m━━━━━━━━━━━━━━━━━━━━\u001b[0m\u001b[37m\u001b[0m \u001b[1m0s\u001b[0m 2ms/step - loss: 0.2125 - precision: 0.3964 - recall: 0.9294 - val_loss: 0.2005 - val_precision: 0.4096 - val_recall: 0.9059\n",
      "Epoch 22/600\n",
      "\u001b[1m219/219\u001b[0m \u001b[32m━━━━━━━━━━━━━━━━━━━━\u001b[0m\u001b[37m\u001b[0m \u001b[1m0s\u001b[0m 2ms/step - loss: 0.2146 - precision: 0.3934 - recall: 0.9210 - val_loss: 0.2091 - val_precision: 0.3936 - val_recall: 0.9137\n",
      "Epoch 23/600\n",
      "\u001b[1m219/219\u001b[0m \u001b[32m━━━━━━━━━━━━━━━━━━━━\u001b[0m\u001b[37m\u001b[0m \u001b[1m0s\u001b[0m 2ms/step - loss: 0.2125 - precision: 0.3891 - recall: 0.9345 - val_loss: 0.2043 - val_precision: 0.4034 - val_recall: 0.9176\n",
      "Epoch 24/600\n",
      "\u001b[1m219/219\u001b[0m \u001b[32m━━━━━━━━━━━━━━━━━━━━\u001b[0m\u001b[37m\u001b[0m \u001b[1m0s\u001b[0m 2ms/step - loss: 0.2146 - precision: 0.3831 - recall: 0.9227 - val_loss: 0.2025 - val_precision: 0.3973 - val_recall: 0.9255\n",
      "Epoch 25/600\n",
      "\u001b[1m219/219\u001b[0m \u001b[32m━━━━━━━━━━━━━━━━━━━━\u001b[0m\u001b[37m\u001b[0m \u001b[1m0s\u001b[0m 2ms/step - loss: 0.2137 - precision: 0.3889 - recall: 0.9328 - val_loss: 0.1984 - val_precision: 0.4018 - val_recall: 0.8980\n",
      "Epoch 26/600\n",
      "\u001b[1m219/219\u001b[0m \u001b[32m━━━━━━━━━━━━━━━━━━━━\u001b[0m\u001b[37m\u001b[0m \u001b[1m0s\u001b[0m 2ms/step - loss: 0.2114 - precision: 0.3840 - recall: 0.9294 - val_loss: 0.2020 - val_precision: 0.4017 - val_recall: 0.9137\n",
      "Epoch 27/600\n",
      "\u001b[1m219/219\u001b[0m \u001b[32m━━━━━━━━━━━━━━━━━━━━\u001b[0m\u001b[37m\u001b[0m \u001b[1m0s\u001b[0m 2ms/step - loss: 0.2088 - precision: 0.3960 - recall: 0.9311 - val_loss: 0.2001 - val_precision: 0.4014 - val_recall: 0.9020\n",
      "Epoch 28/600\n",
      "\u001b[1m219/219\u001b[0m \u001b[32m━━━━━━━━━━━━━━━━━━━━\u001b[0m\u001b[37m\u001b[0m \u001b[1m0s\u001b[0m 2ms/step - loss: 0.2055 - precision: 0.4000 - recall: 0.9345 - val_loss: 0.1987 - val_precision: 0.3979 - val_recall: 0.9098\n",
      "Epoch 29/600\n",
      "\u001b[1m219/219\u001b[0m \u001b[32m━━━━━━━━━━━━━━━━━━━━\u001b[0m\u001b[37m\u001b[0m \u001b[1m0s\u001b[0m 2ms/step - loss: 0.2043 - precision: 0.3965 - recall: 0.9395 - val_loss: 0.1954 - val_precision: 0.4074 - val_recall: 0.9059\n",
      "Epoch 30/600\n",
      "\u001b[1m219/219\u001b[0m \u001b[32m━━━━━━━━━━━━━━━━━━━━\u001b[0m\u001b[37m\u001b[0m \u001b[1m0s\u001b[0m 2ms/step - loss: 0.2109 - precision: 0.3873 - recall: 0.9361 - val_loss: 0.1984 - val_precision: 0.4007 - val_recall: 0.9176\n",
      "Epoch 31/600\n",
      "\u001b[1m219/219\u001b[0m \u001b[32m━━━━━━━━━━━━━━━━━━━━\u001b[0m\u001b[37m\u001b[0m \u001b[1m0s\u001b[0m 2ms/step - loss: 0.2053 - precision: 0.3956 - recall: 0.9361 - val_loss: 0.1945 - val_precision: 0.4109 - val_recall: 0.9137\n",
      "\u001b[1m94/94\u001b[0m \u001b[32m━━━━━━━━━━━━━━━━━━━━\u001b[0m\u001b[37m\u001b[0m \u001b[1m0s\u001b[0m 895us/step\n",
      "              precision    recall  f1-score   support\n",
      "\n",
      "           0       0.99      0.84      0.91      2745\n",
      "           1       0.35      0.94      0.51       255\n",
      "\n",
      "    accuracy                           0.85      3000\n",
      "   macro avg       0.67      0.89      0.71      3000\n",
      "weighted avg       0.94      0.85      0.88      3000\n",
      "\n",
      "ROC-AUC: 0.96\n"
     ]
    }
   ],
   "source": [
    "from tensorflow.keras.models import Sequential\n",
    "from tensorflow.keras.layers import Input, Dense, Dropout\n",
    "from tensorflow.keras.metrics import Precision, Recall, AUC\n",
    "from tensorflow.keras.callbacks import EarlyStopping\n",
    "from sklearn.utils import class_weight\n",
    "\n",
    "model_seq = Sequential()\n",
    "model_seq.add(Input(shape=(X_train.shape[1],)))\n",
    "model_seq.add(Dense(32, activation=\"relu\"))\n",
    "model_seq.add(Dropout(0.3))\n",
    "model_seq.add(Dense(16, activation=\"relu\"))\n",
    "model_seq.add(Dropout(0.3))\n",
    "model_seq.add(Dense(1, activation='sigmoid'))\n",
    "\n",
    "model_seq.compile(optimizer=\"adam\", loss='binary_crossentropy', metrics=[Recall(name=\"recall\"), Precision(name=\"precision\")])\n",
    "early_stop = EarlyStopping(monitor='val_recall', mode='max', patience=30, restore_best_weights=True)\n",
    "\n",
    "weights = class_weight.compute_class_weight(class_weight=\"balanced\", classes=np.unique(y_train), y=y_train)\n",
    "class_weights_dict = {0: weights[0], 1: weights[1]}\n",
    "\n",
    "history = model_seq.fit(x=X_train, y=y_train, batch_size=32, epochs=600, validation_data=(X_test, y_test),\n",
    "                    callbacks=[early_stop], class_weight=class_weights_dict, verbose=1)\n",
    "\n",
    "y_proba = model_seq.predict(X_test)\n",
    "y_pred = (y_proba > 0.5).astype(\"int32\")\n",
    "\n",
    "from sklearn.metrics import classification_report, roc_auc_score\n",
    "print(classification_report(y_test, y_pred))\n",
    "print(f\"ROC-AUC: {np.round(roc_auc_score(y_test, y_proba), decimals=3)}\")"
   ]
  },
  {
   "cell_type": "code",
   "execution_count": 66,
   "id": "adc54eb1-e31d-41b1-8a31-cd38940fcf03",
   "metadata": {},
   "outputs": [
    {
     "data": {
      "text/plain": [
       "<matplotlib.legend.Legend at 0x176b34e1450>"
      ]
     },
     "execution_count": 66,
     "metadata": {},
     "output_type": "execute_result"
    },
    {
     "data": {
      "image/png": "[encoded data removed]",
      "text/plain": [
       "<Figure size 640x480 with 1 Axes>"
      ]
     },
     "metadata": {},
     "output_type": "display_data"
    }
   ],
   "source": [
    "from sklearn.metrics import precision_score, recall_score\n",
    "\n",
    "thresholds = np.arange(0.1, 0.9, 0.01)\n",
    "precisions = []\n",
    "recalls = []\n",
    "\n",
    "for t in thresholds:\n",
    "    y_pred_thresh = (y_proba >= t).astype(\"int32\")\n",
    "    precisions.append(precision_score(y_test, y_pred_thresh))\n",
    "    recalls.append(recall_score(y_test, y_pred_thresh))\n",
    "\n",
    "plt.plot(thresholds, recalls, label='Recall')\n",
    "plt.plot(thresholds, precisions, label='Precision')\n",
    "plt.xlabel('Threshold')\n",
    "plt.ylabel('Score')\n",
    "plt.title('Precision vs Recall by Threshold')\n",
    "plt.legend()\n"
   ]
  },
  {
   "cell_type": "markdown",
   "id": "9ed0d2f4-0520-4b77-9bc4-ccbd2761a7a8",
   "metadata": {},
   "source": [
    "It looks like the threshold at 0.5 is ok."
   ]
  },
  {
   "cell_type": "markdown",
   "id": "071e805b-aa04-45ed-b93d-05927f5442c8",
   "metadata": {},
   "source": [
    "## Model Results"
   ]
  },
  {
   "cell_type": "markdown",
   "id": "86698847-b7fe-411d-8dac-6985de6c3745",
   "metadata": {},
   "source": [
    "<table>\n",
    "    <tr>\n",
    "        <th></th>\n",
    "        <th>Recall (class 1)</th>\n",
    "        <th>F1-Score (class 1)</th>\n",
    "        <th>ROC-AUC</tr>\n",
    "    </tr>\n",
    "    <tr style=\"background-color: #d4edda;\"\">\n",
    "        <td><b>Keras Sequential Model</b></td>\n",
    "        <td>0.94</td>\n",
    "        <td>0.51</td>\n",
    "        <td>0.96</td>\n",
    "    </tr>\n",
    "</table>"
   ]
  },
  {
   "cell_type": "markdown",
   "id": "6878b027-49e1-401c-b914-81b258211a64",
   "metadata": {},
   "source": [
    "The results of the Deep Learning models for the various parameters can be found in this <a href=\"Results.xlsx\">LINK</a>."
   ]
  },
  {
   "cell_type": "markdown",
   "id": "412b558c-1aea-479d-868a-e5c7ed2a90b6",
   "metadata": {},
   "source": [
    "# Conclusion"
   ]
  },
  {
   "cell_type": "markdown",
   "id": "7de28a0a-36df-4232-ba4b-a8f9cee8573b",
   "metadata": {},
   "source": [
    "Below is a table comparing the best-performing results of the machine learning and deep learning models. Given the medical context, the recall for class 1 (diabetes-positive patients) is considered the primary metric, while the F1-score and ROC-AUC serve as secondary metrics."
   ]
  },
  {
   "cell_type": "markdown",
   "id": "7f3dbe54-fbe7-4bc7-849e-aa4f7448a019",
   "metadata": {},
   "source": [
    "<table>\n",
    "    <tr>\n",
    "        <th></th>\n",
    "        <th>Recall (class 1)</th>\n",
    "        <th>F1-Score (class 1)</th>\n",
    "        <th>ROC-AUC</tr>\n",
    "    </tr>\n",
    "    <tr style=\"background-color: #d4edda;\">\n",
    "        <td><b>Random Forest (machine learning)</b></td>\n",
    "        <td>0.91</td>\n",
    "        <td>0.61</td>\n",
    "        <td>0.976</td>\n",
    "    </tr>\n",
    "    <tr>\n",
    "        <td><b>Sequential (deep learning)</b></td>\n",
    "        <td>0.94</td>\n",
    "        <td>0.51</td>\n",
    "        <td>0.96</td>\n",
    "    </tr>\n",
    "</table>"
   ]
  },
  {
   "cell_type": "markdown",
   "id": "5a436cfa-dbbc-41be-9623-dd7b7829e822",
   "metadata": {},
   "source": [
    "Although the Sequential (deep learning) model achieves slightly higher recall for diabetes-positive patients, the Random Forest (machine learning) model is chosen due to its lighter computational requirements, better overall balance in F1-score and ROC-AUC, and greater interpretability. The small decrease in recall is considered acceptable in practical deployment, especially since uncertain cases can be flagged for further review."
   ]
  },
  {
   "cell_type": "markdown",
   "id": "d231e08d-38c1-4bca-8b58-ed74bf70ff93",
   "metadata": {},
   "source": [
    "# Save model"
   ]
  },
  {
   "cell_type": "markdown",
   "id": "74ba23cf-7cb3-421a-b763-226c65ff6ed3",
   "metadata": {},
   "source": [
    "We will save the optimal model for future applications."
   ]
  },
  {
   "cell_type": "code",
   "execution_count": 67,
   "id": "f3b25f76-936d-4fae-b786-d7f939a71a06",
   "metadata": {},
   "outputs": [
    {
     "data": {
      "text/plain": [
       "['random_forest_model.pkl']"
      ]
     },
     "execution_count": 67,
     "metadata": {},
     "output_type": "execute_result"
    }
   ],
   "source": [
    "import joblib\n",
    "\n",
    "joblib.dump(model_rf, 'random_forest_model.pkl')"
   ]
  },
  {
   "cell_type": "code",
   "execution_count": null,
   "id": "53ba5326-8485-4b2a-bd6c-02636171c1ec",
   "metadata": {},
   "outputs": [],
   "source": []
  },
  {
   "cell_type": "code",
   "execution_count": null,
   "id": "9f78a6e3-69eb-4bb2-bb05-5fc17270eb8c",
   "metadata": {},
   "outputs": [],
   "source": []
  },
  {
   "cell_type": "code",
   "execution_count": null,
   "id": "3db0fc99-4e7d-49f0-9fe8-69d661ea45d5",
   "metadata": {},
   "outputs": [],
   "source": []
  }
 ],
 "metadata": {
  "kernelspec": {
   "display_name": "Python [conda env:mydatascienceenv]",
   "language": "python",
   "name": "conda-env-mydatascienceenv-py"
  },
  "language_info": {
   "codemirror_mode": {
    "name": "ipython",
    "version": 3
   },
   "file_extension": ".py",
   "mimetype": "text/x-python",
   "name": "python",
   "nbconvert_exporter": "python",
   "pygments_lexer": "ipython3",
   "version": "3.13.5"
  }
 },
 "nbformat": 4,
 "nbformat_minor": 5
}
